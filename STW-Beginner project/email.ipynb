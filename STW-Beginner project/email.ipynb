{
 "metadata": {
  "language_info": {
   "codemirror_mode": {
    "name": "ipython",
    "version": 3
   },
   "file_extension": ".py",
   "mimetype": "text/x-python",
   "name": "python",
   "nbconvert_exporter": "python",
   "pygments_lexer": "ipython3",
   "version": "3.9.5"
  },
  "orig_nbformat": 2,
  "kernelspec": {
   "name": "python3",
   "display_name": "Python 3.9.5 64-bit"
  },
  "metadata": {
   "interpreter": {
    "hash": "74d3e24790f1ef530e03559631f4fea87f2a1c416d85f4f41a43eca64fa955b6"
   }
  },
  "interpreter": {
   "hash": "07763b07dd345df0df90bde52633d3222b7832c508eb3fe4f46b49a6924c5a83"
  }
 },
 "nbformat": 4,
 "nbformat_minor": 2,
 "cells": [
  {
   "source": [
    "# Final Project \n",
    "\n",
    "Please write your learnings in a explainable way in the markdown format in the last cell\n",
    "\n",
    "Rename this file as (yourname)_(yourcollege).ipynb\n"
   ],
   "cell_type": "markdown",
   "metadata": {}
  },
  {
   "cell_type": "code",
   "execution_count": null,
   "metadata": {},
   "outputs": [],
   "source": [
    "#Import required modules like smtplib\n",
    "#Check the documentation for smtplib for how to use and send mails \n",
    "\n",
    "import _____\n",
    "#File I/O, see the sample_emails.csv file to understand the data (mail,grades)\n",
    "####CODE HERE####"
   ]
  },
  {
   "cell_type": "code",
   "execution_count": null,
   "metadata": {},
   "outputs": [],
   "source": [
    "#Filter out the following from the emails sample_emails.csv:\n",
    "#1.names\n",
    "#2.their domain(outlook or gmail or yahoo)\n"
   ]
  },
  {
   "cell_type": "code",
   "execution_count": null,
   "metadata": {},
   "outputs": [],
   "source": [
    "message = \"\"\"Subject: Congratulations for being with us in the workshop of STW-PDW\n",
    "\n",
    "Dear {name},\\n\n",
    "We have evaluated your performance. Your grade is {grade}.\\n\n",
    "Hearty Congratulations for your sincere participation..!\n",
    "\\n\n",
    "With Regards,\\n\n",
    "STW-PDW Team.\"\"\"\n",
    "#You are encouraged to try your own formatted string\n",
    "from_address = #your email id\n",
    "password = #your own password #input(\"Type your password and press enter: \")\n"
   ]
  },
  {
   "cell_type": "code",
   "execution_count": null,
   "metadata": {},
   "outputs": [],
   "source": [
    "#Get an idea of what sending a mail through python means & implement..!\n"
   ]
  },
  {
   "source": [
    "Share your learnings here..! in markdown format"
   ],
   "cell_type": "markdown",
   "metadata": {}
  },
  {
   "source": [],
   "cell_type": "markdown",
   "metadata": {}
  }
 ]
}