{
 "cells": [
  {
   "cell_type": "markdown",
   "metadata": {},
   "source": [
    "**Tools - NumPy**\n",
    "\n",
    "*NumPy is the fundamental library for scientific computing with Python. NumPy is centered around a powerful N-dimensional array object, and it also contains useful linear algebra, Fourier transform, and random number functions.*"
   ]
  },
  {
   "cell_type": "markdown",
   "metadata": {},
   "source": [
    "<table align=\"left\">\n",
    "  <td>\n",
    "    <a href=\"https://colab.research.google.com/github/ageron/handson-ml2/blob/master/tools_numpy.ipynb\" target=\"_parent\"><img src=\"https://colab.research.google.com/assets/colab-badge.svg\" alt=\"Open In Colab\"/></a>\n",
    "  </td>\n",
    "  <td>\n",
    "    <a target=\"_blank\" href=\"https://kaggle.com/kernels/welcome?src=https://github.com/ageron/handson-ml2/blob/master/tools_numpy.ipynb\"><img src=\"https://kaggle.com/static/images/open-in-kaggle.svg\" /></a>\n",
    "  </td>\n",
    "</table>"
   ]
  },
  {
   "cell_type": "markdown",
   "metadata": {},
   "source": [
    "# Creating Arrays"
   ]
  },
  {
   "cell_type": "markdown",
   "metadata": {},
   "source": [
    "Now let's import `numpy`. Most people import it as `np`:"
   ]
  },
  {
   "cell_type": "code",
   "execution_count": 2,
   "metadata": {},
   "outputs": [],
   "source": [
    "import numpy as np"
   ]
  },
  {
   "cell_type": "markdown",
   "metadata": {},
   "source": [
    "## `np.zeros`"
   ]
  },
  {
   "cell_type": "markdown",
   "metadata": {},
   "source": [
    "The `zeros` function creates an array containing any number of zeros:"
   ]
  },
  {
   "cell_type": "code",
   "execution_count": 3,
   "metadata": {},
   "outputs": [
    {
     "output_type": "execute_result",
     "data": {
      "text/plain": [
       "array([0., 0., 0., 0., 0.])"
      ]
     },
     "metadata": {},
     "execution_count": 3
    }
   ],
   "source": [
    "np.zeros(5)"
   ]
  },
  {
   "cell_type": "markdown",
   "metadata": {},
   "source": [
    "It's just as easy to create a 2D array (ie. a matrix) by providing a tuple with the desired number of rows and columns. For example, here's a 3x4 matrix:"
   ]
  },
  {
   "cell_type": "code",
   "execution_count": 4,
   "metadata": {},
   "outputs": [
    {
     "output_type": "execute_result",
     "data": {
      "text/plain": [
       "array([[0., 0., 0., 0.],\n",
       "       [0., 0., 0., 0.],\n",
       "       [0., 0., 0., 0.]])"
      ]
     },
     "metadata": {},
     "execution_count": 4
    }
   ],
   "source": [
    "np.zeros((3,4))"
   ]
  },
  {
   "cell_type": "markdown",
   "metadata": {},
   "source": [
    "## Some vocabulary\n",
    "\n",
    "* In NumPy, each dimension is called an **axis**.\n",
    "* The number of axes is called the **rank**.\n",
    "    * For example, the above 3x4 matrix is an array of rank 2 (it is 2-dimensional).\n",
    "    * The first axis has length 3, the second has length 4.\n",
    "* An array's list of axis lengths is called the **shape** of the array.\n",
    "    * For example, the above matrix's shape is `(3, 4)`.\n",
    "    * The rank is equal to the shape's length.\n",
    "* The **size** of an array is the total number of elements, which is the product of all axis lengths (eg. 3*4=12)"
   ]
  },
  {
   "cell_type": "code",
   "execution_count": 5,
   "metadata": {},
   "outputs": [
    {
     "output_type": "execute_result",
     "data": {
      "text/plain": [
       "array([[0., 0., 0., 0.],\n",
       "       [0., 0., 0., 0.],\n",
       "       [0., 0., 0., 0.]])"
      ]
     },
     "metadata": {},
     "execution_count": 5
    }
   ],
   "source": [
    "a = np.zeros((3,4))\n",
    "a\n"
   ]
  },
  {
   "cell_type": "code",
   "execution_count": 6,
   "metadata": {},
   "outputs": [
    {
     "output_type": "execute_result",
     "data": {
      "text/plain": [
       "(3, 4)"
      ]
     },
     "metadata": {},
     "execution_count": 6
    }
   ],
   "source": [
    "a.shape"
   ]
  },
  {
   "cell_type": "code",
   "execution_count": 7,
   "metadata": {},
   "outputs": [
    {
     "output_type": "execute_result",
     "data": {
      "text/plain": [
       "2"
      ]
     },
     "metadata": {},
     "execution_count": 7
    }
   ],
   "source": [
    "a.ndim  # equal to len(a.shape)"
   ]
  },
  {
   "cell_type": "code",
   "execution_count": 8,
   "metadata": {},
   "outputs": [
    {
     "output_type": "execute_result",
     "data": {
      "text/plain": [
       "12"
      ]
     },
     "metadata": {},
     "execution_count": 8
    }
   ],
   "source": [
    "a.size"
   ]
  },
  {
   "cell_type": "markdown",
   "metadata": {},
   "source": [
    "## N-dimensional arrays\n",
    "You can also create an N-dimensional array of arbitrary rank. For example, here's a 3D array (rank=3), with shape `(2,3,4)`:"
   ]
  },
  {
   "cell_type": "code",
   "execution_count": 9,
   "metadata": {},
   "outputs": [
    {
     "output_type": "execute_result",
     "data": {
      "text/plain": [
       "array([[[0., 0., 0., 0.],\n",
       "        [0., 0., 0., 0.],\n",
       "        [0., 0., 0., 0.]],\n",
       "\n",
       "       [[0., 0., 0., 0.],\n",
       "        [0., 0., 0., 0.],\n",
       "        [0., 0., 0., 0.]]])"
      ]
     },
     "metadata": {},
     "execution_count": 9
    }
   ],
   "source": [
    "np.zeros((2,3,4))"
   ]
  },
  {
   "cell_type": "markdown",
   "metadata": {},
   "source": [
    "## Array type\n",
    "NumPy arrays have the type `ndarray`s:"
   ]
  },
  {
   "cell_type": "code",
   "execution_count": 10,
   "metadata": {},
   "outputs": [
    {
     "output_type": "execute_result",
     "data": {
      "text/plain": [
       "numpy.ndarray"
      ]
     },
     "metadata": {},
     "execution_count": 10
    }
   ],
   "source": [
    "type(np.zeros((3,4)))"
   ]
  },
  {
   "cell_type": "markdown",
   "metadata": {},
   "source": [
    "## `np.ones`\n",
    "Many other NumPy functions create `ndarrays`.\n",
    "\n",
    "Here's a 3x4 matrix full of ones:"
   ]
  },
  {
   "cell_type": "code",
   "execution_count": 11,
   "metadata": {},
   "outputs": [
    {
     "output_type": "execute_result",
     "data": {
      "text/plain": [
       "array([[1., 1., 1., 1.],\n",
       "       [1., 1., 1., 1.],\n",
       "       [1., 1., 1., 1.]])"
      ]
     },
     "metadata": {},
     "execution_count": 11
    }
   ],
   "source": [
    "np.ones((3,4))"
   ]
  },
  {
   "cell_type": "markdown",
   "metadata": {},
   "source": [
    "## `np.full`\n",
    "Creates an array of the given shape initialized with the given value. Here's a 3x4 matrix full of `π`."
   ]
  },
  {
   "cell_type": "code",
   "execution_count": 12,
   "metadata": {},
   "outputs": [
    {
     "output_type": "execute_result",
     "data": {
      "text/plain": [
       "array([[3.14159265, 3.14159265, 3.14159265, 3.14159265],\n",
       "       [3.14159265, 3.14159265, 3.14159265, 3.14159265],\n",
       "       [3.14159265, 3.14159265, 3.14159265, 3.14159265]])"
      ]
     },
     "metadata": {},
     "execution_count": 12
    }
   ],
   "source": [
    "np.full((3,4), np.pi)\n",
    "#math.pi or np.pi"
   ]
  },
  {
   "cell_type": "markdown",
   "metadata": {},
   "source": [
    "## `np.empty`\n",
    "An uninitialized 2x3 array (its content is not predictable, as it is whatever is in memory at that point):"
   ]
  },
  {
   "cell_type": "code",
   "execution_count": 13,
   "metadata": {
    "scrolled": true
   },
   "outputs": [
    {
     "output_type": "execute_result",
     "data": {
      "text/plain": [
       "array([[0., 0., 0.],\n",
       "       [0., 0., 0.]])"
      ]
     },
     "metadata": {},
     "execution_count": 13
    }
   ],
   "source": [
    "np.empty((2,3))"
   ]
  },
  {
   "cell_type": "markdown",
   "metadata": {},
   "source": [
    "## `np.array`\n",
    "Of course you can initialize an `ndarray` using a regular python array. Just call the `array` function:"
   ]
  },
  {
   "cell_type": "code",
   "execution_count": 14,
   "metadata": {},
   "outputs": [
    {
     "output_type": "stream",
     "name": "stdout",
     "text": [
      "[[ 1  2  3  4]\n [10 20 30 40]]\n[[1, 2, 3, 4], [10, 20, 30, 40]]\n"
     ]
    }
   ],
   "source": [
    "print(np.array([[1,2,3,4], [10, 20, 30, 40]]))\n",
    "print([[1,2,3,4], [10, 20, 30, 40]])"
   ]
  },
  {
   "cell_type": "markdown",
   "metadata": {},
   "source": [
    "## `np.arange`\n",
    "You can create an `ndarray` using NumPy's `arange` function, which is similar to python's built-in `range` function:"
   ]
  },
  {
   "cell_type": "code",
   "execution_count": 15,
   "metadata": {
    "scrolled": true
   },
   "outputs": [
    {
     "output_type": "execute_result",
     "data": {
      "text/plain": [
       "array([1, 2, 3, 4])"
      ]
     },
     "metadata": {},
     "execution_count": 15
    }
   ],
   "source": [
    "np.arange(1, 5) #[)"
   ]
  },
  {
   "cell_type": "markdown",
   "metadata": {},
   "source": [
    "It also works with floats:"
   ]
  },
  {
   "cell_type": "code",
   "execution_count": 16,
   "metadata": {},
   "outputs": [
    {
     "output_type": "execute_result",
     "data": {
      "text/plain": [
       "array([1., 2., 3., 4.])"
      ]
     },
     "metadata": {},
     "execution_count": 16
    }
   ],
   "source": [
    "np.arange(1.0, 5.0)"
   ]
  },
  {
   "cell_type": "markdown",
   "metadata": {},
   "source": [
    "Of course you can provide a step parameter:"
   ]
  },
  {
   "cell_type": "code",
   "execution_count": 17,
   "metadata": {},
   "outputs": [
    {
     "output_type": "execute_result",
     "data": {
      "text/plain": [
       "array([1. , 1.5, 2. , 2.5, 3. , 3.5, 4. , 4.5])"
      ]
     },
     "metadata": {},
     "execution_count": 17
    }
   ],
   "source": [
    "np.arange(1, 5, 0.5)"
   ]
  },
  {
   "cell_type": "markdown",
   "metadata": {},
   "source": [
    "However, when dealing with floats, the exact number of elements in the array is not always predictible. For example, consider this:"
   ]
  },
  {
   "cell_type": "code",
   "execution_count": 18,
   "metadata": {},
   "outputs": [
    {
     "output_type": "stream",
     "name": "stdout",
     "text": [
      "[0.         0.33333333 0.66666667 1.         1.33333333 1.66666667]\n[0.         0.33333333 0.66666667 1.         1.33333333 1.66666667]\n[0.         0.33333333 0.66666667 1.         1.33333334]\n"
     ]
    }
   ],
   "source": [
    "print(np.arange(0, 5/3, 1/3)) # depending on floating point errors, the max value is 4/3 or 5/3.\n",
    "print(np.arange(0, 5/3, 0.333333333))\n",
    "print(np.arange(0, 5/3, 0.333333334))\n"
   ]
  },
  {
   "cell_type": "markdown",
   "metadata": {},
   "source": [
    "## `np.linspace`\n",
    "For this reason, it is generally preferable to use the `linspace` function instead of `arange` when working with floats. The `linspace` function returns an array containing a specific number of points evenly distributed between two values (note that the maximum value is *included*, contrary to `arange`):"
   ]
  },
  {
   "cell_type": "code",
   "execution_count": 19,
   "metadata": {},
   "outputs": [
    {
     "output_type": "stream",
     "name": "stdout",
     "text": [
      "[0.         0.33333333 0.66666667 1.         1.33333333 1.66666667]\n"
     ]
    }
   ],
   "source": [
    "print(np.linspace(0, 5/3, 6)) #(start, stop, num)"
   ]
  },
  {
   "cell_type": "markdown",
   "metadata": {},
   "source": [
    "## `np.rand` and `np.randn`\n",
    "A number of functions are available in NumPy's `random` module to create `ndarray`s initialized with random values.\n",
    "For example, here is a 3x4 matrix initialized with random floats between 0 and 1 (uniform distribution):"
   ]
  },
  {
   "cell_type": "code",
   "execution_count": 20,
   "metadata": {},
   "outputs": [
    {
     "output_type": "execute_result",
     "data": {
      "text/plain": [
       "array([[0.20426021, 0.09571757, 0.52572364, 0.69228391],\n",
       "       [0.3388089 , 0.24291604, 0.86090867, 0.84445872],\n",
       "       [0.72638764, 0.12546418, 0.81989109, 0.07840026]])"
      ]
     },
     "metadata": {},
     "execution_count": 20
    }
   ],
   "source": [
    "np.random.rand(3,4)"
   ]
  },
  {
   "cell_type": "markdown",
   "metadata": {},
   "source": [
    "Here's a 3x4 matrix containing random floats sampled from a univariate [normal distribution](https://en.wikipedia.org/wiki/Normal_distribution) (Gaussian distribution) of mean 0 and variance 1:"
   ]
  },
  {
   "cell_type": "code",
   "execution_count": 21,
   "metadata": {},
   "outputs": [
    {
     "output_type": "execute_result",
     "data": {
      "text/plain": [
       "array([[ 0.35506286,  1.4013018 ,  0.34079919,  0.18711369],\n",
       "       [-0.12168101,  0.17591623, -0.95400316, -0.24825038],\n",
       "       [-1.01562668, -1.46775621, -1.62689338,  0.11330835]])"
      ]
     },
     "metadata": {},
     "execution_count": 21
    }
   ],
   "source": [
    "np.random.randn(3,4)"
   ]
  },
  {
   "cell_type": "markdown",
   "metadata": {},
   "source": [
    "To give you a feel of what these distributions look like, let's use matplotlib (see the [matplotlib tutorial](tools_matplotlib.ipynb) for more details):"
   ]
  },
  {
   "cell_type": "code",
   "execution_count": 22,
   "metadata": {},
   "outputs": [],
   "source": [
    "%matplotlib inline\n",
    "import matplotlib.pyplot as plt"
   ]
  },
  {
   "cell_type": "code",
   "execution_count": 23,
   "metadata": {},
   "outputs": [
    {
     "output_type": "display_data",
     "data": {
      "text/plain": "<Figure size 432x288 with 1 Axes>",
      "image/svg+xml": "<?xml version=\"1.0\" encoding=\"utf-8\" standalone=\"no\"?>\r\n<!DOCTYPE svg PUBLIC \"-//W3C//DTD SVG 1.1//EN\"\r\n  \"http://www.w3.org/Graphics/SVG/1.1/DTD/svg11.dtd\">\r\n<!-- Created with matplotlib (https://matplotlib.org/) -->\r\n<svg height=\"277.314375pt\" version=\"1.1\" viewBox=\"0 0 385.78125 277.314375\" width=\"385.78125pt\" xmlns=\"http://www.w3.org/2000/svg\" xmlns:xlink=\"http://www.w3.org/1999/xlink\">\r\n <metadata>\r\n  <rdf:RDF xmlns:cc=\"http://creativecommons.org/ns#\" xmlns:dc=\"http://purl.org/dc/elements/1.1/\" xmlns:rdf=\"http://www.w3.org/1999/02/22-rdf-syntax-ns#\">\r\n   <cc:Work>\r\n    <dc:type rdf:resource=\"http://purl.org/dc/dcmitype/StillImage\"/>\r\n    <dc:date>2021-06-15T10:12:34.399675</dc:date>\r\n    <dc:format>image/svg+xml</dc:format>\r\n    <dc:creator>\r\n     <cc:Agent>\r\n      <dc:title>Matplotlib v3.3.4, https://matplotlib.org/</dc:title>\r\n     </cc:Agent>\r\n    </dc:creator>\r\n   </cc:Work>\r\n  </rdf:RDF>\r\n </metadata>\r\n <defs>\r\n  <style type=\"text/css\">*{stroke-linecap:butt;stroke-linejoin:round;}</style>\r\n </defs>\r\n <g id=\"figure_1\">\r\n  <g id=\"patch_1\">\r\n   <path d=\"M 0 277.314375 \r\nL 385.78125 277.314375 \r\nL 385.78125 0 \r\nL 0 0 \r\nz\r\n\" style=\"fill:none;\"/>\r\n  </g>\r\n  <g id=\"axes_1\">\r\n   <g id=\"patch_2\">\r\n    <path d=\"M 43.78125 239.758125 \r\nL 378.58125 239.758125 \r\nL 378.58125 22.318125 \r\nL 43.78125 22.318125 \r\nz\r\n\"/>\r\n   </g>\r\n   <g id=\"matplotlib.axis_1\">\r\n    <g id=\"xtick_1\">\r\n     <g id=\"line2d_1\">\r\n      <defs>\r\n       <path d=\"M 0 0 \r\nL 0 3.5 \r\n\" id=\"mbb7ba5f985\" style=\"stroke:#ffffff;stroke-width:0.8;\"/>\r\n      </defs>\r\n      <g>\r\n       <use style=\"fill:#ffffff;stroke:#ffffff;stroke-width:0.8;\" x=\"77.26125\" xlink:href=\"#mbb7ba5f985\" y=\"239.758125\"/>\r\n      </g>\r\n     </g>\r\n     <g id=\"text_1\">\r\n      <!-- −2 -->\r\n      <g style=\"fill:#ffffff;\" transform=\"translate(69.890156 254.356562)scale(0.1 -0.1)\">\r\n       <defs>\r\n        <path d=\"M 10.59375 35.5 \r\nL 73.1875 35.5 \r\nL 73.1875 27.203125 \r\nL 10.59375 27.203125 \r\nz\r\n\" id=\"DejaVuSans-8722\"/>\r\n        <path d=\"M 19.1875 8.296875 \r\nL 53.609375 8.296875 \r\nL 53.609375 0 \r\nL 7.328125 0 \r\nL 7.328125 8.296875 \r\nQ 12.9375 14.109375 22.625 23.890625 \r\nQ 32.328125 33.6875 34.8125 36.53125 \r\nQ 39.546875 41.84375 41.421875 45.53125 \r\nQ 43.3125 49.21875 43.3125 52.78125 \r\nQ 43.3125 58.59375 39.234375 62.25 \r\nQ 35.15625 65.921875 28.609375 65.921875 \r\nQ 23.96875 65.921875 18.8125 64.3125 \r\nQ 13.671875 62.703125 7.8125 59.421875 \r\nL 7.8125 69.390625 \r\nQ 13.765625 71.78125 18.9375 73 \r\nQ 24.125 74.21875 28.421875 74.21875 \r\nQ 39.75 74.21875 46.484375 68.546875 \r\nQ 53.21875 62.890625 53.21875 53.421875 \r\nQ 53.21875 48.921875 51.53125 44.890625 \r\nQ 49.859375 40.875 45.40625 35.40625 \r\nQ 44.1875 33.984375 37.640625 27.21875 \r\nQ 31.109375 20.453125 19.1875 8.296875 \r\nz\r\n\" id=\"DejaVuSans-50\"/>\r\n       </defs>\r\n       <use xlink:href=\"#DejaVuSans-8722\"/>\r\n       <use x=\"83.789062\" xlink:href=\"#DejaVuSans-50\"/>\r\n      </g>\r\n     </g>\r\n    </g>\r\n    <g id=\"xtick_2\">\r\n     <g id=\"line2d_2\">\r\n      <g>\r\n       <use style=\"fill:#ffffff;stroke:#ffffff;stroke-width:0.8;\" x=\"144.22125\" xlink:href=\"#mbb7ba5f985\" y=\"239.758125\"/>\r\n      </g>\r\n     </g>\r\n     <g id=\"text_2\">\r\n      <!-- −1 -->\r\n      <g style=\"fill:#ffffff;\" transform=\"translate(136.850156 254.356562)scale(0.1 -0.1)\">\r\n       <defs>\r\n        <path d=\"M 12.40625 8.296875 \r\nL 28.515625 8.296875 \r\nL 28.515625 63.921875 \r\nL 10.984375 60.40625 \r\nL 10.984375 69.390625 \r\nL 28.421875 72.90625 \r\nL 38.28125 72.90625 \r\nL 38.28125 8.296875 \r\nL 54.390625 8.296875 \r\nL 54.390625 0 \r\nL 12.40625 0 \r\nz\r\n\" id=\"DejaVuSans-49\"/>\r\n       </defs>\r\n       <use xlink:href=\"#DejaVuSans-8722\"/>\r\n       <use x=\"83.789062\" xlink:href=\"#DejaVuSans-49\"/>\r\n      </g>\r\n     </g>\r\n    </g>\r\n    <g id=\"xtick_3\">\r\n     <g id=\"line2d_3\">\r\n      <g>\r\n       <use style=\"fill:#ffffff;stroke:#ffffff;stroke-width:0.8;\" x=\"211.18125\" xlink:href=\"#mbb7ba5f985\" y=\"239.758125\"/>\r\n      </g>\r\n     </g>\r\n     <g id=\"text_3\">\r\n      <!-- 0 -->\r\n      <g style=\"fill:#ffffff;\" transform=\"translate(208 254.356562)scale(0.1 -0.1)\">\r\n       <defs>\r\n        <path d=\"M 31.78125 66.40625 \r\nQ 24.171875 66.40625 20.328125 58.90625 \r\nQ 16.5 51.421875 16.5 36.375 \r\nQ 16.5 21.390625 20.328125 13.890625 \r\nQ 24.171875 6.390625 31.78125 6.390625 \r\nQ 39.453125 6.390625 43.28125 13.890625 \r\nQ 47.125 21.390625 47.125 36.375 \r\nQ 47.125 51.421875 43.28125 58.90625 \r\nQ 39.453125 66.40625 31.78125 66.40625 \r\nz\r\nM 31.78125 74.21875 \r\nQ 44.046875 74.21875 50.515625 64.515625 \r\nQ 56.984375 54.828125 56.984375 36.375 \r\nQ 56.984375 17.96875 50.515625 8.265625 \r\nQ 44.046875 -1.421875 31.78125 -1.421875 \r\nQ 19.53125 -1.421875 13.0625 8.265625 \r\nQ 6.59375 17.96875 6.59375 36.375 \r\nQ 6.59375 54.828125 13.0625 64.515625 \r\nQ 19.53125 74.21875 31.78125 74.21875 \r\nz\r\n\" id=\"DejaVuSans-48\"/>\r\n       </defs>\r\n       <use xlink:href=\"#DejaVuSans-48\"/>\r\n      </g>\r\n     </g>\r\n    </g>\r\n    <g id=\"xtick_4\">\r\n     <g id=\"line2d_4\">\r\n      <g>\r\n       <use style=\"fill:#ffffff;stroke:#ffffff;stroke-width:0.8;\" x=\"278.14125\" xlink:href=\"#mbb7ba5f985\" y=\"239.758125\"/>\r\n      </g>\r\n     </g>\r\n     <g id=\"text_4\">\r\n      <!-- 1 -->\r\n      <g style=\"fill:#ffffff;\" transform=\"translate(274.96 254.356562)scale(0.1 -0.1)\">\r\n       <use xlink:href=\"#DejaVuSans-49\"/>\r\n      </g>\r\n     </g>\r\n    </g>\r\n    <g id=\"xtick_5\">\r\n     <g id=\"line2d_5\">\r\n      <g>\r\n       <use style=\"fill:#ffffff;stroke:#ffffff;stroke-width:0.8;\" x=\"345.10125\" xlink:href=\"#mbb7ba5f985\" y=\"239.758125\"/>\r\n      </g>\r\n     </g>\r\n     <g id=\"text_5\">\r\n      <!-- 2 -->\r\n      <g style=\"fill:#ffffff;\" transform=\"translate(341.92 254.356562)scale(0.1 -0.1)\">\r\n       <use xlink:href=\"#DejaVuSans-50\"/>\r\n      </g>\r\n     </g>\r\n    </g>\r\n    <g id=\"text_6\">\r\n     <!-- Value -->\r\n     <g style=\"fill:#ffffff;\" transform=\"translate(197.45 268.034687)scale(0.1 -0.1)\">\r\n      <defs>\r\n       <path d=\"M 28.609375 0 \r\nL 0.78125 72.90625 \r\nL 11.078125 72.90625 \r\nL 34.1875 11.53125 \r\nL 57.328125 72.90625 \r\nL 67.578125 72.90625 \r\nL 39.796875 0 \r\nz\r\n\" id=\"DejaVuSans-86\"/>\r\n       <path d=\"M 34.28125 27.484375 \r\nQ 23.390625 27.484375 19.1875 25 \r\nQ 14.984375 22.515625 14.984375 16.5 \r\nQ 14.984375 11.71875 18.140625 8.90625 \r\nQ 21.296875 6.109375 26.703125 6.109375 \r\nQ 34.1875 6.109375 38.703125 11.40625 \r\nQ 43.21875 16.703125 43.21875 25.484375 \r\nL 43.21875 27.484375 \r\nz\r\nM 52.203125 31.203125 \r\nL 52.203125 0 \r\nL 43.21875 0 \r\nL 43.21875 8.296875 \r\nQ 40.140625 3.328125 35.546875 0.953125 \r\nQ 30.953125 -1.421875 24.3125 -1.421875 \r\nQ 15.921875 -1.421875 10.953125 3.296875 \r\nQ 6 8.015625 6 15.921875 \r\nQ 6 25.140625 12.171875 29.828125 \r\nQ 18.359375 34.515625 30.609375 34.515625 \r\nL 43.21875 34.515625 \r\nL 43.21875 35.40625 \r\nQ 43.21875 41.609375 39.140625 45 \r\nQ 35.0625 48.390625 27.6875 48.390625 \r\nQ 23 48.390625 18.546875 47.265625 \r\nQ 14.109375 46.140625 10.015625 43.890625 \r\nL 10.015625 52.203125 \r\nQ 14.9375 54.109375 19.578125 55.046875 \r\nQ 24.21875 56 28.609375 56 \r\nQ 40.484375 56 46.34375 49.84375 \r\nQ 52.203125 43.703125 52.203125 31.203125 \r\nz\r\n\" id=\"DejaVuSans-97\"/>\r\n       <path d=\"M 9.421875 75.984375 \r\nL 18.40625 75.984375 \r\nL 18.40625 0 \r\nL 9.421875 0 \r\nz\r\n\" id=\"DejaVuSans-108\"/>\r\n       <path d=\"M 8.5 21.578125 \r\nL 8.5 54.6875 \r\nL 17.484375 54.6875 \r\nL 17.484375 21.921875 \r\nQ 17.484375 14.15625 20.5 10.265625 \r\nQ 23.53125 6.390625 29.59375 6.390625 \r\nQ 36.859375 6.390625 41.078125 11.03125 \r\nQ 45.3125 15.671875 45.3125 23.6875 \r\nL 45.3125 54.6875 \r\nL 54.296875 54.6875 \r\nL 54.296875 0 \r\nL 45.3125 0 \r\nL 45.3125 8.40625 \r\nQ 42.046875 3.421875 37.71875 1 \r\nQ 33.40625 -1.421875 27.6875 -1.421875 \r\nQ 18.265625 -1.421875 13.375 4.4375 \r\nQ 8.5 10.296875 8.5 21.578125 \r\nz\r\nM 31.109375 56 \r\nz\r\n\" id=\"DejaVuSans-117\"/>\r\n       <path d=\"M 56.203125 29.59375 \r\nL 56.203125 25.203125 \r\nL 14.890625 25.203125 \r\nQ 15.484375 15.921875 20.484375 11.0625 \r\nQ 25.484375 6.203125 34.421875 6.203125 \r\nQ 39.59375 6.203125 44.453125 7.46875 \r\nQ 49.3125 8.734375 54.109375 11.28125 \r\nL 54.109375 2.78125 \r\nQ 49.265625 0.734375 44.1875 -0.34375 \r\nQ 39.109375 -1.421875 33.890625 -1.421875 \r\nQ 20.796875 -1.421875 13.15625 6.1875 \r\nQ 5.515625 13.8125 5.515625 26.8125 \r\nQ 5.515625 40.234375 12.765625 48.109375 \r\nQ 20.015625 56 32.328125 56 \r\nQ 43.359375 56 49.78125 48.890625 \r\nQ 56.203125 41.796875 56.203125 29.59375 \r\nz\r\nM 47.21875 32.234375 \r\nQ 47.125 39.59375 43.09375 43.984375 \r\nQ 39.0625 48.390625 32.421875 48.390625 \r\nQ 24.90625 48.390625 20.390625 44.140625 \r\nQ 15.875 39.890625 15.1875 32.171875 \r\nz\r\n\" id=\"DejaVuSans-101\"/>\r\n      </defs>\r\n      <use xlink:href=\"#DejaVuSans-86\"/>\r\n      <use x=\"60.658203\" xlink:href=\"#DejaVuSans-97\"/>\r\n      <use x=\"121.9375\" xlink:href=\"#DejaVuSans-108\"/>\r\n      <use x=\"149.720703\" xlink:href=\"#DejaVuSans-117\"/>\r\n      <use x=\"213.099609\" xlink:href=\"#DejaVuSans-101\"/>\r\n     </g>\r\n    </g>\r\n   </g>\r\n   <g id=\"matplotlib.axis_2\">\r\n    <g id=\"ytick_1\">\r\n     <g id=\"line2d_6\">\r\n      <defs>\r\n       <path d=\"M 0 0 \r\nL -3.5 0 \r\n\" id=\"ma48197647c\" style=\"stroke:#ffffff;stroke-width:0.8;\"/>\r\n      </defs>\r\n      <g>\r\n       <use style=\"fill:#ffffff;stroke:#ffffff;stroke-width:0.8;\" x=\"43.78125\" xlink:href=\"#ma48197647c\" y=\"239.758125\"/>\r\n      </g>\r\n     </g>\r\n     <g id=\"text_7\">\r\n      <!-- 0.0 -->\r\n      <g style=\"fill:#ffffff;\" transform=\"translate(20.878125 243.557344)scale(0.1 -0.1)\">\r\n       <defs>\r\n        <path d=\"M 10.6875 12.40625 \r\nL 21 12.40625 \r\nL 21 0 \r\nL 10.6875 0 \r\nz\r\n\" id=\"DejaVuSans-46\"/>\r\n       </defs>\r\n       <use xlink:href=\"#DejaVuSans-48\"/>\r\n       <use x=\"63.623047\" xlink:href=\"#DejaVuSans-46\"/>\r\n       <use x=\"95.410156\" xlink:href=\"#DejaVuSans-48\"/>\r\n      </g>\r\n     </g>\r\n    </g>\r\n    <g id=\"ytick_2\">\r\n     <g id=\"line2d_7\">\r\n      <g>\r\n       <use style=\"fill:#ffffff;stroke:#ffffff;stroke-width:0.8;\" x=\"43.78125\" xlink:href=\"#ma48197647c\" y=\"200.22358\"/>\r\n      </g>\r\n     </g>\r\n     <g id=\"text_8\">\r\n      <!-- 0.2 -->\r\n      <g style=\"fill:#ffffff;\" transform=\"translate(20.878125 204.022798)scale(0.1 -0.1)\">\r\n       <use xlink:href=\"#DejaVuSans-48\"/>\r\n       <use x=\"63.623047\" xlink:href=\"#DejaVuSans-46\"/>\r\n       <use x=\"95.410156\" xlink:href=\"#DejaVuSans-50\"/>\r\n      </g>\r\n     </g>\r\n    </g>\r\n    <g id=\"ytick_3\">\r\n     <g id=\"line2d_8\">\r\n      <g>\r\n       <use style=\"fill:#ffffff;stroke:#ffffff;stroke-width:0.8;\" x=\"43.78125\" xlink:href=\"#ma48197647c\" y=\"160.689034\"/>\r\n      </g>\r\n     </g>\r\n     <g id=\"text_9\">\r\n      <!-- 0.4 -->\r\n      <g style=\"fill:#ffffff;\" transform=\"translate(20.878125 164.488253)scale(0.1 -0.1)\">\r\n       <defs>\r\n        <path d=\"M 37.796875 64.3125 \r\nL 12.890625 25.390625 \r\nL 37.796875 25.390625 \r\nz\r\nM 35.203125 72.90625 \r\nL 47.609375 72.90625 \r\nL 47.609375 25.390625 \r\nL 58.015625 25.390625 \r\nL 58.015625 17.1875 \r\nL 47.609375 17.1875 \r\nL 47.609375 0 \r\nL 37.796875 0 \r\nL 37.796875 17.1875 \r\nL 4.890625 17.1875 \r\nL 4.890625 26.703125 \r\nz\r\n\" id=\"DejaVuSans-52\"/>\r\n       </defs>\r\n       <use xlink:href=\"#DejaVuSans-48\"/>\r\n       <use x=\"63.623047\" xlink:href=\"#DejaVuSans-46\"/>\r\n       <use x=\"95.410156\" xlink:href=\"#DejaVuSans-52\"/>\r\n      </g>\r\n     </g>\r\n    </g>\r\n    <g id=\"ytick_4\">\r\n     <g id=\"line2d_9\">\r\n      <g>\r\n       <use style=\"fill:#ffffff;stroke:#ffffff;stroke-width:0.8;\" x=\"43.78125\" xlink:href=\"#ma48197647c\" y=\"121.154489\"/>\r\n      </g>\r\n     </g>\r\n     <g id=\"text_10\">\r\n      <!-- 0.6 -->\r\n      <g style=\"fill:#ffffff;\" transform=\"translate(20.878125 124.953707)scale(0.1 -0.1)\">\r\n       <defs>\r\n        <path d=\"M 33.015625 40.375 \r\nQ 26.375 40.375 22.484375 35.828125 \r\nQ 18.609375 31.296875 18.609375 23.390625 \r\nQ 18.609375 15.53125 22.484375 10.953125 \r\nQ 26.375 6.390625 33.015625 6.390625 \r\nQ 39.65625 6.390625 43.53125 10.953125 \r\nQ 47.40625 15.53125 47.40625 23.390625 \r\nQ 47.40625 31.296875 43.53125 35.828125 \r\nQ 39.65625 40.375 33.015625 40.375 \r\nz\r\nM 52.59375 71.296875 \r\nL 52.59375 62.3125 \r\nQ 48.875 64.0625 45.09375 64.984375 \r\nQ 41.3125 65.921875 37.59375 65.921875 \r\nQ 27.828125 65.921875 22.671875 59.328125 \r\nQ 17.53125 52.734375 16.796875 39.40625 \r\nQ 19.671875 43.65625 24.015625 45.921875 \r\nQ 28.375 48.1875 33.59375 48.1875 \r\nQ 44.578125 48.1875 50.953125 41.515625 \r\nQ 57.328125 34.859375 57.328125 23.390625 \r\nQ 57.328125 12.15625 50.6875 5.359375 \r\nQ 44.046875 -1.421875 33.015625 -1.421875 \r\nQ 20.359375 -1.421875 13.671875 8.265625 \r\nQ 6.984375 17.96875 6.984375 36.375 \r\nQ 6.984375 53.65625 15.1875 63.9375 \r\nQ 23.390625 74.21875 37.203125 74.21875 \r\nQ 40.921875 74.21875 44.703125 73.484375 \r\nQ 48.484375 72.75 52.59375 71.296875 \r\nz\r\n\" id=\"DejaVuSans-54\"/>\r\n       </defs>\r\n       <use xlink:href=\"#DejaVuSans-48\"/>\r\n       <use x=\"63.623047\" xlink:href=\"#DejaVuSans-46\"/>\r\n       <use x=\"95.410156\" xlink:href=\"#DejaVuSans-54\"/>\r\n      </g>\r\n     </g>\r\n    </g>\r\n    <g id=\"ytick_5\">\r\n     <g id=\"line2d_10\">\r\n      <g>\r\n       <use style=\"fill:#ffffff;stroke:#ffffff;stroke-width:0.8;\" x=\"43.78125\" xlink:href=\"#ma48197647c\" y=\"81.619943\"/>\r\n      </g>\r\n     </g>\r\n     <g id=\"text_11\">\r\n      <!-- 0.8 -->\r\n      <g style=\"fill:#ffffff;\" transform=\"translate(20.878125 85.419162)scale(0.1 -0.1)\">\r\n       <defs>\r\n        <path d=\"M 31.78125 34.625 \r\nQ 24.75 34.625 20.71875 30.859375 \r\nQ 16.703125 27.09375 16.703125 20.515625 \r\nQ 16.703125 13.921875 20.71875 10.15625 \r\nQ 24.75 6.390625 31.78125 6.390625 \r\nQ 38.8125 6.390625 42.859375 10.171875 \r\nQ 46.921875 13.96875 46.921875 20.515625 \r\nQ 46.921875 27.09375 42.890625 30.859375 \r\nQ 38.875 34.625 31.78125 34.625 \r\nz\r\nM 21.921875 38.8125 \r\nQ 15.578125 40.375 12.03125 44.71875 \r\nQ 8.5 49.078125 8.5 55.328125 \r\nQ 8.5 64.0625 14.71875 69.140625 \r\nQ 20.953125 74.21875 31.78125 74.21875 \r\nQ 42.671875 74.21875 48.875 69.140625 \r\nQ 55.078125 64.0625 55.078125 55.328125 \r\nQ 55.078125 49.078125 51.53125 44.71875 \r\nQ 48 40.375 41.703125 38.8125 \r\nQ 48.828125 37.15625 52.796875 32.3125 \r\nQ 56.78125 27.484375 56.78125 20.515625 \r\nQ 56.78125 9.90625 50.3125 4.234375 \r\nQ 43.84375 -1.421875 31.78125 -1.421875 \r\nQ 19.734375 -1.421875 13.25 4.234375 \r\nQ 6.78125 9.90625 6.78125 20.515625 \r\nQ 6.78125 27.484375 10.78125 32.3125 \r\nQ 14.796875 37.15625 21.921875 38.8125 \r\nz\r\nM 18.3125 54.390625 \r\nQ 18.3125 48.734375 21.84375 45.5625 \r\nQ 25.390625 42.390625 31.78125 42.390625 \r\nQ 38.140625 42.390625 41.71875 45.5625 \r\nQ 45.3125 48.734375 45.3125 54.390625 \r\nQ 45.3125 60.0625 41.71875 63.234375 \r\nQ 38.140625 66.40625 31.78125 66.40625 \r\nQ 25.390625 66.40625 21.84375 63.234375 \r\nQ 18.3125 60.0625 18.3125 54.390625 \r\nz\r\n\" id=\"DejaVuSans-56\"/>\r\n       </defs>\r\n       <use xlink:href=\"#DejaVuSans-48\"/>\r\n       <use x=\"63.623047\" xlink:href=\"#DejaVuSans-46\"/>\r\n       <use x=\"95.410156\" xlink:href=\"#DejaVuSans-56\"/>\r\n      </g>\r\n     </g>\r\n    </g>\r\n    <g id=\"ytick_6\">\r\n     <g id=\"line2d_11\">\r\n      <g>\r\n       <use style=\"fill:#ffffff;stroke:#ffffff;stroke-width:0.8;\" x=\"43.78125\" xlink:href=\"#ma48197647c\" y=\"42.085398\"/>\r\n      </g>\r\n     </g>\r\n     <g id=\"text_12\">\r\n      <!-- 1.0 -->\r\n      <g style=\"fill:#ffffff;\" transform=\"translate(20.878125 45.884616)scale(0.1 -0.1)\">\r\n       <use xlink:href=\"#DejaVuSans-49\"/>\r\n       <use x=\"63.623047\" xlink:href=\"#DejaVuSans-46\"/>\r\n       <use x=\"95.410156\" xlink:href=\"#DejaVuSans-48\"/>\r\n      </g>\r\n     </g>\r\n    </g>\r\n    <g id=\"text_13\">\r\n     <!-- Density -->\r\n     <g style=\"fill:#ffffff;\" transform=\"translate(14.798438 150.046719)rotate(-90)scale(0.1 -0.1)\">\r\n      <defs>\r\n       <path d=\"M 19.671875 64.796875 \r\nL 19.671875 8.109375 \r\nL 31.59375 8.109375 \r\nQ 46.6875 8.109375 53.6875 14.9375 \r\nQ 60.6875 21.78125 60.6875 36.53125 \r\nQ 60.6875 51.171875 53.6875 57.984375 \r\nQ 46.6875 64.796875 31.59375 64.796875 \r\nz\r\nM 9.8125 72.90625 \r\nL 30.078125 72.90625 \r\nQ 51.265625 72.90625 61.171875 64.09375 \r\nQ 71.09375 55.28125 71.09375 36.53125 \r\nQ 71.09375 17.671875 61.125 8.828125 \r\nQ 51.171875 0 30.078125 0 \r\nL 9.8125 0 \r\nz\r\n\" id=\"DejaVuSans-68\"/>\r\n       <path d=\"M 54.890625 33.015625 \r\nL 54.890625 0 \r\nL 45.90625 0 \r\nL 45.90625 32.71875 \r\nQ 45.90625 40.484375 42.875 44.328125 \r\nQ 39.84375 48.1875 33.796875 48.1875 \r\nQ 26.515625 48.1875 22.3125 43.546875 \r\nQ 18.109375 38.921875 18.109375 30.90625 \r\nL 18.109375 0 \r\nL 9.078125 0 \r\nL 9.078125 54.6875 \r\nL 18.109375 54.6875 \r\nL 18.109375 46.1875 \r\nQ 21.34375 51.125 25.703125 53.5625 \r\nQ 30.078125 56 35.796875 56 \r\nQ 45.21875 56 50.046875 50.171875 \r\nQ 54.890625 44.34375 54.890625 33.015625 \r\nz\r\n\" id=\"DejaVuSans-110\"/>\r\n       <path d=\"M 44.28125 53.078125 \r\nL 44.28125 44.578125 \r\nQ 40.484375 46.53125 36.375 47.5 \r\nQ 32.28125 48.484375 27.875 48.484375 \r\nQ 21.1875 48.484375 17.84375 46.4375 \r\nQ 14.5 44.390625 14.5 40.28125 \r\nQ 14.5 37.15625 16.890625 35.375 \r\nQ 19.28125 33.59375 26.515625 31.984375 \r\nL 29.59375 31.296875 \r\nQ 39.15625 29.25 43.1875 25.515625 \r\nQ 47.21875 21.78125 47.21875 15.09375 \r\nQ 47.21875 7.46875 41.1875 3.015625 \r\nQ 35.15625 -1.421875 24.609375 -1.421875 \r\nQ 20.21875 -1.421875 15.453125 -0.5625 \r\nQ 10.6875 0.296875 5.421875 2 \r\nL 5.421875 11.28125 \r\nQ 10.40625 8.6875 15.234375 7.390625 \r\nQ 20.0625 6.109375 24.8125 6.109375 \r\nQ 31.15625 6.109375 34.5625 8.28125 \r\nQ 37.984375 10.453125 37.984375 14.40625 \r\nQ 37.984375 18.0625 35.515625 20.015625 \r\nQ 33.0625 21.96875 24.703125 23.78125 \r\nL 21.578125 24.515625 \r\nQ 13.234375 26.265625 9.515625 29.90625 \r\nQ 5.8125 33.546875 5.8125 39.890625 \r\nQ 5.8125 47.609375 11.28125 51.796875 \r\nQ 16.75 56 26.8125 56 \r\nQ 31.78125 56 36.171875 55.265625 \r\nQ 40.578125 54.546875 44.28125 53.078125 \r\nz\r\n\" id=\"DejaVuSans-115\"/>\r\n       <path d=\"M 9.421875 54.6875 \r\nL 18.40625 54.6875 \r\nL 18.40625 0 \r\nL 9.421875 0 \r\nz\r\nM 9.421875 75.984375 \r\nL 18.40625 75.984375 \r\nL 18.40625 64.59375 \r\nL 9.421875 64.59375 \r\nz\r\n\" id=\"DejaVuSans-105\"/>\r\n       <path d=\"M 18.3125 70.21875 \r\nL 18.3125 54.6875 \r\nL 36.8125 54.6875 \r\nL 36.8125 47.703125 \r\nL 18.3125 47.703125 \r\nL 18.3125 18.015625 \r\nQ 18.3125 11.328125 20.140625 9.421875 \r\nQ 21.96875 7.515625 27.59375 7.515625 \r\nL 36.8125 7.515625 \r\nL 36.8125 0 \r\nL 27.59375 0 \r\nQ 17.1875 0 13.234375 3.875 \r\nQ 9.28125 7.765625 9.28125 18.015625 \r\nL 9.28125 47.703125 \r\nL 2.6875 47.703125 \r\nL 2.6875 54.6875 \r\nL 9.28125 54.6875 \r\nL 9.28125 70.21875 \r\nz\r\n\" id=\"DejaVuSans-116\"/>\r\n       <path d=\"M 32.171875 -5.078125 \r\nQ 28.375 -14.84375 24.75 -17.8125 \r\nQ 21.140625 -20.796875 15.09375 -20.796875 \r\nL 7.90625 -20.796875 \r\nL 7.90625 -13.28125 \r\nL 13.1875 -13.28125 \r\nQ 16.890625 -13.28125 18.9375 -11.515625 \r\nQ 21 -9.765625 23.484375 -3.21875 \r\nL 25.09375 0.875 \r\nL 2.984375 54.6875 \r\nL 12.5 54.6875 \r\nL 29.59375 11.921875 \r\nL 46.6875 54.6875 \r\nL 56.203125 54.6875 \r\nz\r\n\" id=\"DejaVuSans-121\"/>\r\n      </defs>\r\n      <use xlink:href=\"#DejaVuSans-68\"/>\r\n      <use x=\"77.001953\" xlink:href=\"#DejaVuSans-101\"/>\r\n      <use x=\"138.525391\" xlink:href=\"#DejaVuSans-110\"/>\r\n      <use x=\"201.904297\" xlink:href=\"#DejaVuSans-115\"/>\r\n      <use x=\"254.003906\" xlink:href=\"#DejaVuSans-105\"/>\r\n      <use x=\"281.787109\" xlink:href=\"#DejaVuSans-116\"/>\r\n      <use x=\"320.996094\" xlink:href=\"#DejaVuSans-121\"/>\r\n     </g>\r\n    </g>\r\n   </g>\r\n   <g id=\"patch_3\">\r\n    <path clip-path=\"url(#pb75db698c2)\" d=\"M 211.181298 239.758125 \r\nL 211.181298 44.456944 \r\nL 211.850896 44.456944 \r\nL 211.850896 45.642984 \r\nL 212.520494 45.642984 \r\nL 212.520494 42.677885 \r\nL 213.190093 42.677885 \r\nL 213.190093 32.398875 \r\nL 213.859691 32.398875 \r\nL 213.859691 37.933727 \r\nL 214.529289 37.933727 \r\nL 214.529289 48.805756 \r\nL 215.198887 48.805756 \r\nL 215.198887 37.736053 \r\nL 215.868485 37.736053 \r\nL 215.868485 44.061598 \r\nL 216.538084 44.061598 \r\nL 216.538084 39.910459 \r\nL 217.207682 39.910459 \r\nL 217.207682 44.259271 \r\nL 217.87728 44.259271 \r\nL 217.87728 38.72442 \r\nL 218.546878 38.72442 \r\nL 218.546878 35.363974 \r\nL 219.216476 35.363974 \r\nL 219.216476 33.782588 \r\nL 219.886075 33.782588 \r\nL 219.886075 38.922093 \r\nL 220.555673 38.922093 \r\nL 220.555673 49.201103 \r\nL 221.225271 49.201103 \r\nL 221.225271 45.642984 \r\nL 221.894869 45.642984 \r\nL 221.894869 44.061598 \r\nL 222.564467 44.061598 \r\nL 222.564467 49.201103 \r\nL 223.234065 49.201103 \r\nL 223.234065 44.654618 \r\nL 223.903664 44.654618 \r\nL 223.903664 37.143034 \r\nL 224.573262 37.143034 \r\nL 224.573262 34.177935 \r\nL 225.24286 34.177935 \r\nL 225.24286 47.026697 \r\nL 225.912458 47.026697 \r\nL 225.912458 43.863925 \r\nL 226.582056 43.863925 \r\nL 226.582056 33.980262 \r\nL 227.251655 33.980262 \r\nL 227.251655 47.619716 \r\nL 227.921253 47.619716 \r\nL 227.921253 35.166301 \r\nL 228.590851 35.166301 \r\nL 228.590851 48.608083 \r\nL 229.260449 48.608083 \r\nL 229.260449 45.642984 \r\nL 229.930047 45.642984 \r\nL 229.930047 42.875558 \r\nL 230.599646 42.875558 \r\nL 230.599646 36.550014 \r\nL 231.269244 36.550014 \r\nL 231.269244 46.433677 \r\nL 231.938842 46.433677 \r\nL 231.938842 35.561648 \r\nL 232.60844 35.561648 \r\nL 232.60844 38.922093 \r\nL 233.278038 38.922093 \r\nL 233.278038 50.980162 \r\nL 233.947637 50.980162 \r\nL 233.947637 40.305806 \r\nL 234.617235 40.305806 \r\nL 234.617235 28.44541 \r\nL 235.286833 28.44541 \r\nL 235.286833 45.840657 \r\nL 235.956431 45.840657 \r\nL 235.956431 32.003529 \r\nL 236.626029 32.003529 \r\nL 236.626029 34.770955 \r\nL 237.295628 34.770955 \r\nL 237.295628 40.305806 \r\nL 237.965226 40.305806 \r\nL 237.965226 52.166201 \r\nL 238.634824 52.166201 \r\nL 238.634824 38.329073 \r\nL 239.304422 38.329073 \r\nL 239.304422 36.94536 \r\nL 239.97402 36.94536 \r\nL 239.97402 36.747687 \r\nL 240.643619 36.747687 \r\nL 240.643619 29.63145 \r\nL 241.313217 29.63145 \r\nL 241.313217 38.72442 \r\nL 241.982815 38.72442 \r\nL 241.982815 37.143034 \r\nL 242.652413 37.143034 \r\nL 242.652413 47.422043 \r\nL 243.322011 47.422043 \r\nL 243.322011 43.666251 \r\nL 243.99161 43.666251 \r\nL 243.99161 38.72442 \r\nL 244.661208 38.72442 \r\nL 244.661208 39.119766 \r\nL 245.330806 39.119766 \r\nL 245.330806 47.81739 \r\nL 246.000404 47.81739 \r\nL 246.000404 43.468578 \r\nL 246.670002 43.468578 \r\nL 246.670002 47.22437 \r\nL 247.339601 47.22437 \r\nL 247.339601 48.805756 \r\nL 248.009199 48.805756 \r\nL 248.009199 43.073231 \r\nL 248.678797 43.073231 \r\nL 248.678797 36.154667 \r\nL 249.348395 36.154667 \r\nL 249.348395 44.061598 \r\nL 250.017993 44.061598 \r\nL 250.017993 29.03843 \r\nL 250.687592 29.03843 \r\nL 250.687592 31.805856 \r\nL 251.35719 31.805856 \r\nL 251.35719 53.352241 \r\nL 252.026788 53.352241 \r\nL 252.026788 56.712686 \r\nL 252.696386 56.712686 \r\nL 252.696386 46.829023 \r\nL 253.365984 46.829023 \r\nL 253.365984 43.863925 \r\nL 254.035583 43.863925 \r\nL 254.035583 53.549914 \r\nL 254.705181 53.549914 \r\nL 254.705181 40.108133 \r\nL 255.374779 40.108133 \r\nL 255.374779 49.201103 \r\nL 256.044377 49.201103 \r\nL 256.044377 38.526747 \r\nL 256.713975 38.526747 \r\nL 256.713975 39.31744 \r\nL 257.383573 39.31744 \r\nL 257.383573 39.515113 \r\nL 258.053172 39.515113 \r\nL 258.053172 47.81739 \r\nL 258.72277 47.81739 \r\nL 258.72277 48.805756 \r\nL 259.392368 48.805756 \r\nL 259.392368 39.910459 \r\nL 260.061966 39.910459 \r\nL 260.061966 40.898826 \r\nL 260.731564 40.898826 \r\nL 260.731564 30.817489 \r\nL 261.401163 30.817489 \r\nL 261.401163 43.468578 \r\nL 262.070761 43.468578 \r\nL 262.070761 41.491845 \r\nL 262.740359 41.491845 \r\nL 262.740359 57.701053 \r\nL 263.409957 57.701053 \r\nL 263.409957 42.282538 \r\nL 264.079555 42.282538 \r\nL 264.079555 33.980262 \r\nL 264.749154 33.980262 \r\nL 264.749154 29.63145 \r\nL 265.418752 29.63145 \r\nL 265.418752 49.201103 \r\nL 266.08835 49.201103 \r\nL 266.08835 46.236004 \r\nL 266.757948 46.236004 \r\nL 266.757948 32.398875 \r\nL 267.427546 32.398875 \r\nL 267.427546 47.422043 \r\nL 268.097145 47.422043 \r\nL 268.097145 53.154568 \r\nL 268.766743 53.154568 \r\nL 268.766743 44.654618 \r\nL 269.436341 44.654618 \r\nL 269.436341 45.445311 \r\nL 270.105939 45.445311 \r\nL 270.105939 42.282538 \r\nL 270.775537 42.282538 \r\nL 270.775537 48.212736 \r\nL 271.445136 48.212736 \r\nL 271.445136 51.968528 \r\nL 272.114734 51.968528 \r\nL 272.114734 37.143034 \r\nL 272.784332 37.143034 \r\nL 272.784332 35.363974 \r\nL 273.45393 35.363974 \r\nL 273.45393 53.154568 \r\nL 274.123528 53.154568 \r\nL 274.123528 55.1313 \r\nL 274.793127 55.1313 \r\nL 274.793127 31.410509 \r\nL 275.462725 31.410509 \r\nL 275.462725 32.003529 \r\nL 276.132323 32.003529 \r\nL 276.132323 45.642984 \r\nL 276.801921 45.642984 \r\nL 276.801921 40.108133 \r\nL 277.471519 40.108133 \r\nL 277.471519 46.03833 \r\nL 278.141118 46.03833 \r\nL 278.141118 239.758125 \r\nL 278.141118 239.758125 \r\n\" style=\"fill:none;stroke:#0000ff;stroke-linejoin:miter;\"/>\r\n   </g>\r\n   <g id=\"patch_4\">\r\n    <path clip-path=\"url(#pb75db698c2)\" d=\"M -1 239.183669 \r\nL 3.449837 239.183669 \r\nL 3.449837 239.051103 \r\nL 9.440557 239.051103 \r\nL 9.440557 238.675497 \r\nL 15.431277 238.675497 \r\nL 15.431277 238.277797 \r\nL 27.412717 238.299891 \r\nL 27.412717 237.791719 \r\nL 33.403437 237.791719 \r\nL 33.403437 237.394019 \r\nL 39.394157 237.394019 \r\nL 39.394157 236.598619 \r\nL 45.384877 236.598619 \r\nL 45.384877 235.648557 \r\nL 51.375597 235.648557 \r\nL 51.375597 234.344985 \r\nL 57.366317 234.344985 \r\nL 57.366317 233.505396 \r\nL 63.357037 233.505396 \r\nL 63.357037 232.709996 \r\nL 69.347757 232.709996 \r\nL 69.347757 230.54474 \r\nL 75.338476 230.54474 \r\nL 75.338476 228.953939 \r\nL 81.329196 228.953939 \r\nL 81.329196 226.92125 \r\nL 87.319916 226.92125 \r\nL 87.319916 224.446672 \r\nL 93.310636 224.446672 \r\nL 93.310636 220.91156 \r\nL 99.301356 220.91156 \r\nL 99.301356 217.862526 \r\nL 105.292076 217.862526 \r\nL 105.292076 217.067125 \r\nL 111.282796 217.067125 \r\nL 111.282796 213.156408 \r\nL 117.273516 213.156408 \r\nL 117.273516 208.096779 \r\nL 123.264236 208.096779 \r\nL 123.264236 205.047745 \r\nL 129.254956 205.047745 \r\nL 129.254956 200.518383 \r\nL 135.245676 200.518383 \r\nL 135.245676 194.309843 \r\nL 141.236396 194.309843 \r\nL 141.236396 191.084053 \r\nL 147.227115 191.084053 \r\nL 147.227115 187.59313 \r\nL 153.217835 187.59313 \r\nL 153.217835 184.433624 \r\nL 159.208555 184.433624 \r\nL 159.208555 179.440278 \r\nL 165.199275 179.440278 \r\nL 165.199275 174.844633 \r\nL 171.189995 174.844633 \r\nL 171.189995 170.536215 \r\nL 177.180715 170.536215 \r\nL 177.180715 168.967509 \r\nL 183.171435 168.967509 \r\nL 183.171435 167.177859 \r\nL 189.162155 167.177859 \r\nL 189.162155 162.051946 \r\nL 195.152875 162.051946 \r\nL 195.152875 160.196013 \r\nL 201.143595 160.196013 \r\nL 201.143595 162.781063 \r\nL 207.134315 162.781063 \r\nL 207.134315 160.969318 \r\nL 219.115754 160.947224 \r\nL 219.115754 163.885786 \r\nL 225.106474 163.885786 \r\nL 225.106474 165.675436 \r\nL 231.097194 165.675436 \r\nL 231.097194 164.769564 \r\nL 237.087914 164.769564 \r\nL 237.087914 167.13367 \r\nL 243.078634 167.13367 \r\nL 243.078634 169.608248 \r\nL 249.069354 169.608248 \r\nL 249.069354 174.579499 \r\nL 255.060074 174.579499 \r\nL 255.060074 177.031983 \r\nL 261.050794 177.031983 \r\nL 261.050794 179.307711 \r\nL 267.041514 179.307711 \r\nL 267.041514 186.643069 \r\nL 273.032234 186.643069 \r\nL 273.032234 191.371281 \r\nL 279.022954 191.371281 \r\nL 279.022954 196.187871 \r\nL 285.013674 196.187871 \r\nL 285.013674 200.275344 \r\nL 291.004393 200.275344 \r\nL 291.004393 204.163967 \r\nL 296.995113 204.163967 \r\nL 296.995113 206.66064 \r\nL 302.985833 206.66064 \r\nL 302.985833 210.615546 \r\nL 308.976553 210.615546 \r\nL 308.976553 214.680925 \r\nL 314.967273 214.680925 \r\nL 314.967273 217.818337 \r\nL 320.957993 217.818337 \r\nL 320.957993 221.30926 \r\nL 326.948713 221.30926 \r\nL 326.948713 223.540799 \r\nL 332.939433 223.540799 \r\nL 332.939433 225.639772 \r\nL 338.930153 225.639772 \r\nL 338.930153 227.274761 \r\nL 344.920873 227.274761 \r\nL 344.920873 229.196978 \r\nL 350.911593 229.196978 \r\nL 350.911593 231.782029 \r\nL 356.902313 231.782029 \r\nL 356.902313 233.32864 \r\nL 362.893033 233.32864 \r\nL 362.893033 234.367079 \r\nL 368.883752 234.367079 \r\nL 368.883752 235.317141 \r\nL 374.874472 235.317141 \r\nL 374.874472 236.510241 \r\nL 380.865192 236.510241 \r\nL 380.865192 236.797469 \r\nL 386.78125 236.797469 \r\nL 386.78125 236.797469 \r\n\" style=\"fill:none;stroke:#ff0000;stroke-linejoin:miter;\"/>\r\n   </g>\r\n   <g id=\"patch_5\">\r\n    <path d=\"M 43.78125 239.758125 \r\nL 43.78125 22.318125 \r\n\" style=\"fill:none;stroke:#ffffff;stroke-linecap:square;stroke-linejoin:miter;stroke-width:0.8;\"/>\r\n   </g>\r\n   <g id=\"patch_6\">\r\n    <path d=\"M 378.58125 239.758125 \r\nL 378.58125 22.318125 \r\n\" style=\"fill:none;stroke:#ffffff;stroke-linecap:square;stroke-linejoin:miter;stroke-width:0.8;\"/>\r\n   </g>\r\n   <g id=\"patch_7\">\r\n    <path d=\"M 43.78125 239.758125 \r\nL 378.58125 239.758125 \r\n\" style=\"fill:none;stroke:#ffffff;stroke-linecap:square;stroke-linejoin:miter;stroke-width:0.8;\"/>\r\n   </g>\r\n   <g id=\"patch_8\">\r\n    <path d=\"M 43.78125 22.318125 \r\nL 378.58125 22.318125 \r\n\" style=\"fill:none;stroke:#ffffff;stroke-linecap:square;stroke-linejoin:miter;stroke-width:0.8;\"/>\r\n   </g>\r\n   <g id=\"text_14\">\r\n    <!-- Random distributions -->\r\n    <g style=\"fill:#ffffff;\" transform=\"translate(147.119063 16.318125)scale(0.12 -0.12)\">\r\n     <defs>\r\n      <path d=\"M 44.390625 34.1875 \r\nQ 47.5625 33.109375 50.5625 29.59375 \r\nQ 53.5625 26.078125 56.59375 19.921875 \r\nL 66.609375 0 \r\nL 56 0 \r\nL 46.6875 18.703125 \r\nQ 43.0625 26.03125 39.671875 28.421875 \r\nQ 36.28125 30.8125 30.421875 30.8125 \r\nL 19.671875 30.8125 \r\nL 19.671875 0 \r\nL 9.8125 0 \r\nL 9.8125 72.90625 \r\nL 32.078125 72.90625 \r\nQ 44.578125 72.90625 50.734375 67.671875 \r\nQ 56.890625 62.453125 56.890625 51.90625 \r\nQ 56.890625 45.015625 53.6875 40.46875 \r\nQ 50.484375 35.9375 44.390625 34.1875 \r\nz\r\nM 19.671875 64.796875 \r\nL 19.671875 38.921875 \r\nL 32.078125 38.921875 \r\nQ 39.203125 38.921875 42.84375 42.21875 \r\nQ 46.484375 45.515625 46.484375 51.90625 \r\nQ 46.484375 58.296875 42.84375 61.546875 \r\nQ 39.203125 64.796875 32.078125 64.796875 \r\nz\r\n\" id=\"DejaVuSans-82\"/>\r\n      <path d=\"M 45.40625 46.390625 \r\nL 45.40625 75.984375 \r\nL 54.390625 75.984375 \r\nL 54.390625 0 \r\nL 45.40625 0 \r\nL 45.40625 8.203125 \r\nQ 42.578125 3.328125 38.25 0.953125 \r\nQ 33.9375 -1.421875 27.875 -1.421875 \r\nQ 17.96875 -1.421875 11.734375 6.484375 \r\nQ 5.515625 14.40625 5.515625 27.296875 \r\nQ 5.515625 40.1875 11.734375 48.09375 \r\nQ 17.96875 56 27.875 56 \r\nQ 33.9375 56 38.25 53.625 \r\nQ 42.578125 51.265625 45.40625 46.390625 \r\nz\r\nM 14.796875 27.296875 \r\nQ 14.796875 17.390625 18.875 11.75 \r\nQ 22.953125 6.109375 30.078125 6.109375 \r\nQ 37.203125 6.109375 41.296875 11.75 \r\nQ 45.40625 17.390625 45.40625 27.296875 \r\nQ 45.40625 37.203125 41.296875 42.84375 \r\nQ 37.203125 48.484375 30.078125 48.484375 \r\nQ 22.953125 48.484375 18.875 42.84375 \r\nQ 14.796875 37.203125 14.796875 27.296875 \r\nz\r\n\" id=\"DejaVuSans-100\"/>\r\n      <path d=\"M 30.609375 48.390625 \r\nQ 23.390625 48.390625 19.1875 42.75 \r\nQ 14.984375 37.109375 14.984375 27.296875 \r\nQ 14.984375 17.484375 19.15625 11.84375 \r\nQ 23.34375 6.203125 30.609375 6.203125 \r\nQ 37.796875 6.203125 41.984375 11.859375 \r\nQ 46.1875 17.53125 46.1875 27.296875 \r\nQ 46.1875 37.015625 41.984375 42.703125 \r\nQ 37.796875 48.390625 30.609375 48.390625 \r\nz\r\nM 30.609375 56 \r\nQ 42.328125 56 49.015625 48.375 \r\nQ 55.71875 40.765625 55.71875 27.296875 \r\nQ 55.71875 13.875 49.015625 6.21875 \r\nQ 42.328125 -1.421875 30.609375 -1.421875 \r\nQ 18.84375 -1.421875 12.171875 6.21875 \r\nQ 5.515625 13.875 5.515625 27.296875 \r\nQ 5.515625 40.765625 12.171875 48.375 \r\nQ 18.84375 56 30.609375 56 \r\nz\r\n\" id=\"DejaVuSans-111\"/>\r\n      <path d=\"M 52 44.1875 \r\nQ 55.375 50.25 60.0625 53.125 \r\nQ 64.75 56 71.09375 56 \r\nQ 79.640625 56 84.28125 50.015625 \r\nQ 88.921875 44.046875 88.921875 33.015625 \r\nL 88.921875 0 \r\nL 79.890625 0 \r\nL 79.890625 32.71875 \r\nQ 79.890625 40.578125 77.09375 44.375 \r\nQ 74.3125 48.1875 68.609375 48.1875 \r\nQ 61.625 48.1875 57.5625 43.546875 \r\nQ 53.515625 38.921875 53.515625 30.90625 \r\nL 53.515625 0 \r\nL 44.484375 0 \r\nL 44.484375 32.71875 \r\nQ 44.484375 40.625 41.703125 44.40625 \r\nQ 38.921875 48.1875 33.109375 48.1875 \r\nQ 26.21875 48.1875 22.15625 43.53125 \r\nQ 18.109375 38.875 18.109375 30.90625 \r\nL 18.109375 0 \r\nL 9.078125 0 \r\nL 9.078125 54.6875 \r\nL 18.109375 54.6875 \r\nL 18.109375 46.1875 \r\nQ 21.1875 51.21875 25.484375 53.609375 \r\nQ 29.78125 56 35.6875 56 \r\nQ 41.65625 56 45.828125 52.96875 \r\nQ 50 49.953125 52 44.1875 \r\nz\r\n\" id=\"DejaVuSans-109\"/>\r\n      <path id=\"DejaVuSans-32\"/>\r\n      <path d=\"M 41.109375 46.296875 \r\nQ 39.59375 47.171875 37.8125 47.578125 \r\nQ 36.03125 48 33.890625 48 \r\nQ 26.265625 48 22.1875 43.046875 \r\nQ 18.109375 38.09375 18.109375 28.8125 \r\nL 18.109375 0 \r\nL 9.078125 0 \r\nL 9.078125 54.6875 \r\nL 18.109375 54.6875 \r\nL 18.109375 46.1875 \r\nQ 20.953125 51.171875 25.484375 53.578125 \r\nQ 30.03125 56 36.53125 56 \r\nQ 37.453125 56 38.578125 55.875 \r\nQ 39.703125 55.765625 41.0625 55.515625 \r\nz\r\n\" id=\"DejaVuSans-114\"/>\r\n      <path d=\"M 48.6875 27.296875 \r\nQ 48.6875 37.203125 44.609375 42.84375 \r\nQ 40.53125 48.484375 33.40625 48.484375 \r\nQ 26.265625 48.484375 22.1875 42.84375 \r\nQ 18.109375 37.203125 18.109375 27.296875 \r\nQ 18.109375 17.390625 22.1875 11.75 \r\nQ 26.265625 6.109375 33.40625 6.109375 \r\nQ 40.53125 6.109375 44.609375 11.75 \r\nQ 48.6875 17.390625 48.6875 27.296875 \r\nz\r\nM 18.109375 46.390625 \r\nQ 20.953125 51.265625 25.265625 53.625 \r\nQ 29.59375 56 35.59375 56 \r\nQ 45.5625 56 51.78125 48.09375 \r\nQ 58.015625 40.1875 58.015625 27.296875 \r\nQ 58.015625 14.40625 51.78125 6.484375 \r\nQ 45.5625 -1.421875 35.59375 -1.421875 \r\nQ 29.59375 -1.421875 25.265625 0.953125 \r\nQ 20.953125 3.328125 18.109375 8.203125 \r\nL 18.109375 0 \r\nL 9.078125 0 \r\nL 9.078125 75.984375 \r\nL 18.109375 75.984375 \r\nz\r\n\" id=\"DejaVuSans-98\"/>\r\n     </defs>\r\n     <use xlink:href=\"#DejaVuSans-82\"/>\r\n     <use x=\"67.232422\" xlink:href=\"#DejaVuSans-97\"/>\r\n     <use x=\"128.511719\" xlink:href=\"#DejaVuSans-110\"/>\r\n     <use x=\"191.890625\" xlink:href=\"#DejaVuSans-100\"/>\r\n     <use x=\"255.367188\" xlink:href=\"#DejaVuSans-111\"/>\r\n     <use x=\"316.548828\" xlink:href=\"#DejaVuSans-109\"/>\r\n     <use x=\"413.960938\" xlink:href=\"#DejaVuSans-32\"/>\r\n     <use x=\"445.748047\" xlink:href=\"#DejaVuSans-100\"/>\r\n     <use x=\"509.224609\" xlink:href=\"#DejaVuSans-105\"/>\r\n     <use x=\"537.007812\" xlink:href=\"#DejaVuSans-115\"/>\r\n     <use x=\"589.107422\" xlink:href=\"#DejaVuSans-116\"/>\r\n     <use x=\"628.316406\" xlink:href=\"#DejaVuSans-114\"/>\r\n     <use x=\"669.429688\" xlink:href=\"#DejaVuSans-105\"/>\r\n     <use x=\"697.212891\" xlink:href=\"#DejaVuSans-98\"/>\r\n     <use x=\"760.689453\" xlink:href=\"#DejaVuSans-117\"/>\r\n     <use x=\"824.068359\" xlink:href=\"#DejaVuSans-116\"/>\r\n     <use x=\"863.277344\" xlink:href=\"#DejaVuSans-105\"/>\r\n     <use x=\"891.060547\" xlink:href=\"#DejaVuSans-111\"/>\r\n     <use x=\"952.242188\" xlink:href=\"#DejaVuSans-110\"/>\r\n     <use x=\"1015.621094\" xlink:href=\"#DejaVuSans-115\"/>\r\n    </g>\r\n   </g>\r\n   <g id=\"legend_1\">\r\n    <g id=\"patch_9\">\r\n     <path d=\"M 50.78125 59.674375 \r\nL 112.04375 59.674375 \r\nQ 114.04375 59.674375 114.04375 57.674375 \r\nL 114.04375 29.318125 \r\nQ 114.04375 27.318125 112.04375 27.318125 \r\nL 50.78125 27.318125 \r\nQ 48.78125 27.318125 48.78125 29.318125 \r\nL 48.78125 57.674375 \r\nQ 48.78125 59.674375 50.78125 59.674375 \r\nz\r\n\" style=\"opacity:0.8;stroke:#cccccc;stroke-linejoin:miter;\"/>\r\n    </g>\r\n    <g id=\"patch_10\">\r\n     <path d=\"M 52.78125 38.916562 \r\nL 72.78125 38.916562 \r\nL 72.78125 31.916562 \r\nL 52.78125 31.916562 \r\nz\r\n\" style=\"fill:none;stroke:#0000ff;stroke-linejoin:miter;\"/>\r\n    </g>\r\n    <g id=\"text_15\">\r\n     <!-- rand -->\r\n     <g style=\"fill:#ffffff;\" transform=\"translate(80.78125 38.916562)scale(0.1 -0.1)\">\r\n      <use xlink:href=\"#DejaVuSans-114\"/>\r\n      <use x=\"41.113281\" xlink:href=\"#DejaVuSans-97\"/>\r\n      <use x=\"102.392578\" xlink:href=\"#DejaVuSans-110\"/>\r\n      <use x=\"165.771484\" xlink:href=\"#DejaVuSans-100\"/>\r\n     </g>\r\n    </g>\r\n    <g id=\"patch_11\">\r\n     <path d=\"M 52.78125 53.594687 \r\nL 72.78125 53.594687 \r\nL 72.78125 46.594687 \r\nL 52.78125 46.594687 \r\nz\r\n\" style=\"fill:none;stroke:#ff0000;stroke-linejoin:miter;\"/>\r\n    </g>\r\n    <g id=\"text_16\">\r\n     <!-- randn -->\r\n     <g style=\"fill:#ffffff;\" transform=\"translate(80.78125 53.594687)scale(0.1 -0.1)\">\r\n      <use xlink:href=\"#DejaVuSans-114\"/>\r\n      <use x=\"41.113281\" xlink:href=\"#DejaVuSans-97\"/>\r\n      <use x=\"102.392578\" xlink:href=\"#DejaVuSans-110\"/>\r\n      <use x=\"165.771484\" xlink:href=\"#DejaVuSans-100\"/>\r\n      <use x=\"229.248047\" xlink:href=\"#DejaVuSans-110\"/>\r\n     </g>\r\n    </g>\r\n   </g>\r\n  </g>\r\n </g>\r\n <defs>\r\n  <clipPath id=\"pb75db698c2\">\r\n   <rect height=\"217.44\" width=\"334.8\" x=\"43.78125\" y=\"22.318125\"/>\r\n  </clipPath>\r\n </defs>\r\n</svg>\r\n",
      "image/png": "[encoded data removed]"
     },
     "metadata": {
      "needs_background": "dark"
     }
    }
   ],
   "source": [
    "plt.hist(np.random.rand(100000), density=True, bins=100, histtype=\"step\", color=\"blue\", label=\"rand\")\n",
    "plt.hist(np.random.randn(100000), density=True, bins=100, histtype=\"step\", color=\"red\", label=\"randn\")\n",
    "plt.axis([-2.5, 2.5, 0, 1.1])\n",
    "plt.legend(loc = \"upper left\")\n",
    "plt.title(\"Random distributions\")\n",
    "plt.xlabel(\"Value\")\n",
    "plt.ylabel(\"Density\")\n",
    "plt.show()"
   ]
  },
  {
   "cell_type": "markdown",
   "metadata": {},
   "source": [
    "## np.fromfunction\n",
    "You can also initialize an `ndarray` using a function:"
   ]
  },
  {
   "cell_type": "code",
   "execution_count": 24,
   "metadata": {},
   "outputs": [
    {
     "output_type": "execute_result",
     "data": {
      "text/plain": [
       "array([[[  0.,   1.,   2.,   3.,   4.,   5.,   6.,   7.,   8.,   9.],\n",
       "        [ 10.,  11.,  12.,  13.,  14.,  15.,  16.,  17.,  18.,  19.]],\n",
       "\n",
       "       [[100., 101., 102., 103., 104., 105., 106., 107., 108., 109.],\n",
       "        [110., 111., 112., 113., 114., 115., 116., 117., 118., 119.]],\n",
       "\n",
       "       [[200., 201., 202., 203., 204., 205., 206., 207., 208., 209.],\n",
       "        [210., 211., 212., 213., 214., 215., 216., 217., 218., 219.]]])"
      ]
     },
     "metadata": {},
     "execution_count": 24
    }
   ],
   "source": [
    "def my_function(z, y, x):\n",
    "    return x + 10 * y + 100 * z\n",
    "\n",
    "np.fromfunction(my_function, (3, 2, 10))"
   ]
  },
  {
   "cell_type": "code",
   "execution_count": 25,
   "metadata": {},
   "outputs": [
    {
     "output_type": "stream",
     "name": "stdout",
     "text": [
      "Help on function fromfunction in module numpy:\n\nfromfunction(function, shape, *, dtype=<class 'float'>, **kwargs)\n    Construct an array by executing a function over each coordinate.\n    \n    The resulting array therefore has a value ``fn(x, y, z)`` at\n    coordinate ``(x, y, z)``.\n    \n    Parameters\n    ----------\n    function : callable\n        The function is called with N parameters, where N is the rank of\n        `shape`.  Each parameter represents the coordinates of the array\n        varying along a specific axis.  For example, if `shape`\n        were ``(2, 2)``, then the parameters would be\n        ``array([[0, 0], [1, 1]])`` and ``array([[0, 1], [0, 1]])``\n    shape : (N,) tuple of ints\n        Shape of the output array, which also determines the shape of\n        the coordinate arrays passed to `function`.\n    dtype : data-type, optional\n        Data-type of the coordinate arrays passed to `function`.\n        By default, `dtype` is float.\n    \n    Returns\n    -------\n    fromfunction : any\n        The result of the call to `function` is passed back directly.\n        Therefore the shape of `fromfunction` is completely determined by\n        `function`.  If `function` returns a scalar value, the shape of\n        `fromfunction` would not match the `shape` parameter.\n    \n    See Also\n    --------\n    indices, meshgrid\n    \n    Notes\n    -----\n    Keywords other than `dtype` are passed to `function`.\n    \n    Examples\n    --------\n    >>> np.fromfunction(lambda i, j: i == j, (3, 3), dtype=int)\n    array([[ True, False, False],\n           [False,  True, False],\n           [False, False,  True]])\n    \n    >>> np.fromfunction(lambda i, j: i + j, (3, 3), dtype=int)\n    array([[0, 1, 2],\n           [1, 2, 3],\n           [2, 3, 4]])\n\n"
     ]
    }
   ],
   "source": [
    "help(np.fromfunction)"
   ]
  },
  {
   "cell_type": "markdown",
   "metadata": {},
   "source": [
    "NumPy first creates three `ndarrays` (one per dimension), each of shape `(3, 2, 10)`. Each array has values equal to the coordinate along a specific axis. For example, all elements in the `z` array are equal to their z-coordinate:\n",
    "\n",
    "    [[[ 0.  0.  0.  0.  0.  0.  0.  0.  0.  0.]\n",
    "      [ 0.  0.  0.  0.  0.  0.  0.  0.  0.  0.]]\n",
    "    \n",
    "     [[ 1.  1.  1.  1.  1.  1.  1.  1.  1.  1.]\n",
    "      [ 1.  1.  1.  1.  1.  1.  1.  1.  1.  1.]]\n",
    "    \n",
    "     [[ 2.  2.  2.  2.  2.  2.  2.  2.  2.  2.]\n",
    "      [ 2.  2.  2.  2.  2.  2.  2.  2.  2.  2.]]]\n",
    "\n",
    "So the terms `x`, `y` and `z` in the expression `x + 10 * y + 100 * z` above are in fact `ndarray`s (we will discuss arithmetic operations on arrays below).  The point is that the function `my_function` is only called *once*, instead of once per element. This makes initialization very efficient."
   ]
  },
  {
   "cell_type": "markdown",
   "metadata": {},
   "source": [
    "# Array data\n",
    "## `dtype`\n",
    "NumPy's `ndarray`s are also efficient in part because all their elements must have the same type (usually numbers).\n",
    "You can check what the data type is by looking at the `dtype` attribute:"
   ]
  },
  {
   "cell_type": "code",
   "execution_count": 26,
   "metadata": {
    "scrolled": true
   },
   "outputs": [
    {
     "output_type": "stream",
     "name": "stdout",
     "text": [
      "int32 [1 2 3 4]\n"
     ]
    }
   ],
   "source": [
    "c = np.arange(1, 5)\n",
    "print(c.dtype, c)\n"
   ]
  },
  {
   "cell_type": "code",
   "execution_count": 27,
   "metadata": {},
   "outputs": [
    {
     "output_type": "stream",
     "name": "stdout",
     "text": [
      "float64 [1. 2. 3. 4.]\n"
     ]
    }
   ],
   "source": [
    "c = np.arange(1.0, 5.0)\n",
    "print(c.dtype, c)"
   ]
  },
  {
   "cell_type": "markdown",
   "metadata": {},
   "source": [
    "Instead of letting NumPy guess what data type to use, you can set it explicitly when creating an array by setting the `dtype` parameter:"
   ]
  },
  {
   "cell_type": "code",
   "execution_count": 28,
   "metadata": {},
   "outputs": [
    {
     "output_type": "stream",
     "name": "stdout",
     "text": [
      "complex64 [1.+0.j 2.+0.j 3.+0.j 4.+0.j]\n"
     ]
    }
   ],
   "source": [
    "d = np.arange(1, 5, dtype=np.complex64)\n",
    "print(d.dtype, d)"
   ]
  },
  {
   "cell_type": "markdown",
   "metadata": {},
   "source": [
    "Available data types include `int8`, `int16`, `int32`, `int64`, `uint8`|`16`|`32`|`64`, `float16`|`32`|`64` and `complex64`|`128`. Check out [the documentation](http://docs.scipy.org/doc/numpy-1.10.1/user/basics.types.html) for the full list.\n",
    "\n",
    "## `itemsize`\n",
    "The `itemsize` attribute returns the size (in bytes) of each item:"
   ]
  },
  {
   "cell_type": "code",
   "execution_count": 29,
   "metadata": {},
   "outputs": [
    {
     "output_type": "execute_result",
     "data": {
      "text/plain": [
       "8"
      ]
     },
     "metadata": {},
     "execution_count": 29
    }
   ],
   "source": [
    "e = np.arange(1, 5, dtype=np.complex64)\n",
    "e.itemsize"
   ]
  },
  {
   "cell_type": "markdown",
   "metadata": {},
   "source": [
    "## `data` buffer\n",
    "An array's data is actually stored in memory as a flat (one dimensional) byte buffer. It is available *via* the `data` attribute (you will rarely need it, though)."
   ]
  },
  {
   "cell_type": "code",
   "execution_count": 30,
   "metadata": {},
   "outputs": [
    {
     "output_type": "execute_result",
     "data": {
      "text/plain": [
       "<memory at 0x000002922EEC8D40>"
      ]
     },
     "metadata": {},
     "execution_count": 30
    }
   ],
   "source": [
    "f = np.array([[1,2],[1000, 2000]], dtype=np.int32)\n",
    "f.data"
   ]
  },
  {
   "cell_type": "markdown",
   "metadata": {},
   "source": [
    "In python 2, `f.data` is a buffer. In python 3, it is a memoryview."
   ]
  },
  {
   "cell_type": "code",
   "execution_count": 31,
   "metadata": {},
   "outputs": [
    {
     "output_type": "execute_result",
     "data": {
      "text/plain": [
       "b'\\x01\\x00\\x00\\x00\\x02\\x00\\x00\\x00\\xe8\\x03\\x00\\x00\\xd0\\x07\\x00\\x00'"
      ]
     },
     "metadata": {},
     "execution_count": 31
    }
   ],
   "source": [
    "if (hasattr(f.data, \"tobytes\")):\n",
    "    data_bytes = f.data.tobytes() # python 3\n",
    "else:\n",
    "    data_bytes = memoryview(f.data).tobytes() # python 2\n",
    "\n",
    "data_bytes"
   ]
  },
  {
   "cell_type": "markdown",
   "metadata": {},
   "source": [
    "Several `ndarrays` can share the same data buffer, meaning that modifying one will also modify the others. We will see an example in a minute."
   ]
  },
  {
   "cell_type": "markdown",
   "metadata": {},
   "source": [
    "# Reshaping an array\n",
    "## In place\n",
    "Changing the shape of an `ndarray` is as simple as setting its `shape` attribute. However, the array's size must remain the same."
   ]
  },
  {
   "cell_type": "code",
   "execution_count": 32,
   "metadata": {},
   "outputs": [
    {
     "output_type": "stream",
     "name": "stdout",
     "text": [
      "[ 0  1  2  3  4  5  6  7  8  9 10 11 12 13 14 15 16 17 18 19 20 21 22 23]\nRank: 1\n"
     ]
    }
   ],
   "source": [
    "g = np.arange(24)\n",
    "print(g)\n",
    "print(\"Rank:\", g.ndim)"
   ]
  },
  {
   "cell_type": "code",
   "execution_count": 33,
   "metadata": {},
   "outputs": [
    {
     "output_type": "stream",
     "name": "stdout",
     "text": [
      "[[ 0  1  2  3]\n [ 4  5  6  7]\n [ 8  9 10 11]\n [12 13 14 15]\n [16 17 18 19]\n [20 21 22 23]]\nRank: 2\n"
     ]
    }
   ],
   "source": [
    "g.shape = (6, 4)\n",
    "print(g)\n",
    "print(\"Rank:\", g.ndim)"
   ]
  },
  {
   "cell_type": "code",
   "execution_count": 34,
   "metadata": {
    "scrolled": true
   },
   "outputs": [
    {
     "output_type": "stream",
     "name": "stdout",
     "text": [
      "[[[ 0  1  2  3]\n",
      "  [ 4  5  6  7]\n",
      "  [ 8  9 10 11]]\n",
      "\n",
      " [[12 13 14 15]\n",
      "  [16 17 18 19]\n",
      "  [20 21 22 23]]]\n",
      "Rank: 3\n"
     ]
    }
   ],
   "source": [
    "g.shape = (2, 3, 4)\n",
    "print(g)\n",
    "print(\"Rank:\", g.ndim)"
   ]
  },
  {
   "cell_type": "markdown",
   "metadata": {},
   "source": [
    "## `reshape`\n",
    "The `reshape` function returns a new `ndarray` object pointing at the *same* data. This means that modifying one array will also modify the other."
   ]
  },
  {
   "cell_type": "code",
   "execution_count": 35,
   "metadata": {
    "scrolled": true
   },
   "outputs": [
    {
     "output_type": "stream",
     "name": "stdout",
     "text": [
      "[[ 0  1  2  3  4  5]\n [ 6  7  8  9 10 11]\n [12 13 14 15 16 17]\n [18 19 20 21 22 23]]\nRank: 2\n"
     ]
    }
   ],
   "source": [
    "g2 = g.reshape(4,6)\n",
    "print(g2)\n",
    "print(\"Rank:\", g2.ndim)"
   ]
  },
  {
   "cell_type": "markdown",
   "metadata": {},
   "source": [
    "Set item at row 1, col 2 to 999 (more about indexing below)."
   ]
  },
  {
   "cell_type": "code",
   "execution_count": 36,
   "metadata": {},
   "outputs": [
    {
     "output_type": "execute_result",
     "data": {
      "text/plain": [
       "array([[  0,   1,   2,   3,   4,   5],\n",
       "       [  6,   7, 999,   9,  10,  11],\n",
       "       [ 12,  13,  14,  15,  16,  17],\n",
       "       [ 18,  19,  20,  21,  22,  23]])"
      ]
     },
     "metadata": {},
     "execution_count": 36
    }
   ],
   "source": [
    "g2[1, 2] = 999\n",
    "g2"
   ]
  },
  {
   "cell_type": "markdown",
   "metadata": {},
   "source": [
    "The corresponding element in `g` has been modified."
   ]
  },
  {
   "cell_type": "code",
   "execution_count": 37,
   "metadata": {},
   "outputs": [
    {
     "output_type": "execute_result",
     "data": {
      "text/plain": [
       "array([[[  0,   1,   2,   3],\n",
       "        [  4,   5,   6,   7],\n",
       "        [999,   9,  10,  11]],\n",
       "\n",
       "       [[ 12,  13,  14,  15],\n",
       "        [ 16,  17,  18,  19],\n",
       "        [ 20,  21,  22,  23]]])"
      ]
     },
     "metadata": {},
     "execution_count": 37
    }
   ],
   "source": [
    "g"
   ]
  },
  {
   "cell_type": "markdown",
   "metadata": {},
   "source": [
    "## `ravel`\n",
    "Finally, the `ravel` function returns a new one-dimensional `ndarray` that also points to the same data:"
   ]
  },
  {
   "cell_type": "code",
   "execution_count": 38,
   "metadata": {},
   "outputs": [
    {
     "output_type": "execute_result",
     "data": {
      "text/plain": [
       "array([  0,   1,   2,   3,   4,   5,   6,   7, 999,   9,  10,  11,  12,\n",
       "        13,  14,  15,  16,  17,  18,  19,  20,  21,  22,  23])"
      ]
     },
     "metadata": {},
     "execution_count": 38
    }
   ],
   "source": [
    "g.ravel()"
   ]
  },
  {
   "cell_type": "markdown",
   "metadata": {},
   "source": [
    "# Arithmetic operations\n",
    "All the usual arithmetic operators (`+`, `-`, `*`, `/`, `//`, `**`, etc.) can be used with `ndarray`s. They apply *elementwise*:"
   ]
  },
  {
   "cell_type": "code",
   "execution_count": 39,
   "metadata": {},
   "outputs": [
    {
     "output_type": "stream",
     "name": "stdout",
     "text": [
      "a + b  = [19 27 35 43]\n",
      "a - b  = [ 9 19 29 39]\n",
      "a * b  = [70 92 96 82]\n",
      "a / b  = [ 2.8         5.75       10.66666667 20.5       ]\n",
      "a // b  = [ 2  5 10 20]\n",
      "a % b  = [4 3 2 1]\n",
      "a ** b = [537824 279841  32768   1681]\n"
     ]
    }
   ],
   "source": [
    "a = np.array([14, 23, 32, 41])\n",
    "b = np.array([5,  4,  3,  2])\n",
    "print(\"a + b  =\", a + b)\n",
    "print(\"a - b  =\", a - b)\n",
    "print(\"a * b  =\", a * b)\n",
    "print(\"a / b  =\", a / b)\n",
    "print(\"a // b  =\", a // b)\n",
    "print(\"a % b  =\", a % b)\n",
    "print(\"a ** b =\", a ** b)"
   ]
  },
  {
   "cell_type": "markdown",
   "metadata": {},
   "source": [
    "Note that the multiplication is *not* a matrix multiplication. We will discuss matrix operations below.\n",
    "\n",
    "The arrays must have the same shape. If they do not, NumPy will apply the *broadcasting rules*."
   ]
  },
  {
   "cell_type": "markdown",
   "metadata": {},
   "source": [
    "# Broadcasting"
   ]
  },
  {
   "cell_type": "markdown",
   "metadata": {},
   "source": [
    "In general, when NumPy expects arrays of the same shape but finds that this is not the case, it applies the so-called *broadcasting* rules:\n",
    "\n",
    "## First rule\n",
    "*If the arrays do not have the same rank, then a 1 will be prepended to the smaller ranking arrays until their ranks match.*"
   ]
  },
  {
   "cell_type": "code",
   "execution_count": 40,
   "metadata": {},
   "outputs": [
    {
     "output_type": "execute_result",
     "data": {
      "text/plain": [
       "array([[[0, 1, 2, 3, 4]]])"
      ]
     },
     "metadata": {},
     "execution_count": 40
    }
   ],
   "source": [
    "h = np.arange(5).reshape(1, 1, 5)\n",
    "\n",
    "h"
   ]
  },
  {
   "cell_type": "code",
   "execution_count": 41,
   "metadata": {},
   "outputs": [
    {
     "output_type": "execute_result",
     "data": {
      "text/plain": [
       "(4,)"
      ]
     },
     "metadata": {},
     "execution_count": 41
    }
   ],
   "source": [
    "np.array([1,2,4,5]).shape"
   ]
  },
  {
   "cell_type": "markdown",
   "metadata": {},
   "source": [
    "Now let's try to add a 1D array of shape `(5,)` to this 3D array of shape `(1,1,5)`. Applying the first rule of broadcasting!"
   ]
  },
  {
   "cell_type": "code",
   "execution_count": 42,
   "metadata": {},
   "outputs": [
    {
     "output_type": "execute_result",
     "data": {
      "text/plain": [
       "array([[[10, 21, 32, 43, 54]]])"
      ]
     },
     "metadata": {},
     "execution_count": 42
    }
   ],
   "source": [
    "h + [10, 20, 30, 40, 50]  # same as: h + [[[10, 20, 30, 40, 50]]]"
   ]
  },
  {
   "cell_type": "markdown",
   "metadata": {},
   "source": [
    "## Second rule\n",
    "*Arrays with a 1 along a particular dimension act as if they had the size of the array with the largest shape along that dimension. The value of the array element is repeated along that dimension.*"
   ]
  },
  {
   "cell_type": "code",
   "execution_count": 43,
   "metadata": {},
   "outputs": [
    {
     "output_type": "execute_result",
     "data": {
      "text/plain": [
       "array([[0, 1, 2],\n",
       "       [3, 4, 5]])"
      ]
     },
     "metadata": {},
     "execution_count": 43
    }
   ],
   "source": [
    "k = np.arange(6).reshape(2, 3)\n",
    "k"
   ]
  },
  {
   "cell_type": "markdown",
   "metadata": {},
   "source": [
    "Let's try to add a 2D array of shape `(2,1)` to this 2D `ndarray` of shape `(2, 3)`. NumPy will apply the second rule of broadcasting:"
   ]
  },
  {
   "cell_type": "code",
   "execution_count": 44,
   "metadata": {},
   "outputs": [
    {
     "output_type": "execute_result",
     "data": {
      "text/plain": [
       "array([[100, 101, 102],\n",
       "       [203, 204, 205]])"
      ]
     },
     "metadata": {},
     "execution_count": 44
    }
   ],
   "source": [
    "k + [[100],\n",
    "     [200]]  # same as: k + [[100, 100, 100], \n",
    "                            #[200, 200, 200]]"
   ]
  },
  {
   "cell_type": "markdown",
   "metadata": {},
   "source": [
    "Combining rules 1 & 2, we can do this:"
   ]
  },
  {
   "cell_type": "code",
   "execution_count": 45,
   "metadata": {},
   "outputs": [
    {
     "output_type": "execute_result",
     "data": {
      "text/plain": [
       "array([[100, 201, 302],\n",
       "       [103, 204, 305]])"
      ]
     },
     "metadata": {},
     "execution_count": 45
    }
   ],
   "source": [
    "k + [100, 200, 300]  # after rule 1: [[100, 200, 300]], and after rule 2: [[100, 200, 300], [100, 200, 300]]"
   ]
  },
  {
   "cell_type": "markdown",
   "metadata": {},
   "source": [
    "And also, very simply:"
   ]
  },
  {
   "cell_type": "code",
   "execution_count": 46,
   "metadata": {},
   "outputs": [
    {
     "output_type": "execute_result",
     "data": {
      "text/plain": [
       "array([[1000, 1001, 1002],\n",
       "       [1003, 1004, 1005]])"
      ]
     },
     "metadata": {},
     "execution_count": 46
    }
   ],
   "source": [
    "k + 1000  # same as: k + [[1000, 1000, 1000], [1000, 1000, 1000]]"
   ]
  },
  {
   "cell_type": "markdown",
   "metadata": {},
   "source": [
    "## Third rule\n",
    "*After rules 1 & 2, the sizes of all arrays must match.*"
   ]
  },
  {
   "cell_type": "code",
   "execution_count": 47,
   "metadata": {},
   "outputs": [
    {
     "output_type": "stream",
     "name": "stdout",
     "text": [
      "operands could not be broadcast together with shapes (2,3) (2,) \n"
     ]
    }
   ],
   "source": [
    "try:\n",
    "    k + [33, 44]\n",
    "except ValueError as e:\n",
    "    print(e)"
   ]
  },
  {
   "cell_type": "markdown",
   "metadata": {},
   "source": [
    "Broadcasting rules are used in many NumPy operations, not just arithmetic operations, as we will see below.\n",
    "For more details about broadcasting, check out [the documentation](https://docs.scipy.org/doc/numpy-dev/user/basics.broadcasting.html)."
   ]
  },
  {
   "cell_type": "markdown",
   "metadata": {},
   "source": [
    "## Upcasting\n",
    "When trying to combine arrays with different `dtype`s, NumPy will *upcast* to a type capable of handling all possible values (regardless of what the *actual* values are)."
   ]
  },
  {
   "cell_type": "code",
   "execution_count": 48,
   "metadata": {},
   "outputs": [
    {
     "output_type": "stream",
     "name": "stdout",
     "text": [
      "uint8 [0 1 2 3 4]\n"
     ]
    }
   ],
   "source": [
    "k1 = np.arange(0, 5, dtype=np.uint8)\n",
    "print(k1.dtype, k1)"
   ]
  },
  {
   "cell_type": "code",
   "execution_count": 49,
   "metadata": {},
   "outputs": [
    {
     "output_type": "stream",
     "name": "stdout",
     "text": [
      "int16 [ 5  7  9 11 13]\n"
     ]
    }
   ],
   "source": [
    "k2 = k1 + np.array([5, 6, 7, 8, 9], dtype=np.int8)\n",
    "print(k2.dtype, k2)"
   ]
  },
  {
   "cell_type": "markdown",
   "metadata": {},
   "source": [
    "Note that `int16` is required to represent all *possible* `int8` and `uint8` values (from -128 to 255), even though in this case a uint8 would have sufficed."
   ]
  },
  {
   "cell_type": "code",
   "execution_count": 50,
   "metadata": {},
   "outputs": [
    {
     "output_type": "stream",
     "name": "stdout",
     "text": [
      "float64 [1.5 2.5 3.5 4.5 5.5]\n"
     ]
    }
   ],
   "source": [
    "k3 = k1 + 1.5\n",
    "print(k3.dtype, k3)"
   ]
  },
  {
   "cell_type": "markdown",
   "metadata": {},
   "source": [
    "# Conditional operators"
   ]
  },
  {
   "cell_type": "markdown",
   "metadata": {},
   "source": [
    "The conditional operators also apply elementwise:"
   ]
  },
  {
   "cell_type": "code",
   "execution_count": 51,
   "metadata": {},
   "outputs": [
    {
     "output_type": "execute_result",
     "data": {
      "text/plain": [
       "array([False,  True,  True, False])"
      ]
     },
     "metadata": {},
     "execution_count": 51
    }
   ],
   "source": [
    "m = np.array([20, -5, 30, 40])\n",
    "m < [15, 16, 35, 36]"
   ]
  },
  {
   "cell_type": "markdown",
   "metadata": {},
   "source": [
    "And using broadcasting:"
   ]
  },
  {
   "cell_type": "code",
   "execution_count": 52,
   "metadata": {},
   "outputs": [
    {
     "output_type": "execute_result",
     "data": {
      "text/plain": [
       "array([ True,  True, False, False])"
      ]
     },
     "metadata": {},
     "execution_count": 52
    }
   ],
   "source": [
    "m < 25  # equivalent to m < [25, 25, 25, 25]"
   ]
  },
  {
   "cell_type": "markdown",
   "metadata": {},
   "source": [
    "This is most useful in conjunction with boolean indexing (discussed below)."
   ]
  },
  {
   "cell_type": "code",
   "execution_count": 53,
   "metadata": {},
   "outputs": [
    {
     "output_type": "execute_result",
     "data": {
      "text/plain": [
       "array([20, -5])"
      ]
     },
     "metadata": {},
     "execution_count": 53
    }
   ],
   "source": [
    "m[m < 25]"
   ]
  },
  {
   "cell_type": "markdown",
   "metadata": {},
   "source": [
    "# Mathematical and statistical functions"
   ]
  },
  {
   "cell_type": "markdown",
   "metadata": {},
   "source": [
    "Many mathematical and statistical functions are available for `ndarray`s.\n",
    "\n",
    "## `ndarray` methods\n",
    "Some functions are simply `ndarray` methods, for example:"
   ]
  },
  {
   "cell_type": "code",
   "execution_count": 54,
   "metadata": {},
   "outputs": [
    {
     "output_type": "stream",
     "name": "stdout",
     "text": [
      "[[-2.5  3.1  7. ]\n [10.  11.  12. ]]\nmean = 6.766666666666667\n"
     ]
    }
   ],
   "source": [
    "a = np.array([[-2.5, 3.1, 7], [10, 11, 12]])\n",
    "print(a)\n",
    "print(\"mean =\", a.mean())"
   ]
  },
  {
   "cell_type": "markdown",
   "metadata": {},
   "source": [
    "Note that this computes the mean of all elements in the `ndarray`, regardless of its shape.\n",
    "\n",
    "Here are a few more useful `ndarray` methods:"
   ]
  },
  {
   "cell_type": "code",
   "execution_count": 55,
   "metadata": {},
   "outputs": [
    {
     "output_type": "stream",
     "name": "stdout",
     "text": [
      "min = -2.5\nmax = 12.0\nsum = 40.6\nprod = -71610.0\nstd = 5.084835843520964\nvar = 25.855555555555554\n"
     ]
    }
   ],
   "source": [
    "for func in (a.min, a.max, a.sum, a.prod, a.std, a.var):\n",
    "    print(func.__name__, \"=\", func())"
   ]
  },
  {
   "cell_type": "markdown",
   "metadata": {},
   "source": [
    "These functions accept an optional argument `axis` which lets you ask for the operation to be performed on elements along the given axis. For example:"
   ]
  },
  {
   "cell_type": "code",
   "execution_count": 56,
   "metadata": {},
   "outputs": [
    {
     "output_type": "execute_result",
     "data": {
      "text/plain": [
       "array([[[ 0,  1,  2,  3],\n",
       "        [ 4,  5,  6,  7],\n",
       "        [ 8,  9, 10, 11]],\n",
       "\n",
       "       [[12, 13, 14, 15],\n",
       "        [16, 17, 18, 19],\n",
       "        [20, 21, 22, 23]]])"
      ]
     },
     "metadata": {},
     "execution_count": 56
    }
   ],
   "source": [
    "c=np.arange(24).reshape(2,3,4)\n",
    "c"
   ]
  },
  {
   "cell_type": "code",
   "execution_count": 57,
   "metadata": {},
   "outputs": [
    {
     "output_type": "execute_result",
     "data": {
      "text/plain": [
       "array([[12, 14, 16, 18],\n",
       "       [20, 22, 24, 26],\n",
       "       [28, 30, 32, 34]])"
      ]
     },
     "metadata": {},
     "execution_count": 57
    }
   ],
   "source": [
    "c.sum(axis=0)  # sum across matrices"
   ]
  },
  {
   "cell_type": "code",
   "execution_count": 58,
   "metadata": {},
   "outputs": [
    {
     "output_type": "execute_result",
     "data": {
      "text/plain": [
       "array([[12, 15, 18, 21],\n",
       "       [48, 51, 54, 57]])"
      ]
     },
     "metadata": {},
     "execution_count": 58
    }
   ],
   "source": [
    "c.sum(axis=1)  # sum across rows"
   ]
  },
  {
   "cell_type": "markdown",
   "metadata": {},
   "source": [
    "You can also sum over multiple axes:"
   ]
  },
  {
   "source": [
    "c.sum(axis=(0,2))  # sum across matrices and columns"
   ],
   "cell_type": "code",
   "metadata": {},
   "execution_count": null,
   "outputs": []
  },
  {
   "cell_type": "code",
   "execution_count": 60,
   "metadata": {},
   "outputs": [
    {
     "output_type": "execute_result",
     "data": {
      "text/plain": [
       "(60, 92, 124)"
      ]
     },
     "metadata": {},
     "execution_count": 60
    }
   ],
   "source": [
    "0+1+2+3 + 12+13+14+15, 4+5+6+7 + 16+17+18+19, 8+9+10+11 + 20+21+22+23"
   ]
  },
  {
   "cell_type": "markdown",
   "metadata": {},
   "source": [
    "## Universal functions\n",
    "NumPy also provides fast elementwise functions called *universal functions*, or **ufunc**. They are vectorized wrappers of simple functions. For example `square` returns a new `ndarray` which is a copy of the original `ndarray` except that each element is squared:"
   ]
  },
  {
   "cell_type": "code",
   "execution_count": 61,
   "metadata": {},
   "outputs": [
    {
     "output_type": "execute_result",
     "data": {
      "text/plain": [
       "array([[  6.25,   9.61,  49.  ],\n",
       "       [100.  , 121.  , 144.  ]])"
      ]
     },
     "metadata": {},
     "execution_count": 61
    }
   ],
   "source": [
    "a = np.array([[-2.5, 3.1, 7], [10, 11, 12]])\n",
    "np.square(a)"
   ]
  },
  {
   "cell_type": "markdown",
   "metadata": {},
   "source": [
    "Here are a few more useful unary ufuncs:"
   ]
  },
  {
   "cell_type": "code",
   "execution_count": 62,
   "metadata": {},
   "outputs": [
    {
     "output_type": "stream",
     "name": "stdout",
     "text": [
      "Original ndarray\n",
      "[[-2.5  3.1  7. ]\n",
      " [10.  11.  12. ]]\n",
      "\n",
      " absolute\n",
      "[[ 2.5  3.1  7. ]\n",
      " [10.  11.  12. ]]\n",
      "\n",
      " sqrt\n",
      "[[       nan 1.76068169 2.64575131]\n",
      " [3.16227766 3.31662479 3.46410162]]\n",
      "\n",
      " exp\n",
      "[[8.20849986e-02 2.21979513e+01 1.09663316e+03]\n",
      " [2.20264658e+04 5.98741417e+04 1.62754791e+05]]\n",
      "\n",
      " log\n",
      "[[       nan 1.13140211 1.94591015]\n",
      " [2.30258509 2.39789527 2.48490665]]\n",
      "\n",
      " sign\n",
      "[[-1.  1.  1.]\n",
      " [ 1.  1.  1.]]\n",
      "\n",
      " ceil\n",
      "[[-2.  4.  7.]\n",
      " [10. 11. 12.]]\n",
      "\n",
      " modf\n",
      "(array([[-0.5,  0.1,  0. ],\n",
      "       [ 0. ,  0. ,  0. ]]), array([[-2.,  3.,  7.],\n",
      "       [10., 11., 12.]]))\n",
      "\n",
      " isnan\n",
      "[[False False False]\n",
      " [False False False]]\n",
      "\n",
      " cos\n",
      "[[-0.80114362 -0.99913515  0.75390225]\n",
      " [-0.83907153  0.0044257   0.84385396]]\n",
      "<ipython-input-62-d7de681c1882>:5: RuntimeWarning: invalid value encountered in sqrt\n",
      "  print(func(a))\n",
      "<ipython-input-62-d7de681c1882>:5: RuntimeWarning: invalid value encountered in log\n",
      "  print(func(a))\n"
     ]
    }
   ],
   "source": [
    "print(\"Original ndarray\")\n",
    "print(a)\n",
    "for func in (np.abs, np.sqrt, np.exp, np.log, np.sign, np.ceil, np.modf, np.isnan, np.cos):\n",
    "    print(\"\\n\", func.__name__)\n",
    "    print(func(a))"
   ]
  },
  {
   "cell_type": "markdown",
   "metadata": {},
   "source": [
    "## Binary ufuncs\n",
    "There are also many binary ufuncs, that apply elementwise on two `ndarray`s.  Broadcasting rules are applied if the arrays do not have the same shape:"
   ]
  },
  {
   "cell_type": "code",
   "execution_count": 63,
   "metadata": {},
   "outputs": [
    {
     "output_type": "execute_result",
     "data": {
      "text/plain": [
       "array([ 3,  6,  2, 11])"
      ]
     },
     "metadata": {},
     "execution_count": 63
    }
   ],
   "source": [
    "a = np.array([1, -2, 3, 4])\n",
    "b = np.array([2, 8, -1, 7])\n",
    "np.add(a, b)  # equivalent to a + b"
   ]
  },
  {
   "cell_type": "code",
   "execution_count": 64,
   "metadata": {},
   "outputs": [
    {
     "output_type": "execute_result",
     "data": {
      "text/plain": [
       "array([False, False,  True, False])"
      ]
     },
     "metadata": {},
     "execution_count": 64
    }
   ],
   "source": [
    "np.greater(a, b)  # equivalent to a > b"
   ]
  },
  {
   "cell_type": "code",
   "execution_count": 65,
   "metadata": {},
   "outputs": [
    {
     "output_type": "execute_result",
     "data": {
      "text/plain": [
       "array([2, 8, 3, 7])"
      ]
     },
     "metadata": {},
     "execution_count": 65
    }
   ],
   "source": [
    "np.maximum(a, b)"
   ]
  },
  {
   "cell_type": "code",
   "execution_count": 66,
   "metadata": {},
   "outputs": [
    {
     "output_type": "execute_result",
     "data": {
      "text/plain": [
       "array([ 1.,  2., -3.,  4.])"
      ]
     },
     "metadata": {},
     "execution_count": 66
    }
   ],
   "source": [
    "np.copysign(a, b)"
   ]
  },
  {
   "cell_type": "markdown",
   "metadata": {},
   "source": [
    "# Array indexing\n",
    "## One-dimensional arrays\n",
    "One-dimensional NumPy arrays can be accessed more or less like regular python arrays:"
   ]
  },
  {
   "cell_type": "code",
   "execution_count": 67,
   "metadata": {},
   "outputs": [
    {
     "output_type": "execute_result",
     "data": {
      "text/plain": [
       "19"
      ]
     },
     "metadata": {},
     "execution_count": 67
    }
   ],
   "source": [
    "a = np.array([1, 5, 3, 19, 13, 7, 3])\n",
    "a[3]"
   ]
  },
  {
   "cell_type": "code",
   "execution_count": 68,
   "metadata": {},
   "outputs": [
    {
     "output_type": "execute_result",
     "data": {
      "text/plain": [
       "array([ 3, 19, 13])"
      ]
     },
     "metadata": {},
     "execution_count": 68
    }
   ],
   "source": [
    "a[2:5]"
   ]
  },
  {
   "cell_type": "code",
   "execution_count": 69,
   "metadata": {},
   "outputs": [
    {
     "output_type": "execute_result",
     "data": {
      "text/plain": [
       "array([ 3, 19, 13,  7])"
      ]
     },
     "metadata": {},
     "execution_count": 69
    }
   ],
   "source": [
    "a[2:-1]"
   ]
  },
  {
   "cell_type": "code",
   "execution_count": 70,
   "metadata": {},
   "outputs": [
    {
     "output_type": "execute_result",
     "data": {
      "text/plain": [
       "array([1, 5])"
      ]
     },
     "metadata": {},
     "execution_count": 70
    }
   ],
   "source": [
    "a[:2] #a[0:2]"
   ]
  },
  {
   "cell_type": "code",
   "execution_count": 71,
   "metadata": {},
   "outputs": [
    {
     "output_type": "execute_result",
     "data": {
      "text/plain": [
       "array([ 3, 13,  3])"
      ]
     },
     "metadata": {},
     "execution_count": 71
    }
   ],
   "source": [
    "a[2::2] "
   ]
  },
  {
   "cell_type": "code",
   "execution_count": 72,
   "metadata": {},
   "outputs": [
    {
     "output_type": "execute_result",
     "data": {
      "text/plain": [
       "array([ 3,  7, 13, 19,  3,  5,  1])"
      ]
     },
     "metadata": {},
     "execution_count": 72
    }
   ],
   "source": [
    "a[::-1]"
   ]
  },
  {
   "cell_type": "markdown",
   "metadata": {},
   "source": [
    "Of course, you can modify elements:"
   ]
  },
  {
   "cell_type": "code",
   "execution_count": 73,
   "metadata": {},
   "outputs": [
    {
     "output_type": "execute_result",
     "data": {
      "text/plain": [
       "array([  1,   5,   3, 999,  13,   7,   3])"
      ]
     },
     "metadata": {},
     "execution_count": 73
    }
   ],
   "source": [
    "a[3]=999\n",
    "a"
   ]
  },
  {
   "cell_type": "markdown",
   "metadata": {},
   "source": [
    "You can also modify an `ndarray` slice:"
   ]
  },
  {
   "cell_type": "code",
   "execution_count": 74,
   "metadata": {},
   "outputs": [
    {
     "output_type": "execute_result",
     "data": {
      "text/plain": [
       "array([  1,   5, 997, 998, 999,   7,   3])"
      ]
     },
     "metadata": {},
     "execution_count": 74
    }
   ],
   "source": [
    "a[2:5] = [997, 998, 999]\n",
    "a"
   ]
  },
  {
   "cell_type": "markdown",
   "metadata": {},
   "source": [
    "## Differences with regular python arrays\n",
    "Contrary to regular python arrays, if you assign a single value to an `ndarray` slice, it is copied across the whole slice, thanks to broadcasting rules discussed above."
   ]
  },
  {
   "cell_type": "code",
   "execution_count": 75,
   "metadata": {},
   "outputs": [
    {
     "output_type": "execute_result",
     "data": {
      "text/plain": [
       "array([ 1,  5, -1, -1, -1,  7,  3])"
      ]
     },
     "metadata": {},
     "execution_count": 75
    }
   ],
   "source": [
    "a[2:5] = -1\n",
    "a"
   ]
  },
  {
   "cell_type": "markdown",
   "metadata": {},
   "source": [
    "Also, you cannot grow or shrink `ndarray`s this way:"
   ]
  },
  {
   "cell_type": "code",
   "execution_count": 76,
   "metadata": {},
   "outputs": [
    {
     "output_type": "stream",
     "name": "stdout",
     "text": [
      "cannot copy sequence with size 6 to array axis with dimension 3\n"
     ]
    }
   ],
   "source": [
    "try:\n",
    "    a[2:5] = [1,2,3,4,5,6]  # too long\n",
    "except ValueError as e:\n",
    "    print(e)"
   ]
  },
  {
   "cell_type": "markdown",
   "metadata": {},
   "source": [
    "You cannot delete elements either:"
   ]
  },
  {
   "cell_type": "code",
   "execution_count": 77,
   "metadata": {},
   "outputs": [
    {
     "output_type": "stream",
     "name": "stdout",
     "text": [
      "cannot delete array elements\n"
     ]
    }
   ],
   "source": [
    "try:\n",
    "    del a[2:5]\n",
    "except ValueError as e:\n",
    "    print(e)"
   ]
  },
  {
   "cell_type": "markdown",
   "metadata": {},
   "source": [
    "Last but not least, `ndarray` **slices are actually *views*** on the same data buffer. This means that if you create a slice and modify it, you are actually going to modify the original `ndarray` as well!"
   ]
  },
  {
   "cell_type": "code",
   "execution_count": 78,
   "metadata": {},
   "outputs": [
    {
     "output_type": "execute_result",
     "data": {
      "text/plain": [
       "array([   1,    5,   -1, 1000,   -1,    7,    3])"
      ]
     },
     "metadata": {},
     "execution_count": 78
    }
   ],
   "source": [
    "a_slice = a[2:6]\n",
    "a_slice[1] = 1000\n",
    "a  # the original array was modified!"
   ]
  },
  {
   "cell_type": "code",
   "execution_count": 79,
   "metadata": {},
   "outputs": [
    {
     "output_type": "execute_result",
     "data": {
      "text/plain": [
       "array([  -1, 2000,   -1,    7])"
      ]
     },
     "metadata": {},
     "execution_count": 79
    }
   ],
   "source": [
    "a[3] = 2000\n",
    "a_slice  # similarly, modifying the original array modifies the slice!"
   ]
  },
  {
   "cell_type": "markdown",
   "metadata": {},
   "source": [
    "If you want a copy of the data, you need to use the `copy` method:"
   ]
  },
  {
   "cell_type": "code",
   "execution_count": 80,
   "metadata": {},
   "outputs": [
    {
     "output_type": "execute_result",
     "data": {
      "text/plain": [
       "array([   1,    5,   -1, 2000,   -1,    7,    3])"
      ]
     },
     "metadata": {},
     "execution_count": 80
    }
   ],
   "source": [
    "another_slice = a[2:6].copy()\n",
    "another_slice[1] = 3000\n",
    "a  # the original array is untouched"
   ]
  },
  {
   "cell_type": "code",
   "execution_count": 81,
   "metadata": {},
   "outputs": [
    {
     "output_type": "execute_result",
     "data": {
      "text/plain": [
       "array([  -1, 3000,   -1,    7])"
      ]
     },
     "metadata": {},
     "execution_count": 81
    }
   ],
   "source": [
    "a[3] = 4000\n",
    "another_slice  # similary, modifying the original array does not affect the slice copy"
   ]
  },
  {
   "cell_type": "markdown",
   "metadata": {},
   "source": [
    "## Multi-dimensional arrays\n",
    "Multi-dimensional arrays can be accessed in a similar way by providing an index or slice for each axis, separated by commas:"
   ]
  },
  {
   "cell_type": "code",
   "execution_count": 82,
   "metadata": {},
   "outputs": [
    {
     "output_type": "execute_result",
     "data": {
      "text/plain": [
       "array([[ 0,  1,  2,  3,  4,  5,  6,  7,  8,  9, 10, 11],\n",
       "       [12, 13, 14, 15, 16, 17, 18, 19, 20, 21, 22, 23],\n",
       "       [24, 25, 26, 27, 28, 29, 30, 31, 32, 33, 34, 35],\n",
       "       [36, 37, 38, 39, 40, 41, 42, 43, 44, 45, 46, 47]])"
      ]
     },
     "metadata": {},
     "execution_count": 82
    }
   ],
   "source": [
    "b = np.arange(48).reshape(4, 12)\n",
    "b"
   ]
  },
  {
   "cell_type": "code",
   "execution_count": 83,
   "metadata": {},
   "outputs": [
    {
     "output_type": "execute_result",
     "data": {
      "text/plain": [
       "14"
      ]
     },
     "metadata": {},
     "execution_count": 83
    }
   ],
   "source": [
    "b[1, 2]  # row 1, col 2"
   ]
  },
  {
   "cell_type": "code",
   "execution_count": 84,
   "metadata": {},
   "outputs": [
    {
     "output_type": "execute_result",
     "data": {
      "text/plain": [
       "array([12, 13, 14, 15, 16, 17, 18, 19, 20, 21, 22, 23])"
      ]
     },
     "metadata": {},
     "execution_count": 84
    }
   ],
   "source": [
    "b[1, :]  # row 1, all columns"
   ]
  },
  {
   "cell_type": "code",
   "execution_count": 85,
   "metadata": {},
   "outputs": [
    {
     "output_type": "execute_result",
     "data": {
      "text/plain": [
       "array([ 1, 13, 25, 37])"
      ]
     },
     "metadata": {},
     "execution_count": 85
    }
   ],
   "source": [
    "b[:, 1]  # all rows, column 1"
   ]
  },
  {
   "cell_type": "markdown",
   "metadata": {},
   "source": [
    "**Caution**: note the subtle difference between these two expressions: "
   ]
  },
  {
   "cell_type": "code",
   "execution_count": 86,
   "metadata": {
    "scrolled": true
   },
   "outputs": [
    {
     "output_type": "execute_result",
     "data": {
      "text/plain": [
       "array([12, 13, 14, 15, 16, 17, 18, 19, 20, 21, 22, 23])"
      ]
     },
     "metadata": {},
     "execution_count": 86
    }
   ],
   "source": [
    "b[1, :]"
   ]
  },
  {
   "cell_type": "code",
   "execution_count": 87,
   "metadata": {},
   "outputs": [
    {
     "output_type": "execute_result",
     "data": {
      "text/plain": [
       "array([[12, 13, 14, 15, 16, 17, 18, 19, 20, 21, 22, 23]])"
      ]
     },
     "metadata": {},
     "execution_count": 87
    }
   ],
   "source": [
    "b[1:2, :]"
   ]
  },
  {
   "cell_type": "markdown",
   "metadata": {},
   "source": [
    "The first expression returns row 1 as a 1D array of shape `(12,)`, while the second returns that same row as a 2D array of shape `(1, 12)`."
   ]
  },
  {
   "cell_type": "markdown",
   "metadata": {},
   "source": [
    "## Fancy indexing\n",
    "You may also specify a list of indices that you are interested in. This is referred to as *fancy indexing*."
   ]
  },
  {
   "cell_type": "code",
   "execution_count": 88,
   "metadata": {
    "scrolled": true
   },
   "outputs": [
    {
     "output_type": "execute_result",
     "data": {
      "text/plain": [
       "array([[ 2,  3,  4],\n",
       "       [26, 27, 28]])"
      ]
     },
     "metadata": {},
     "execution_count": 88
    }
   ],
   "source": [
    "b[(0,2), 2:5]  # rows 0 and 2, columns 2 to 4 (5-1)"
   ]
  },
  {
   "cell_type": "code",
   "execution_count": 89,
   "metadata": {},
   "outputs": [
    {
     "output_type": "execute_result",
     "data": {
      "text/plain": [
       "array([[11,  2, 11],\n",
       "       [23, 14, 23],\n",
       "       [35, 26, 35],\n",
       "       [47, 38, 47]])"
      ]
     },
     "metadata": {},
     "execution_count": 89
    }
   ],
   "source": [
    "b[:, (-1, 2, -1)]  # all rows, columns -1 (last), 2 and -1 (again, and in this order)"
   ]
  },
  {
   "cell_type": "markdown",
   "metadata": {},
   "source": [
    "If you provide multiple index arrays, you get a 1D `ndarray` containing the values of the elements at the specified coordinates."
   ]
  },
  {
   "cell_type": "code",
   "execution_count": 90,
   "metadata": {},
   "outputs": [
    {
     "output_type": "execute_result",
     "data": {
      "text/plain": [
       "array([41, 33, 37, 33])"
      ]
     },
     "metadata": {},
     "execution_count": 90
    }
   ],
   "source": [
    "b[(-1, 2, -1, 2), (5, 9, 1,9)]  # returns a 1D array with b[-1, 5], b[2, 9], b[-1, 1] and b[2, 9] (again)"
   ]
  },
  {
   "cell_type": "markdown",
   "metadata": {},
   "source": [
    "## Higher dimensions\n",
    "Everything works just as well with higher dimensional arrays, but it's useful to look at a few examples:"
   ]
  },
  {
   "cell_type": "code",
   "execution_count": 91,
   "metadata": {},
   "outputs": [
    {
     "output_type": "execute_result",
     "data": {
      "text/plain": [
       "array([[[ 0,  1,  2,  3,  4,  5],\n",
       "        [ 6,  7,  8,  9, 10, 11]],\n",
       "\n",
       "       [[12, 13, 14, 15, 16, 17],\n",
       "        [18, 19, 20, 21, 22, 23]],\n",
       "\n",
       "       [[24, 25, 26, 27, 28, 29],\n",
       "        [30, 31, 32, 33, 34, 35]],\n",
       "\n",
       "       [[36, 37, 38, 39, 40, 41],\n",
       "        [42, 43, 44, 45, 46, 47]]])"
      ]
     },
     "metadata": {},
     "execution_count": 91
    }
   ],
   "source": [
    "c = b.reshape(4,2,6)\n",
    "c"
   ]
  },
  {
   "cell_type": "code",
   "execution_count": 92,
   "metadata": {},
   "outputs": [
    {
     "output_type": "execute_result",
     "data": {
      "text/plain": [
       "34"
      ]
     },
     "metadata": {},
     "execution_count": 92
    }
   ],
   "source": [
    "c[2, 1, 4]  # matrix 2, row 1, col 4"
   ]
  },
  {
   "cell_type": "code",
   "execution_count": 93,
   "metadata": {},
   "outputs": [
    {
     "output_type": "execute_result",
     "data": {
      "text/plain": [
       "array([27, 33])"
      ]
     },
     "metadata": {},
     "execution_count": 93
    }
   ],
   "source": [
    "c[2, :, 3]  # matrix 2, all rows, col 3"
   ]
  },
  {
   "cell_type": "markdown",
   "metadata": {},
   "source": [
    "If you omit coordinates for some axes, then all elements in these axes are returned:"
   ]
  },
  {
   "cell_type": "code",
   "execution_count": 94,
   "metadata": {},
   "outputs": [
    {
     "output_type": "execute_result",
     "data": {
      "text/plain": [
       "array([30, 31, 32, 33, 34, 35])"
      ]
     },
     "metadata": {},
     "execution_count": 94
    }
   ],
   "source": [
    "c[2, 1]  # Return matrix 2, row 1, all columns.  This is equivalent to c[2, 1, :]"
   ]
  },
  {
   "cell_type": "markdown",
   "metadata": {},
   "source": [
    "## Ellipsis (`...`)\n",
    "You may also write an ellipsis (`...`) to ask that all non-specified axes be entirely included."
   ]
  },
  {
   "cell_type": "code",
   "execution_count": 95,
   "metadata": {},
   "outputs": [
    {
     "output_type": "execute_result",
     "data": {
      "text/plain": [
       "array([[24, 25, 26, 27, 28, 29],\n",
       "       [30, 31, 32, 33, 34, 35]])"
      ]
     },
     "metadata": {},
     "execution_count": 95
    }
   ],
   "source": [
    "c[2, ...]  #  matrix 2, all rows, all columns.  This is equivalent to c[2, :, :]"
   ]
  },
  {
   "cell_type": "code",
   "execution_count": 96,
   "metadata": {},
   "outputs": [
    {
     "output_type": "execute_result",
     "data": {
      "text/plain": [
       "array([30, 31, 32, 33, 34, 35])"
      ]
     },
     "metadata": {},
     "execution_count": 96
    }
   ],
   "source": [
    "c[2, 1, ...]  # matrix 2, row 1, all columns.  This is equivalent to c[2, 1, :]"
   ]
  },
  {
   "cell_type": "code",
   "execution_count": 97,
   "metadata": {},
   "outputs": [
    {
     "output_type": "execute_result",
     "data": {
      "text/plain": [
       "array([27, 33])"
      ]
     },
     "metadata": {},
     "execution_count": 97
    }
   ],
   "source": [
    "c[2, ..., 3]  # matrix 2, all rows, column 3.  This is equivalent to c[2, :, 3]"
   ]
  },
  {
   "cell_type": "code",
   "execution_count": 98,
   "metadata": {},
   "outputs": [
    {
     "output_type": "execute_result",
     "data": {
      "text/plain": [
       "array([[ 3,  9],\n",
       "       [15, 21],\n",
       "       [27, 33],\n",
       "       [39, 45]])"
      ]
     },
     "metadata": {},
     "execution_count": 98
    }
   ],
   "source": [
    "c[..., 3]  # all matrices, all rows, column 3.  This is equivalent to c[:, :, 3]"
   ]
  },
  {
   "cell_type": "markdown",
   "metadata": {},
   "source": [
    "## Boolean indexing\n",
    "You can also provide an `ndarray` of boolean values on one axis to specify the indices that you want to access."
   ]
  },
  {
   "cell_type": "code",
   "execution_count": 99,
   "metadata": {},
   "outputs": [
    {
     "output_type": "execute_result",
     "data": {
      "text/plain": [
       "array([[ 0,  1,  2,  3,  4,  5,  6,  7,  8,  9, 10, 11],\n",
       "       [12, 13, 14, 15, 16, 17, 18, 19, 20, 21, 22, 23],\n",
       "       [24, 25, 26, 27, 28, 29, 30, 31, 32, 33, 34, 35],\n",
       "       [36, 37, 38, 39, 40, 41, 42, 43, 44, 45, 46, 47]])"
      ]
     },
     "metadata": {},
     "execution_count": 99
    }
   ],
   "source": [
    "b = np.arange(48).reshape(4, 12)\n",
    "b"
   ]
  },
  {
   "cell_type": "code",
   "execution_count": 100,
   "metadata": {},
   "outputs": [
    {
     "output_type": "execute_result",
     "data": {
      "text/plain": [
       "array([[ 0,  1,  2,  3,  4,  5,  6,  7,  8,  9, 10, 11],\n",
       "       [24, 25, 26, 27, 28, 29, 30, 31, 32, 33, 34, 35]])"
      ]
     },
     "metadata": {},
     "execution_count": 100
    }
   ],
   "source": [
    "rows_on = np.array([True, False, True, False])\n",
    "b[rows_on, :]  # Rows 0 and 2, all columns. Equivalent to b[(0, 2), :]"
   ]
  },
  {
   "cell_type": "code",
   "execution_count": 101,
   "metadata": {},
   "outputs": [
    {
     "output_type": "execute_result",
     "data": {
      "text/plain": [
       "array([[ 1,  4,  7, 10],\n",
       "       [13, 16, 19, 22],\n",
       "       [25, 28, 31, 34],\n",
       "       [37, 40, 43, 46]])"
      ]
     },
     "metadata": {},
     "execution_count": 101
    }
   ],
   "source": [
    "cols_on = np.array([False, True, False] * 4)\n",
    "b[:, cols_on]  # All rows, columns 1, 4, 7 and 10"
   ]
  },
  {
   "cell_type": "markdown",
   "metadata": {},
   "source": [
    "## `np.ix_`\n",
    "You cannot use boolean indexing this way on multiple axes, but you can work around this by using the `ix_` function:"
   ]
  },
  {
   "cell_type": "code",
   "execution_count": 102,
   "metadata": {},
   "outputs": [
    {
     "output_type": "execute_result",
     "data": {
      "text/plain": [
       "array([[ 1,  4,  7, 10],\n",
       "       [25, 28, 31, 34]])"
      ]
     },
     "metadata": {},
     "execution_count": 102
    }
   ],
   "source": [
    "b[np.ix_(rows_on, cols_on)]"
   ]
  },
  {
   "cell_type": "code",
   "execution_count": 103,
   "metadata": {},
   "outputs": [
    {
     "output_type": "execute_result",
     "data": {
      "text/plain": [
       "(array([[0],\n",
       "        [2]], dtype=int64),\n",
       " array([[ 1,  4,  7, 10]], dtype=int64))"
      ]
     },
     "metadata": {},
     "execution_count": 103
    }
   ],
   "source": [
    "np.ix_(rows_on, cols_on)"
   ]
  },
  {
   "cell_type": "markdown",
   "metadata": {},
   "source": [
    "If you use a boolean array that has the same shape as the `ndarray`, then you get in return a 1D array containing all the values that have `True` at their coordinate. This is generally used along with conditional operators:"
   ]
  },
  {
   "cell_type": "code",
   "execution_count": 104,
   "metadata": {},
   "outputs": [
    {
     "output_type": "execute_result",
     "data": {
      "text/plain": [
       "array([ 1,  4,  7, 10, 13, 16, 19, 22, 25, 28, 31, 34, 37, 40, 43, 46])"
      ]
     },
     "metadata": {},
     "execution_count": 104
    }
   ],
   "source": [
    "b[b % 3 == 1]"
   ]
  },
  {
   "cell_type": "markdown",
   "metadata": {},
   "source": [
    "# Iterating\n",
    "Iterating over `ndarray`s is very similar to iterating over regular python arrays. Note that iterating over multidimensional arrays is done with respect to the first axis."
   ]
  },
  {
   "cell_type": "code",
   "execution_count": 105,
   "metadata": {},
   "outputs": [
    {
     "output_type": "execute_result",
     "data": {
      "text/plain": [
       "array([[[ 0,  1,  2,  3],\n",
       "        [ 4,  5,  6,  7],\n",
       "        [ 8,  9, 10, 11]],\n",
       "\n",
       "       [[12, 13, 14, 15],\n",
       "        [16, 17, 18, 19],\n",
       "        [20, 21, 22, 23]]])"
      ]
     },
     "metadata": {},
     "execution_count": 105
    }
   ],
   "source": [
    "c = np.arange(24).reshape(2, 3, 4)  # A 3D array (composed of two 3x4 matrices)\n",
    "c"
   ]
  },
  {
   "cell_type": "code",
   "execution_count": 106,
   "metadata": {},
   "outputs": [
    {
     "output_type": "stream",
     "name": "stdout",
     "text": [
      "Item:\n[[ 0  1  2  3]\n [ 4  5  6  7]\n [ 8  9 10 11]]\nItem:\n[[12 13 14 15]\n [16 17 18 19]\n [20 21 22 23]]\n"
     ]
    }
   ],
   "source": [
    "for m in c:\n",
    "    print(\"Item:\")\n",
    "    print(m)"
   ]
  },
  {
   "cell_type": "code",
   "execution_count": 107,
   "metadata": {},
   "outputs": [
    {
     "output_type": "stream",
     "name": "stdout",
     "text": [
      "Item:\n[[ 0  1  2  3]\n [ 4  5  6  7]\n [ 8  9 10 11]]\nItem:\n[[12 13 14 15]\n [16 17 18 19]\n [20 21 22 23]]\n"
     ]
    }
   ],
   "source": [
    "for i in range(len(c)):  # Note that len(c) == c.shape[0]\n",
    "    print(\"Item:\")\n",
    "    print(c[i])"
   ]
  },
  {
   "cell_type": "markdown",
   "metadata": {},
   "source": [
    "If you want to iterate on *all* elements in the `ndarray`, simply iterate over the `flat` attribute:"
   ]
  },
  {
   "cell_type": "code",
   "execution_count": 108,
   "metadata": {},
   "outputs": [
    {
     "output_type": "stream",
     "name": "stdout",
     "text": [
      "Item: 0\nItem: 1\nItem: 2\nItem: 3\nItem: 4\nItem: 5\nItem: 6\nItem: 7\nItem: 8\nItem: 9\nItem: 10\nItem: 11\nItem: 12\nItem: 13\nItem: 14\nItem: 15\nItem: 16\nItem: 17\nItem: 18\nItem: 19\nItem: 20\nItem: 21\nItem: 22\nItem: 23\n"
     ]
    }
   ],
   "source": [
    "for i in c.flat:\n",
    "    print(\"Item:\", i)"
   ]
  },
  {
   "cell_type": "markdown",
   "metadata": {},
   "source": [
    "# Stacking arrays\n",
    "It is often useful to stack together different arrays. NumPy offers several functions to do just that. Let's start by creating a few arrays."
   ]
  },
  {
   "cell_type": "code",
   "execution_count": 109,
   "metadata": {},
   "outputs": [
    {
     "output_type": "execute_result",
     "data": {
      "text/plain": [
       "array([[1., 1., 1., 1.],\n",
       "       [1., 1., 1., 1.],\n",
       "       [1., 1., 1., 1.]])"
      ]
     },
     "metadata": {},
     "execution_count": 109
    }
   ],
   "source": [
    "q1 = np.full((3,4), 1.0)\n",
    "q1"
   ]
  },
  {
   "cell_type": "code",
   "execution_count": 110,
   "metadata": {},
   "outputs": [
    {
     "output_type": "execute_result",
     "data": {
      "text/plain": [
       "array([[2., 2., 2., 2.],\n",
       "       [2., 2., 2., 2.],\n",
       "       [2., 2., 2., 2.],\n",
       "       [2., 2., 2., 2.]])"
      ]
     },
     "metadata": {},
     "execution_count": 110
    }
   ],
   "source": [
    "q2 = np.full((4,4), 2.0)\n",
    "q2"
   ]
  },
  {
   "cell_type": "code",
   "execution_count": 111,
   "metadata": {},
   "outputs": [
    {
     "output_type": "execute_result",
     "data": {
      "text/plain": [
       "array([[3., 3., 3., 3.],\n",
       "       [3., 3., 3., 3.],\n",
       "       [3., 3., 3., 3.]])"
      ]
     },
     "metadata": {},
     "execution_count": 111
    }
   ],
   "source": [
    "q3 = np.full((3,4), 3.0)\n",
    "q3"
   ]
  },
  {
   "cell_type": "markdown",
   "metadata": {},
   "source": [
    "## `vstack`\n",
    "Now let's stack them vertically using `vstack`:"
   ]
  },
  {
   "cell_type": "code",
   "execution_count": 112,
   "metadata": {},
   "outputs": [
    {
     "output_type": "execute_result",
     "data": {
      "text/plain": [
       "array([[1., 1., 1., 1.],\n",
       "       [1., 1., 1., 1.],\n",
       "       [1., 1., 1., 1.],\n",
       "       [2., 2., 2., 2.],\n",
       "       [2., 2., 2., 2.],\n",
       "       [2., 2., 2., 2.],\n",
       "       [2., 2., 2., 2.],\n",
       "       [3., 3., 3., 3.],\n",
       "       [3., 3., 3., 3.],\n",
       "       [3., 3., 3., 3.]])"
      ]
     },
     "metadata": {},
     "execution_count": 112
    }
   ],
   "source": [
    "q4 = np.vstack((q1, q2, q3))\n",
    "q4"
   ]
  },
  {
   "cell_type": "code",
   "execution_count": 113,
   "metadata": {},
   "outputs": [
    {
     "output_type": "execute_result",
     "data": {
      "text/plain": [
       "(10, 4)"
      ]
     },
     "metadata": {},
     "execution_count": 113
    }
   ],
   "source": [
    "q4.shape"
   ]
  },
  {
   "cell_type": "markdown",
   "metadata": {},
   "source": [
    "This was possible because q1, q2 and q3 all have the same shape (except for the vertical axis, but that's ok since we are stacking on that axis).\n",
    "\n",
    "## `hstack`\n",
    "We can also stack arrays horizontally using `hstack`:"
   ]
  },
  {
   "cell_type": "code",
   "execution_count": 114,
   "metadata": {},
   "outputs": [
    {
     "output_type": "execute_result",
     "data": {
      "text/plain": [
       "array([[1., 1., 1., 1., 3., 3., 3., 3.],\n",
       "       [1., 1., 1., 1., 3., 3., 3., 3.],\n",
       "       [1., 1., 1., 1., 3., 3., 3., 3.]])"
      ]
     },
     "metadata": {},
     "execution_count": 114
    }
   ],
   "source": [
    "q5 = np.hstack((q1, q3))\n",
    "q5"
   ]
  },
  {
   "cell_type": "code",
   "execution_count": 115,
   "metadata": {},
   "outputs": [
    {
     "output_type": "execute_result",
     "data": {
      "text/plain": [
       "(3, 8)"
      ]
     },
     "metadata": {},
     "execution_count": 115
    }
   ],
   "source": [
    "q5.shape"
   ]
  },
  {
   "cell_type": "markdown",
   "metadata": {},
   "source": [
    "This is possible because q1 and q3 both have 3 rows. But since q2 has 4 rows, it cannot be stacked horizontally with q1 and q3:"
   ]
  },
  {
   "cell_type": "code",
   "execution_count": 116,
   "metadata": {},
   "outputs": [
    {
     "output_type": "stream",
     "name": "stdout",
     "text": [
      "all the input array dimensions for the concatenation axis must match exactly, but along dimension 0, the array at index 0 has size 3 and the array at index 1 has size 4\n"
     ]
    }
   ],
   "source": [
    "try:\n",
    "    q5 = np.hstack((q1, q2, q3))\n",
    "except ValueError as e:\n",
    "    print(e)"
   ]
  },
  {
   "cell_type": "markdown",
   "metadata": {},
   "source": [
    "## `concatenate`\n",
    "The `concatenate` function stacks arrays along any given existing axis."
   ]
  },
  {
   "cell_type": "code",
   "execution_count": 117,
   "metadata": {},
   "outputs": [
    {
     "output_type": "execute_result",
     "data": {
      "text/plain": [
       "array([[1., 1., 1., 1.],\n",
       "       [1., 1., 1., 1.],\n",
       "       [1., 1., 1., 1.],\n",
       "       [2., 2., 2., 2.],\n",
       "       [2., 2., 2., 2.],\n",
       "       [2., 2., 2., 2.],\n",
       "       [2., 2., 2., 2.],\n",
       "       [3., 3., 3., 3.],\n",
       "       [3., 3., 3., 3.],\n",
       "       [3., 3., 3., 3.]])"
      ]
     },
     "metadata": {},
     "execution_count": 117
    }
   ],
   "source": [
    "q7 = np.concatenate((q1, q2, q3), axis=0)  # Equivalent to vstack\n",
    "q7"
   ]
  },
  {
   "cell_type": "code",
   "execution_count": 118,
   "metadata": {},
   "outputs": [
    {
     "output_type": "execute_result",
     "data": {
      "text/plain": [
       "(10, 4)"
      ]
     },
     "metadata": {},
     "execution_count": 118
    }
   ],
   "source": [
    "q7.shape"
   ]
  },
  {
   "cell_type": "markdown",
   "metadata": {},
   "source": [
    "As you might guess, `hstack` is equivalent to calling `concatenate` with `axis=1`."
   ]
  },
  {
   "cell_type": "markdown",
   "metadata": {},
   "source": [
    "## `stack`\n",
    "The `stack` function stacks arrays along a new axis. All arrays have to have the same shape."
   ]
  },
  {
   "cell_type": "code",
   "execution_count": 119,
   "metadata": {},
   "outputs": [
    {
     "output_type": "execute_result",
     "data": {
      "text/plain": [
       "array([[[1., 1., 1., 1.],\n",
       "        [1., 1., 1., 1.],\n",
       "        [1., 1., 1., 1.]],\n",
       "\n",
       "       [[3., 3., 3., 3.],\n",
       "        [3., 3., 3., 3.],\n",
       "        [3., 3., 3., 3.]]])"
      ]
     },
     "metadata": {},
     "execution_count": 119
    }
   ],
   "source": [
    "q8 = np.stack((q1, q3))\n",
    "q8"
   ]
  },
  {
   "cell_type": "code",
   "execution_count": 120,
   "metadata": {},
   "outputs": [
    {
     "output_type": "execute_result",
     "data": {
      "text/plain": [
       "(2, 3, 4)"
      ]
     },
     "metadata": {},
     "execution_count": 120
    }
   ],
   "source": [
    "q8.shape"
   ]
  },
  {
   "cell_type": "markdown",
   "metadata": {},
   "source": [
    "# Splitting arrays\n",
    "Splitting is the opposite of stacking. For example, let's use the `vsplit` function to split a matrix vertically.\n",
    "\n",
    "First let's create a 6x4 matrix:"
   ]
  },
  {
   "cell_type": "code",
   "execution_count": 121,
   "metadata": {},
   "outputs": [
    {
     "output_type": "execute_result",
     "data": {
      "text/plain": [
       "array([[ 0,  1,  2,  3],\n",
       "       [ 4,  5,  6,  7],\n",
       "       [ 8,  9, 10, 11],\n",
       "       [12, 13, 14, 15],\n",
       "       [16, 17, 18, 19],\n",
       "       [20, 21, 22, 23]])"
      ]
     },
     "metadata": {},
     "execution_count": 121
    }
   ],
   "source": [
    "r = np.arange(24).reshape(6,4)\n",
    "r"
   ]
  },
  {
   "cell_type": "markdown",
   "metadata": {},
   "source": [
    "Now let's split it in three equal parts, vertically:"
   ]
  },
  {
   "cell_type": "code",
   "execution_count": 122,
   "metadata": {},
   "outputs": [
    {
     "output_type": "execute_result",
     "data": {
      "text/plain": [
       "array([[0, 1, 2, 3],\n",
       "       [4, 5, 6, 7]])"
      ]
     },
     "metadata": {},
     "execution_count": 122
    }
   ],
   "source": [
    "r1, r2, r3 = np.vsplit(r, 3)\n",
    "r1"
   ]
  },
  {
   "cell_type": "code",
   "execution_count": 123,
   "metadata": {},
   "outputs": [
    {
     "output_type": "execute_result",
     "data": {
      "text/plain": [
       "array([[ 8,  9, 10, 11],\n",
       "       [12, 13, 14, 15]])"
      ]
     },
     "metadata": {},
     "execution_count": 123
    }
   ],
   "source": [
    "r2"
   ]
  },
  {
   "cell_type": "code",
   "execution_count": 124,
   "metadata": {},
   "outputs": [
    {
     "output_type": "execute_result",
     "data": {
      "text/plain": [
       "array([[16, 17, 18, 19],\n",
       "       [20, 21, 22, 23]])"
      ]
     },
     "metadata": {},
     "execution_count": 124
    }
   ],
   "source": [
    "r3"
   ]
  },
  {
   "cell_type": "markdown",
   "metadata": {},
   "source": [
    "There is also a `split` function which splits an array along any given axis. Calling `vsplit` is equivalent to calling `split` with `axis=0`. There is also an `hsplit` function, equivalent to calling `split` with `axis=1`:"
   ]
  },
  {
   "cell_type": "code",
   "execution_count": 125,
   "metadata": {},
   "outputs": [
    {
     "output_type": "execute_result",
     "data": {
      "text/plain": [
       "array([[ 0,  1],\n",
       "       [ 4,  5],\n",
       "       [ 8,  9],\n",
       "       [12, 13],\n",
       "       [16, 17],\n",
       "       [20, 21]])"
      ]
     },
     "metadata": {},
     "execution_count": 125
    }
   ],
   "source": [
    "r4, r5 = np.hsplit(r, 2)\n",
    "r4"
   ]
  },
  {
   "cell_type": "code",
   "execution_count": 126,
   "metadata": {},
   "outputs": [
    {
     "output_type": "execute_result",
     "data": {
      "text/plain": [
       "array([[ 2,  3],\n",
       "       [ 6,  7],\n",
       "       [10, 11],\n",
       "       [14, 15],\n",
       "       [18, 19],\n",
       "       [22, 23]])"
      ]
     },
     "metadata": {},
     "execution_count": 126
    }
   ],
   "source": [
    "r5"
   ]
  },
  {
   "cell_type": "markdown",
   "metadata": {},
   "source": [
    "# Transposing arrays\n",
    "The `transpose` method creates a new view on an `ndarray`'s data, with axes permuted in the given order.\n",
    "\n",
    "For example, let's create a 3D array:"
   ]
  },
  {
   "cell_type": "code",
   "execution_count": 127,
   "metadata": {},
   "outputs": [
    {
     "output_type": "execute_result",
     "data": {
      "text/plain": [
       "array([[[ 0,  1,  2],\n",
       "        [ 3,  4,  5]],\n",
       "\n",
       "       [[ 6,  7,  8],\n",
       "        [ 9, 10, 11]],\n",
       "\n",
       "       [[12, 13, 14],\n",
       "        [15, 16, 17]],\n",
       "\n",
       "       [[18, 19, 20],\n",
       "        [21, 22, 23]]])"
      ]
     },
     "metadata": {},
     "execution_count": 127
    }
   ],
   "source": [
    "t = np.arange(24).reshape(4,2,3)\n",
    "t"
   ]
  },
  {
   "cell_type": "markdown",
   "metadata": {},
   "source": [
    "Now let's create an `ndarray` such that the axes `0, 1, 2` (depth, height, width) are re-ordered to `1, 2, 0` (depth→width, height→depth, width→height):"
   ]
  },
  {
   "cell_type": "code",
   "execution_count": 128,
   "metadata": {},
   "outputs": [
    {
     "output_type": "execute_result",
     "data": {
      "text/plain": [
       "array([[[ 0,  6, 12, 18],\n",
       "        [ 1,  7, 13, 19],\n",
       "        [ 2,  8, 14, 20]],\n",
       "\n",
       "       [[ 3,  9, 15, 21],\n",
       "        [ 4, 10, 16, 22],\n",
       "        [ 5, 11, 17, 23]]])"
      ]
     },
     "metadata": {},
     "execution_count": 128
    }
   ],
   "source": [
    "t1 = t.transpose((1,2,0))\n",
    "t1"
   ]
  },
  {
   "cell_type": "code",
   "execution_count": 129,
   "metadata": {},
   "outputs": [
    {
     "output_type": "execute_result",
     "data": {
      "text/plain": [
       "(2, 3, 4)"
      ]
     },
     "metadata": {},
     "execution_count": 129
    }
   ],
   "source": [
    "t1.shape"
   ]
  },
  {
   "cell_type": "markdown",
   "metadata": {},
   "source": [
    "By default, `transpose` reverses the order of the dimensions:"
   ]
  },
  {
   "cell_type": "code",
   "execution_count": 130,
   "metadata": {},
   "outputs": [
    {
     "output_type": "execute_result",
     "data": {
      "text/plain": [
       "array([[[ 0,  6, 12, 18],\n",
       "        [ 3,  9, 15, 21]],\n",
       "\n",
       "       [[ 1,  7, 13, 19],\n",
       "        [ 4, 10, 16, 22]],\n",
       "\n",
       "       [[ 2,  8, 14, 20],\n",
       "        [ 5, 11, 17, 23]]])"
      ]
     },
     "metadata": {},
     "execution_count": 130
    }
   ],
   "source": [
    "t2 = t.transpose()  # equivalent to t.transpose((2, 1, 0))\n",
    "t2"
   ]
  },
  {
   "cell_type": "code",
   "execution_count": 131,
   "metadata": {},
   "outputs": [
    {
     "output_type": "execute_result",
     "data": {
      "text/plain": [
       "(3, 2, 4)"
      ]
     },
     "metadata": {},
     "execution_count": 131
    }
   ],
   "source": [
    "t2.shape"
   ]
  },
  {
   "cell_type": "markdown",
   "metadata": {},
   "source": [
    "NumPy provides a convenience function `swapaxes` to swap two axes. For example, let's create a new view of `t` with depth and height swapped:"
   ]
  },
  {
   "cell_type": "code",
   "execution_count": 132,
   "metadata": {},
   "outputs": [
    {
     "output_type": "execute_result",
     "data": {
      "text/plain": [
       "array([[[ 0,  1,  2],\n",
       "        [ 6,  7,  8],\n",
       "        [12, 13, 14],\n",
       "        [18, 19, 20]],\n",
       "\n",
       "       [[ 3,  4,  5],\n",
       "        [ 9, 10, 11],\n",
       "        [15, 16, 17],\n",
       "        [21, 22, 23]]])"
      ]
     },
     "metadata": {},
     "execution_count": 132
    }
   ],
   "source": [
    "t3 = t.swapaxes(0,1)  # equivalent to t.transpose((1, 0, 2))\n",
    "t3"
   ]
  },
  {
   "cell_type": "code",
   "execution_count": 133,
   "metadata": {},
   "outputs": [
    {
     "output_type": "execute_result",
     "data": {
      "text/plain": [
       "(2, 4, 3)"
      ]
     },
     "metadata": {},
     "execution_count": 133
    }
   ],
   "source": [
    "t3.shape"
   ]
  },
  {
   "cell_type": "markdown",
   "metadata": {},
   "source": [
    "# Linear algebra\n",
    "NumPy 2D arrays can be used to represent matrices efficiently in python. We will just quickly go through some of the main matrix operations available. For more details about Linear Algebra, vectors and matrics, go through the [Linear Algebra tutorial](math_linear_algebra.ipynb).\n",
    "\n",
    "## Matrix transpose\n",
    "The `T` attribute is equivalent to calling `transpose()` when the rank is ≥2:"
   ]
  },
  {
   "cell_type": "code",
   "execution_count": 134,
   "metadata": {},
   "outputs": [
    {
     "output_type": "execute_result",
     "data": {
      "text/plain": [
       "array([[0, 1, 2, 3, 4],\n",
       "       [5, 6, 7, 8, 9]])"
      ]
     },
     "metadata": {},
     "execution_count": 134
    }
   ],
   "source": [
    "m1 = np.arange(10).reshape(2,5)\n",
    "m1"
   ]
  },
  {
   "cell_type": "code",
   "execution_count": 135,
   "metadata": {},
   "outputs": [
    {
     "output_type": "execute_result",
     "data": {
      "text/plain": [
       "array([[0, 5],\n",
       "       [1, 6],\n",
       "       [2, 7],\n",
       "       [3, 8],\n",
       "       [4, 9]])"
      ]
     },
     "metadata": {},
     "execution_count": 135
    }
   ],
   "source": [
    "m1.T"
   ]
  },
  {
   "cell_type": "markdown",
   "metadata": {},
   "source": [
    "The `T` attribute has no effect on rank 0 (empty) or rank 1 arrays:"
   ]
  },
  {
   "cell_type": "code",
   "execution_count": 136,
   "metadata": {
    "scrolled": true
   },
   "outputs": [
    {
     "output_type": "execute_result",
     "data": {
      "text/plain": [
       "array([0, 1, 2, 3, 4])"
      ]
     },
     "metadata": {},
     "execution_count": 136
    }
   ],
   "source": [
    "m2 = np.arange(5)\n",
    "m2"
   ]
  },
  {
   "cell_type": "code",
   "execution_count": 137,
   "metadata": {
    "scrolled": true
   },
   "outputs": [
    {
     "output_type": "execute_result",
     "data": {
      "text/plain": [
       "array([0, 1, 2, 3, 4])"
      ]
     },
     "metadata": {},
     "execution_count": 137
    }
   ],
   "source": [
    "m2.T"
   ]
  },
  {
   "cell_type": "markdown",
   "metadata": {},
   "source": [
    "We can get the desired transposition by first reshaping the 1D array to a single-row matrix (2D):"
   ]
  },
  {
   "cell_type": "code",
   "execution_count": 138,
   "metadata": {},
   "outputs": [
    {
     "output_type": "execute_result",
     "data": {
      "text/plain": [
       "array([[0, 1, 2, 3, 4]])"
      ]
     },
     "metadata": {},
     "execution_count": 138
    }
   ],
   "source": [
    "m2r = m2.reshape(1,5)\n",
    "m2r"
   ]
  },
  {
   "cell_type": "code",
   "execution_count": 139,
   "metadata": {},
   "outputs": [
    {
     "output_type": "execute_result",
     "data": {
      "text/plain": [
       "array([[0],\n",
       "       [1],\n",
       "       [2],\n",
       "       [3],\n",
       "       [4]])"
      ]
     },
     "metadata": {},
     "execution_count": 139
    }
   ],
   "source": [
    "m2r.T"
   ]
  },
  {
   "cell_type": "markdown",
   "metadata": {},
   "source": [
    "## Matrix multiplication\n",
    "Let's create two matrices and execute a [matrix multiplication](https://en.wikipedia.org/wiki/Matrix_multiplication) using the `dot()` method."
   ]
  },
  {
   "cell_type": "code",
   "execution_count": 140,
   "metadata": {},
   "outputs": [
    {
     "output_type": "execute_result",
     "data": {
      "text/plain": [
       "array([[0, 1, 2, 3, 4],\n",
       "       [5, 6, 7, 8, 9]])"
      ]
     },
     "metadata": {},
     "execution_count": 140
    }
   ],
   "source": [
    "n1 = np.arange(10).reshape(2, 5)\n",
    "n1"
   ]
  },
  {
   "cell_type": "code",
   "execution_count": 141,
   "metadata": {},
   "outputs": [
    {
     "output_type": "execute_result",
     "data": {
      "text/plain": [
       "array([[ 0,  1,  2],\n",
       "       [ 3,  4,  5],\n",
       "       [ 6,  7,  8],\n",
       "       [ 9, 10, 11],\n",
       "       [12, 13, 14]])"
      ]
     },
     "metadata": {},
     "execution_count": 141
    }
   ],
   "source": [
    "n2 = np.arange(15).reshape(5,3)\n",
    "n2"
   ]
  },
  {
   "cell_type": "code",
   "execution_count": 142,
   "metadata": {},
   "outputs": [
    {
     "output_type": "execute_result",
     "data": {
      "text/plain": [
       "array([[ 90, 100, 110],\n",
       "       [240, 275, 310]])"
      ]
     },
     "metadata": {},
     "execution_count": 142
    }
   ],
   "source": [
    "n1.dot(n2)"
   ]
  },
  {
   "cell_type": "markdown",
   "metadata": {},
   "source": [
    "**Caution**: as mentionned previously, `n1*n2` is *not* a matric multiplication, it is an elementwise product (also called a [Hadamard product](https://en.wikipedia.org/wiki/Hadamard_product_(matrices)))."
   ]
  },
  {
   "cell_type": "markdown",
   "metadata": {},
   "source": [
    "## Matrix inverse and pseudo-inverse\n",
    "Many of the linear algebra functions are available in the `numpy.linalg` module, in particular the `inv` function to compute a square matrix's inverse:"
   ]
  },
  {
   "cell_type": "code",
   "execution_count": 143,
   "metadata": {},
   "outputs": [
    {
     "output_type": "execute_result",
     "data": {
      "text/plain": [
       "array([[ 1,  2,  3],\n",
       "       [ 5,  7, 11],\n",
       "       [21, 29, 31]])"
      ]
     },
     "metadata": {},
     "execution_count": 143
    }
   ],
   "source": [
    "import numpy.linalg as linalg\n",
    "\n",
    "m3 = np.array([[1,2,3],[5,7,11],[21,29,31]])\n",
    "m3"
   ]
  },
  {
   "cell_type": "code",
   "execution_count": 144,
   "metadata": {},
   "outputs": [
    {
     "output_type": "execute_result",
     "data": {
      "text/plain": [
       "array([[-2.31818182,  0.56818182,  0.02272727],\n",
       "       [ 1.72727273, -0.72727273,  0.09090909],\n",
       "       [-0.04545455,  0.29545455, -0.06818182]])"
      ]
     },
     "metadata": {},
     "execution_count": 144
    }
   ],
   "source": [
    "linalg.inv(m3)"
   ]
  },
  {
   "cell_type": "markdown",
   "metadata": {},
   "source": [
    "You can also compute the [pseudoinverse](https://en.wikipedia.org/wiki/Moore%E2%80%93Penrose_pseudoinverse) using `pinv`:"
   ]
  },
  {
   "cell_type": "code",
   "execution_count": 145,
   "metadata": {},
   "outputs": [
    {
     "output_type": "execute_result",
     "data": {
      "text/plain": [
       "array([[-2.31818182,  0.56818182,  0.02272727],\n",
       "       [ 1.72727273, -0.72727273,  0.09090909],\n",
       "       [-0.04545455,  0.29545455, -0.06818182]])"
      ]
     },
     "metadata": {},
     "execution_count": 145
    }
   ],
   "source": [
    "linalg.pinv(m3)"
   ]
  },
  {
   "cell_type": "markdown",
   "metadata": {},
   "source": [
    "## Identity matrix\n",
    "The product of a matrix by its inverse returns the identiy matrix (with small floating point errors):"
   ]
  },
  {
   "cell_type": "code",
   "execution_count": 146,
   "metadata": {},
   "outputs": [
    {
     "output_type": "execute_result",
     "data": {
      "text/plain": [
       "array([[ 1.00000000e+00, -5.55111512e-17,  0.00000000e+00],\n",
       "       [-2.98372438e-16,  1.00000000e+00, -5.55111512e-17],\n",
       "       [ 5.78009862e-15,  1.27675648e-15,  1.00000000e+00]])"
      ]
     },
     "metadata": {},
     "execution_count": 146
    }
   ],
   "source": [
    "m3.dot(linalg.inv(m3))"
   ]
  },
  {
   "cell_type": "markdown",
   "metadata": {},
   "source": [
    "You can create an identity matrix of size NxN by calling `eye`:"
   ]
  },
  {
   "cell_type": "code",
   "execution_count": 147,
   "metadata": {},
   "outputs": [
    {
     "output_type": "execute_result",
     "data": {
      "text/plain": [
       "array([[1., 0., 0.],\n",
       "       [0., 1., 0.],\n",
       "       [0., 0., 1.]])"
      ]
     },
     "metadata": {},
     "execution_count": 147
    }
   ],
   "source": [
    "np.eye(3)"
   ]
  },
  {
   "cell_type": "markdown",
   "metadata": {},
   "source": [
    "## QR decomposition\n",
    "The `qr` function computes the [QR decomposition](https://en.wikipedia.org/wiki/QR_decomposition) of a matrix:"
   ]
  },
  {
   "cell_type": "code",
   "execution_count": 148,
   "metadata": {},
   "outputs": [
    {
     "output_type": "execute_result",
     "data": {
      "text/plain": [
       "array([[-0.04627448,  0.98786672,  0.14824986],\n",
       "       [-0.23137241,  0.13377362, -0.96362411],\n",
       "       [-0.97176411, -0.07889213,  0.22237479]])"
      ]
     },
     "metadata": {},
     "execution_count": 148
    }
   ],
   "source": [
    "q, r = linalg.qr(m3)\n",
    "q"
   ]
  },
  {
   "cell_type": "code",
   "execution_count": 149,
   "metadata": {},
   "outputs": [
    {
     "output_type": "execute_result",
     "data": {
      "text/plain": [
       "array([[-21.61018278, -29.89331494, -32.80860727],\n",
       "       [  0.        ,   0.62427688,   1.9894538 ],\n",
       "       [  0.        ,   0.        ,  -3.26149699]])"
      ]
     },
     "metadata": {},
     "execution_count": 149
    }
   ],
   "source": [
    "r"
   ]
  },
  {
   "cell_type": "code",
   "execution_count": 150,
   "metadata": {},
   "outputs": [
    {
     "output_type": "execute_result",
     "data": {
      "text/plain": [
       "array([[ 1.,  2.,  3.],\n",
       "       [ 5.,  7., 11.],\n",
       "       [21., 29., 31.]])"
      ]
     },
     "metadata": {},
     "execution_count": 150
    }
   ],
   "source": [
    "q.dot(r)  # q.r equals m3"
   ]
  },
  {
   "cell_type": "markdown",
   "metadata": {},
   "source": [
    "## Determinant\n",
    "The `det` function computes the [matrix determinant](https://en.wikipedia.org/wiki/Determinant):"
   ]
  },
  {
   "cell_type": "code",
   "execution_count": 151,
   "metadata": {},
   "outputs": [
    {
     "output_type": "execute_result",
     "data": {
      "text/plain": [
       "43.99999999999999"
      ]
     },
     "metadata": {},
     "execution_count": 151
    }
   ],
   "source": [
    "linalg.det(m3)  # Computes the matrix determinant"
   ]
  },
  {
   "cell_type": "markdown",
   "metadata": {},
   "source": [
    "## Eigenvalues and eigenvectors\n",
    "The `eig` function computes the [eigenvalues and eigenvectors](https://en.wikipedia.org/wiki/Eigenvalues_and_eigenvectors) of a square matrix:"
   ]
  },
  {
   "cell_type": "code",
   "execution_count": 152,
   "metadata": {},
   "outputs": [
    {
     "output_type": "execute_result",
     "data": {
      "text/plain": [
       "array([42.26600592, -0.35798416, -2.90802176])"
      ]
     },
     "metadata": {},
     "execution_count": 152
    }
   ],
   "source": [
    "eigenvalues, eigenvectors = linalg.eig(m3)\n",
    "eigenvalues # λ"
   ]
  },
  {
   "cell_type": "code",
   "execution_count": 153,
   "metadata": {},
   "outputs": [
    {
     "output_type": "execute_result",
     "data": {
      "text/plain": [
       "array([[-0.08381182, -0.76283526, -0.18913107],\n",
       "       [-0.3075286 ,  0.64133975, -0.6853186 ],\n",
       "       [-0.94784057, -0.08225377,  0.70325518]])"
      ]
     },
     "metadata": {},
     "execution_count": 153
    }
   ],
   "source": [
    "eigenvectors # v"
   ]
  },
  {
   "cell_type": "code",
   "execution_count": 154,
   "metadata": {},
   "outputs": [
    {
     "output_type": "execute_result",
     "data": {
      "text/plain": [
       "array([[ 9.76996262e-15,  2.22044605e-16, -3.10862447e-15],\n",
       "       [ 7.10542736e-15,  2.02615702e-15, -1.11022302e-15],\n",
       "       [ 2.84217094e-14,  5.11049536e-15, -4.88498131e-15]])"
      ]
     },
     "metadata": {},
     "execution_count": 154
    }
   ],
   "source": [
    "m3.dot(eigenvectors) - eigenvalues * eigenvectors  # m3.v - λ*v = 0"
   ]
  },
  {
   "cell_type": "markdown",
   "metadata": {},
   "source": [
    "## Singular Value Decomposition\n",
    "The `svd` function takes a matrix and returns its [singular value decomposition](https://en.wikipedia.org/wiki/Singular_value_decomposition):"
   ]
  },
  {
   "cell_type": "code",
   "execution_count": 155,
   "metadata": {},
   "outputs": [
    {
     "output_type": "execute_result",
     "data": {
      "text/plain": [
       "array([[1, 0, 0, 0, 2],\n",
       "       [0, 0, 3, 0, 0],\n",
       "       [0, 0, 0, 0, 0],\n",
       "       [0, 2, 0, 0, 0]])"
      ]
     },
     "metadata": {},
     "execution_count": 155
    }
   ],
   "source": [
    "m4 = np.array([[1,0,0,0,2], [0,0,3,0,0], [0,0,0,0,0], [0,2,0,0,0]])\n",
    "m4"
   ]
  },
  {
   "cell_type": "code",
   "execution_count": 156,
   "metadata": {},
   "outputs": [
    {
     "output_type": "execute_result",
     "data": {
      "text/plain": [
       "array([[ 0.,  1.,  0.,  0.],\n",
       "       [ 1.,  0.,  0.,  0.],\n",
       "       [ 0.,  0.,  0., -1.],\n",
       "       [ 0.,  0.,  1.,  0.]])"
      ]
     },
     "metadata": {},
     "execution_count": 156
    }
   ],
   "source": [
    "U, S_diag, V = linalg.svd(m4)\n",
    "U"
   ]
  },
  {
   "cell_type": "code",
   "execution_count": 157,
   "metadata": {},
   "outputs": [
    {
     "output_type": "execute_result",
     "data": {
      "text/plain": [
       "array([3.        , 2.23606798, 2.        , 0.        ])"
      ]
     },
     "metadata": {},
     "execution_count": 157
    }
   ],
   "source": [
    "S_diag"
   ]
  },
  {
   "cell_type": "markdown",
   "metadata": {},
   "source": [
    "The `svd` function just returns the values in the diagonal of Σ, but we want the full Σ matrix, so let's create it:"
   ]
  },
  {
   "cell_type": "code",
   "execution_count": 158,
   "metadata": {},
   "outputs": [
    {
     "output_type": "execute_result",
     "data": {
      "text/plain": [
       "array([[3.        , 0.        , 0.        , 0.        , 0.        ],\n",
       "       [0.        , 2.23606798, 0.        , 0.        , 0.        ],\n",
       "       [0.        , 0.        , 2.        , 0.        , 0.        ],\n",
       "       [0.        , 0.        , 0.        , 0.        , 0.        ]])"
      ]
     },
     "metadata": {},
     "execution_count": 158
    }
   ],
   "source": [
    "S = np.zeros((4, 5))\n",
    "S[np.diag_indices(4)] = S_diag\n",
    "S  # Σ"
   ]
  },
  {
   "cell_type": "code",
   "execution_count": 159,
   "metadata": {},
   "outputs": [
    {
     "output_type": "execute_result",
     "data": {
      "text/plain": [
       "array([[-0.        ,  0.        ,  1.        ,  0.        ,  0.        ],\n",
       "       [ 0.4472136 ,  0.        ,  0.        ,  0.        ,  0.89442719],\n",
       "       [-0.        ,  1.        ,  0.        ,  0.        ,  0.        ],\n",
       "       [ 0.        ,  0.        ,  0.        ,  1.        ,  0.        ],\n",
       "       [-0.89442719,  0.        ,  0.        ,  0.        ,  0.4472136 ]])"
      ]
     },
     "metadata": {},
     "execution_count": 159
    }
   ],
   "source": [
    "V"
   ]
  },
  {
   "cell_type": "code",
   "execution_count": 160,
   "metadata": {},
   "outputs": [
    {
     "output_type": "execute_result",
     "data": {
      "text/plain": [
       "array([[1., 0., 0., 0., 2.],\n",
       "       [0., 0., 3., 0., 0.],\n",
       "       [0., 0., 0., 0., 0.],\n",
       "       [0., 2., 0., 0., 0.]])"
      ]
     },
     "metadata": {},
     "execution_count": 160
    }
   ],
   "source": [
    "U.dot(S).dot(V) # U.Σ.V == m4"
   ]
  },
  {
   "cell_type": "markdown",
   "metadata": {},
   "source": [
    "## Diagonal and trace"
   ]
  },
  {
   "cell_type": "code",
   "execution_count": 161,
   "metadata": {},
   "outputs": [
    {
     "output_type": "execute_result",
     "data": {
      "text/plain": [
       "array([ 1,  7, 31])"
      ]
     },
     "metadata": {},
     "execution_count": 161
    }
   ],
   "source": [
    "np.diag(m3)  # the values in the diagonal of m3 (top left to bottom right)"
   ]
  },
  {
   "cell_type": "code",
   "execution_count": 162,
   "metadata": {},
   "outputs": [
    {
     "output_type": "execute_result",
     "data": {
      "text/plain": [
       "39"
      ]
     },
     "metadata": {},
     "execution_count": 162
    }
   ],
   "source": [
    "np.trace(m3)  # equivalent to np.diag(m3).sum()"
   ]
  },
  {
   "cell_type": "markdown",
   "metadata": {},
   "source": [
    "## Solving a system of linear scalar equations"
   ]
  },
  {
   "cell_type": "markdown",
   "metadata": {},
   "source": [
    "The `solve` function solves a system of linear scalar equations, such as:\n",
    "\n",
    "* $2x + 6y = 6$\n",
    "* $5x + 3y = -9$"
   ]
  },
  {
   "cell_type": "code",
   "execution_count": 163,
   "metadata": {},
   "outputs": [
    {
     "output_type": "execute_result",
     "data": {
      "text/plain": [
       "array([-3.,  2.])"
      ]
     },
     "metadata": {},
     "execution_count": 163
    }
   ],
   "source": [
    "coeffs  = np.array([[2, 6], [5, 3]])\n",
    "depvars = np.array([6, -9])\n",
    "solution = linalg.solve(coeffs, depvars)\n",
    "solution"
   ]
  },
  {
   "cell_type": "markdown",
   "metadata": {},
   "source": [
    "Let's check the solution:"
   ]
  },
  {
   "cell_type": "code",
   "execution_count": 164,
   "metadata": {},
   "outputs": [
    {
     "output_type": "execute_result",
     "data": {
      "text/plain": [
       "(array([ 6., -9.]), array([ 6, -9]))"
      ]
     },
     "metadata": {},
     "execution_count": 164
    }
   ],
   "source": [
    "coeffs.dot(solution), depvars  # yep, it's the same"
   ]
  },
  {
   "cell_type": "markdown",
   "metadata": {},
   "source": [
    "Looks good! Another way to check the solution:"
   ]
  },
  {
   "cell_type": "code",
   "execution_count": 165,
   "metadata": {
    "scrolled": true
   },
   "outputs": [
    {
     "output_type": "execute_result",
     "data": {
      "text/plain": [
       "True"
      ]
     },
     "metadata": {},
     "execution_count": 165
    }
   ],
   "source": [
    "np.allclose(coeffs.dot(solution), depvars)"
   ]
  },
  {
   "cell_type": "markdown",
   "metadata": {},
   "source": [
    "# Vectorization\n",
    "Instead of executing operations on individual array items, one at a time, your code is much more efficient if you try to stick to array operations. This is called *vectorization*. This way, you can benefit from NumPy's many optimizations.\n",
    "\n",
    "For example, let's say we want to generate a 768x1024 array based on the formula $sin(xy/40.5)$. A **bad** option would be to do the math in python using nested loops:"
   ]
  },
  {
   "cell_type": "code",
   "execution_count": 166,
   "metadata": {},
   "outputs": [],
   "source": [
    "import math\n",
    "data = np.empty((768, 1024))\n",
    "for y in range(768):\n",
    "    for x in range(1024):\n",
    "        data[y, x] = math.sin(x*y/40.5)  # BAD! Very inefficient."
   ]
  },
  {
   "cell_type": "markdown",
   "metadata": {},
   "source": [
    "Sure, this works, but it's terribly inefficient since the loops are taking place in pure python. Let's vectorize this algorithm. First, we will use NumPy's `meshgrid` function which generates coordinate matrices from coordinate vectors."
   ]
  },
  {
   "cell_type": "code",
   "execution_count": 167,
   "metadata": {},
   "outputs": [
    {
     "output_type": "execute_result",
     "data": {
      "text/plain": [
       "array([[   0,    1,    2, ..., 1021, 1022, 1023],\n",
       "       [   0,    1,    2, ..., 1021, 1022, 1023],\n",
       "       [   0,    1,    2, ..., 1021, 1022, 1023],\n",
       "       ...,\n",
       "       [   0,    1,    2, ..., 1021, 1022, 1023],\n",
       "       [   0,    1,    2, ..., 1021, 1022, 1023],\n",
       "       [   0,    1,    2, ..., 1021, 1022, 1023]])"
      ]
     },
     "metadata": {},
     "execution_count": 167
    }
   ],
   "source": [
    "x_coords = np.arange(0, 1024)  # [0, 1, 2, ..., 1023]\n",
    "y_coords = np.arange(0, 768)   # [0, 1, 2, ..., 767]\n",
    "X, Y = np.meshgrid(x_coords, y_coords)\n",
    "X"
   ]
  },
  {
   "cell_type": "code",
   "execution_count": 168,
   "metadata": {},
   "outputs": [
    {
     "output_type": "execute_result",
     "data": {
      "text/plain": [
       "array([[  0,   0,   0, ...,   0,   0,   0],\n",
       "       [  1,   1,   1, ...,   1,   1,   1],\n",
       "       [  2,   2,   2, ...,   2,   2,   2],\n",
       "       ...,\n",
       "       [765, 765, 765, ..., 765, 765, 765],\n",
       "       [766, 766, 766, ..., 766, 766, 766],\n",
       "       [767, 767, 767, ..., 767, 767, 767]])"
      ]
     },
     "metadata": {},
     "execution_count": 168
    }
   ],
   "source": [
    "Y"
   ]
  },
  {
   "cell_type": "markdown",
   "metadata": {},
   "source": [
    "As you can see, both `X` and `Y` are 768x1024 arrays, and all values in `X` correspond to the horizontal coordinate, while all values in `Y` correspond to the the vertical coordinate.\n",
    "\n",
    "Now we can simply compute the result using array operations:"
   ]
  },
  {
   "cell_type": "code",
   "execution_count": 169,
   "metadata": {},
   "outputs": [],
   "source": [
    "data = np.sin(X*Y/40.5)"
   ]
  },
  {
   "cell_type": "markdown",
   "metadata": {},
   "source": [
    "Now we can plot this data using matplotlib's `imshow` function (see the [matplotlib tutorial](tools_matplotlib.ipynb))."
   ]
  },
  {
   "cell_type": "code",
   "execution_count": 170,
   "metadata": {},
   "outputs": [
    {
     "output_type": "display_data",
     "data": {
      "text/plain": "<Figure size 504x432 with 1 Axes>",
      "image/svg+xml": "<?xml version=\"1.0\" encoding=\"utf-8\" standalone=\"no\"?>\r\n<!DOCTYPE svg PUBLIC \"-//W3C//DTD SVG 1.1//EN\"\r\n  \"http://www.w3.org/Graphics/SVG/1.1/DTD/svg11.dtd\">\r\n<!-- Created with matplotlib (https://matplotlib.org/) -->\r\n<svg height=\"327.636621pt\" version=\"1.1\" viewBox=\"0 0 434.848535 327.636621\" width=\"434.848535pt\" xmlns=\"http://www.w3.org/2000/svg\" xmlns:xlink=\"http://www.w3.org/1999/xlink\">\r\n <metadata>\r\n  <rdf:RDF xmlns:cc=\"http://creativecommons.org/ns#\" xmlns:dc=\"http://purl.org/dc/elements/1.1/\" xmlns:rdf=\"http://www.w3.org/1999/02/22-rdf-syntax-ns#\">\r\n   <cc:Work>\r\n    <dc:type rdf:resource=\"http://purl.org/dc/dcmitype/StillImage\"/>\r\n    <dc:date>2021-06-15T10:12:38.246005</dc:date>\r\n    <dc:format>image/svg+xml</dc:format>\r\n    <dc:creator>\r\n     <cc:Agent>\r\n      <dc:title>Matplotlib v3.3.4, https://matplotlib.org/</dc:title>\r\n     </cc:Agent>\r\n    </dc:creator>\r\n   </cc:Work>\r\n  </rdf:RDF>\r\n </metadata>\r\n <defs>\r\n  <style type=\"text/css\">*{stroke-linecap:butt;stroke-linejoin:round;}</style>\r\n </defs>\r\n <g id=\"figure_1\">\r\n  <g id=\"patch_1\">\r\n   <path d=\"M 0 327.636621 \r\nL 434.848535 327.636621 \r\nL 434.848535 0 \r\nL 0 0 \r\nz\r\n\" style=\"fill:none;\"/>\r\n  </g>\r\n  <g id=\"axes_1\">\r\n   <g id=\"patch_2\">\r\n    <path d=\"M 33.2875 303.758496 \r\nL 423.8875 303.758496 \r\nL 423.8875 10.808496 \r\nL 33.2875 10.808496 \r\nz\r\n\"/>\r\n   </g>\r\n   <g clip-path=\"url(#pabad3483ed)\">\r\n    <image height=\"293\" id=\"image5ddb2e3c39\" transform=\"scale(1 -1)translate(0 -293)\" width=\"391\" x=\"33.2875\" xlink:href=\"data:image/png;base64,\r\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\" y=\"-10.758496\"/>\r\n   </g>\r\n   <g id=\"matplotlib.axis_1\">\r\n    <g id=\"xtick_1\">\r\n     <g id=\"line2d_1\">\r\n      <defs>\r\n       <path d=\"M 0 0 \r\nL 0 3.5 \r\n\" id=\"me3ce5679b3\" style=\"stroke:#ffffff;stroke-width:0.8;\"/>\r\n      </defs>\r\n      <g>\r\n       <use style=\"fill:#ffffff;stroke:#ffffff;stroke-width:0.8;\" x=\"33.478223\" xlink:href=\"#me3ce5679b3\" y=\"303.758496\"/>\r\n      </g>\r\n     </g>\r\n     <g id=\"text_1\">\r\n      <!-- 0 -->\r\n      <g style=\"fill:#ffffff;\" transform=\"translate(30.296973 318.356934)scale(0.1 -0.1)\">\r\n       <defs>\r\n        <path d=\"M 31.78125 66.40625 \r\nQ 24.171875 66.40625 20.328125 58.90625 \r\nQ 16.5 51.421875 16.5 36.375 \r\nQ 16.5 21.390625 20.328125 13.890625 \r\nQ 24.171875 6.390625 31.78125 6.390625 \r\nQ 39.453125 6.390625 43.28125 13.890625 \r\nQ 47.125 21.390625 47.125 36.375 \r\nQ 47.125 51.421875 43.28125 58.90625 \r\nQ 39.453125 66.40625 31.78125 66.40625 \r\nz\r\nM 31.78125 74.21875 \r\nQ 44.046875 74.21875 50.515625 64.515625 \r\nQ 56.984375 54.828125 56.984375 36.375 \r\nQ 56.984375 17.96875 50.515625 8.265625 \r\nQ 44.046875 -1.421875 31.78125 -1.421875 \r\nQ 19.53125 -1.421875 13.0625 8.265625 \r\nQ 6.59375 17.96875 6.59375 36.375 \r\nQ 6.59375 54.828125 13.0625 64.515625 \r\nQ 19.53125 74.21875 31.78125 74.21875 \r\nz\r\n\" id=\"DejaVuSans-48\"/>\r\n       </defs>\r\n       <use xlink:href=\"#DejaVuSans-48\"/>\r\n      </g>\r\n     </g>\r\n    </g>\r\n    <g id=\"xtick_2\">\r\n     <g id=\"line2d_2\">\r\n      <g>\r\n       <use style=\"fill:#ffffff;stroke:#ffffff;stroke-width:0.8;\" x=\"109.767285\" xlink:href=\"#me3ce5679b3\" y=\"303.758496\"/>\r\n      </g>\r\n     </g>\r\n     <g id=\"text_2\">\r\n      <!-- 200 -->\r\n      <g style=\"fill:#ffffff;\" transform=\"translate(100.223535 318.356934)scale(0.1 -0.1)\">\r\n       <defs>\r\n        <path d=\"M 19.1875 8.296875 \r\nL 53.609375 8.296875 \r\nL 53.609375 0 \r\nL 7.328125 0 \r\nL 7.328125 8.296875 \r\nQ 12.9375 14.109375 22.625 23.890625 \r\nQ 32.328125 33.6875 34.8125 36.53125 \r\nQ 39.546875 41.84375 41.421875 45.53125 \r\nQ 43.3125 49.21875 43.3125 52.78125 \r\nQ 43.3125 58.59375 39.234375 62.25 \r\nQ 35.15625 65.921875 28.609375 65.921875 \r\nQ 23.96875 65.921875 18.8125 64.3125 \r\nQ 13.671875 62.703125 7.8125 59.421875 \r\nL 7.8125 69.390625 \r\nQ 13.765625 71.78125 18.9375 73 \r\nQ 24.125 74.21875 28.421875 74.21875 \r\nQ 39.75 74.21875 46.484375 68.546875 \r\nQ 53.21875 62.890625 53.21875 53.421875 \r\nQ 53.21875 48.921875 51.53125 44.890625 \r\nQ 49.859375 40.875 45.40625 35.40625 \r\nQ 44.1875 33.984375 37.640625 27.21875 \r\nQ 31.109375 20.453125 19.1875 8.296875 \r\nz\r\n\" id=\"DejaVuSans-50\"/>\r\n       </defs>\r\n       <use xlink:href=\"#DejaVuSans-50\"/>\r\n       <use x=\"63.623047\" xlink:href=\"#DejaVuSans-48\"/>\r\n       <use x=\"127.246094\" xlink:href=\"#DejaVuSans-48\"/>\r\n      </g>\r\n     </g>\r\n    </g>\r\n    <g id=\"xtick_3\">\r\n     <g id=\"line2d_3\">\r\n      <g>\r\n       <use style=\"fill:#ffffff;stroke:#ffffff;stroke-width:0.8;\" x=\"186.056348\" xlink:href=\"#me3ce5679b3\" y=\"303.758496\"/>\r\n      </g>\r\n     </g>\r\n     <g id=\"text_3\">\r\n      <!-- 400 -->\r\n      <g style=\"fill:#ffffff;\" transform=\"translate(176.512598 318.356934)scale(0.1 -0.1)\">\r\n       <defs>\r\n        <path d=\"M 37.796875 64.3125 \r\nL 12.890625 25.390625 \r\nL 37.796875 25.390625 \r\nz\r\nM 35.203125 72.90625 \r\nL 47.609375 72.90625 \r\nL 47.609375 25.390625 \r\nL 58.015625 25.390625 \r\nL 58.015625 17.1875 \r\nL 47.609375 17.1875 \r\nL 47.609375 0 \r\nL 37.796875 0 \r\nL 37.796875 17.1875 \r\nL 4.890625 17.1875 \r\nL 4.890625 26.703125 \r\nz\r\n\" id=\"DejaVuSans-52\"/>\r\n       </defs>\r\n       <use xlink:href=\"#DejaVuSans-52\"/>\r\n       <use x=\"63.623047\" xlink:href=\"#DejaVuSans-48\"/>\r\n       <use x=\"127.246094\" xlink:href=\"#DejaVuSans-48\"/>\r\n      </g>\r\n     </g>\r\n    </g>\r\n    <g id=\"xtick_4\">\r\n     <g id=\"line2d_4\">\r\n      <g>\r\n       <use style=\"fill:#ffffff;stroke:#ffffff;stroke-width:0.8;\" x=\"262.34541\" xlink:href=\"#me3ce5679b3\" y=\"303.758496\"/>\r\n      </g>\r\n     </g>\r\n     <g id=\"text_4\">\r\n      <!-- 600 -->\r\n      <g style=\"fill:#ffffff;\" transform=\"translate(252.80166 318.356934)scale(0.1 -0.1)\">\r\n       <defs>\r\n        <path d=\"M 33.015625 40.375 \r\nQ 26.375 40.375 22.484375 35.828125 \r\nQ 18.609375 31.296875 18.609375 23.390625 \r\nQ 18.609375 15.53125 22.484375 10.953125 \r\nQ 26.375 6.390625 33.015625 6.390625 \r\nQ 39.65625 6.390625 43.53125 10.953125 \r\nQ 47.40625 15.53125 47.40625 23.390625 \r\nQ 47.40625 31.296875 43.53125 35.828125 \r\nQ 39.65625 40.375 33.015625 40.375 \r\nz\r\nM 52.59375 71.296875 \r\nL 52.59375 62.3125 \r\nQ 48.875 64.0625 45.09375 64.984375 \r\nQ 41.3125 65.921875 37.59375 65.921875 \r\nQ 27.828125 65.921875 22.671875 59.328125 \r\nQ 17.53125 52.734375 16.796875 39.40625 \r\nQ 19.671875 43.65625 24.015625 45.921875 \r\nQ 28.375 48.1875 33.59375 48.1875 \r\nQ 44.578125 48.1875 50.953125 41.515625 \r\nQ 57.328125 34.859375 57.328125 23.390625 \r\nQ 57.328125 12.15625 50.6875 5.359375 \r\nQ 44.046875 -1.421875 33.015625 -1.421875 \r\nQ 20.359375 -1.421875 13.671875 8.265625 \r\nQ 6.984375 17.96875 6.984375 36.375 \r\nQ 6.984375 53.65625 15.1875 63.9375 \r\nQ 23.390625 74.21875 37.203125 74.21875 \r\nQ 40.921875 74.21875 44.703125 73.484375 \r\nQ 48.484375 72.75 52.59375 71.296875 \r\nz\r\n\" id=\"DejaVuSans-54\"/>\r\n       </defs>\r\n       <use xlink:href=\"#DejaVuSans-54\"/>\r\n       <use x=\"63.623047\" xlink:href=\"#DejaVuSans-48\"/>\r\n       <use x=\"127.246094\" xlink:href=\"#DejaVuSans-48\"/>\r\n      </g>\r\n     </g>\r\n    </g>\r\n    <g id=\"xtick_5\">\r\n     <g id=\"line2d_5\">\r\n      <g>\r\n       <use style=\"fill:#ffffff;stroke:#ffffff;stroke-width:0.8;\" x=\"338.634473\" xlink:href=\"#me3ce5679b3\" y=\"303.758496\"/>\r\n      </g>\r\n     </g>\r\n     <g id=\"text_5\">\r\n      <!-- 800 -->\r\n      <g style=\"fill:#ffffff;\" transform=\"translate(329.090723 318.356934)scale(0.1 -0.1)\">\r\n       <defs>\r\n        <path d=\"M 31.78125 34.625 \r\nQ 24.75 34.625 20.71875 30.859375 \r\nQ 16.703125 27.09375 16.703125 20.515625 \r\nQ 16.703125 13.921875 20.71875 10.15625 \r\nQ 24.75 6.390625 31.78125 6.390625 \r\nQ 38.8125 6.390625 42.859375 10.171875 \r\nQ 46.921875 13.96875 46.921875 20.515625 \r\nQ 46.921875 27.09375 42.890625 30.859375 \r\nQ 38.875 34.625 31.78125 34.625 \r\nz\r\nM 21.921875 38.8125 \r\nQ 15.578125 40.375 12.03125 44.71875 \r\nQ 8.5 49.078125 8.5 55.328125 \r\nQ 8.5 64.0625 14.71875 69.140625 \r\nQ 20.953125 74.21875 31.78125 74.21875 \r\nQ 42.671875 74.21875 48.875 69.140625 \r\nQ 55.078125 64.0625 55.078125 55.328125 \r\nQ 55.078125 49.078125 51.53125 44.71875 \r\nQ 48 40.375 41.703125 38.8125 \r\nQ 48.828125 37.15625 52.796875 32.3125 \r\nQ 56.78125 27.484375 56.78125 20.515625 \r\nQ 56.78125 9.90625 50.3125 4.234375 \r\nQ 43.84375 -1.421875 31.78125 -1.421875 \r\nQ 19.734375 -1.421875 13.25 4.234375 \r\nQ 6.78125 9.90625 6.78125 20.515625 \r\nQ 6.78125 27.484375 10.78125 32.3125 \r\nQ 14.796875 37.15625 21.921875 38.8125 \r\nz\r\nM 18.3125 54.390625 \r\nQ 18.3125 48.734375 21.84375 45.5625 \r\nQ 25.390625 42.390625 31.78125 42.390625 \r\nQ 38.140625 42.390625 41.71875 45.5625 \r\nQ 45.3125 48.734375 45.3125 54.390625 \r\nQ 45.3125 60.0625 41.71875 63.234375 \r\nQ 38.140625 66.40625 31.78125 66.40625 \r\nQ 25.390625 66.40625 21.84375 63.234375 \r\nQ 18.3125 60.0625 18.3125 54.390625 \r\nz\r\n\" id=\"DejaVuSans-56\"/>\r\n       </defs>\r\n       <use xlink:href=\"#DejaVuSans-56\"/>\r\n       <use x=\"63.623047\" xlink:href=\"#DejaVuSans-48\"/>\r\n       <use x=\"127.246094\" xlink:href=\"#DejaVuSans-48\"/>\r\n      </g>\r\n     </g>\r\n    </g>\r\n    <g id=\"xtick_6\">\r\n     <g id=\"line2d_6\">\r\n      <g>\r\n       <use style=\"fill:#ffffff;stroke:#ffffff;stroke-width:0.8;\" x=\"414.923535\" xlink:href=\"#me3ce5679b3\" y=\"303.758496\"/>\r\n      </g>\r\n     </g>\r\n     <g id=\"text_6\">\r\n      <!-- 1000 -->\r\n      <g style=\"fill:#ffffff;\" transform=\"translate(402.198535 318.356934)scale(0.1 -0.1)\">\r\n       <defs>\r\n        <path d=\"M 12.40625 8.296875 \r\nL 28.515625 8.296875 \r\nL 28.515625 63.921875 \r\nL 10.984375 60.40625 \r\nL 10.984375 69.390625 \r\nL 28.421875 72.90625 \r\nL 38.28125 72.90625 \r\nL 38.28125 8.296875 \r\nL 54.390625 8.296875 \r\nL 54.390625 0 \r\nL 12.40625 0 \r\nz\r\n\" id=\"DejaVuSans-49\"/>\r\n       </defs>\r\n       <use xlink:href=\"#DejaVuSans-49\"/>\r\n       <use x=\"63.623047\" xlink:href=\"#DejaVuSans-48\"/>\r\n       <use x=\"127.246094\" xlink:href=\"#DejaVuSans-48\"/>\r\n       <use x=\"190.869141\" xlink:href=\"#DejaVuSans-48\"/>\r\n      </g>\r\n     </g>\r\n    </g>\r\n   </g>\r\n   <g id=\"matplotlib.axis_2\">\r\n    <g id=\"ytick_1\">\r\n     <g id=\"line2d_7\">\r\n      <defs>\r\n       <path d=\"M 0 0 \r\nL -3.5 0 \r\n\" id=\"m4d04e402cf\" style=\"stroke:#ffffff;stroke-width:0.8;\"/>\r\n      </defs>\r\n      <g>\r\n       <use style=\"fill:#ffffff;stroke:#ffffff;stroke-width:0.8;\" x=\"33.2875\" xlink:href=\"#m4d04e402cf\" y=\"10.999219\"/>\r\n      </g>\r\n     </g>\r\n     <g id=\"text_7\">\r\n      <!-- 0 -->\r\n      <g style=\"fill:#ffffff;\" transform=\"translate(19.925 14.798437)scale(0.1 -0.1)\">\r\n       <use xlink:href=\"#DejaVuSans-48\"/>\r\n      </g>\r\n     </g>\r\n    </g>\r\n    <g id=\"ytick_2\">\r\n     <g id=\"line2d_8\">\r\n      <g>\r\n       <use style=\"fill:#ffffff;stroke:#ffffff;stroke-width:0.8;\" x=\"33.2875\" xlink:href=\"#m4d04e402cf\" y=\"49.14375\"/>\r\n      </g>\r\n     </g>\r\n     <g id=\"text_8\">\r\n      <!-- 100 -->\r\n      <g style=\"fill:#ffffff;\" transform=\"translate(7.2 52.942969)scale(0.1 -0.1)\">\r\n       <use xlink:href=\"#DejaVuSans-49\"/>\r\n       <use x=\"63.623047\" xlink:href=\"#DejaVuSans-48\"/>\r\n       <use x=\"127.246094\" xlink:href=\"#DejaVuSans-48\"/>\r\n      </g>\r\n     </g>\r\n    </g>\r\n    <g id=\"ytick_3\">\r\n     <g id=\"line2d_9\">\r\n      <g>\r\n       <use style=\"fill:#ffffff;stroke:#ffffff;stroke-width:0.8;\" x=\"33.2875\" xlink:href=\"#m4d04e402cf\" y=\"87.288281\"/>\r\n      </g>\r\n     </g>\r\n     <g id=\"text_9\">\r\n      <!-- 200 -->\r\n      <g style=\"fill:#ffffff;\" transform=\"translate(7.2 91.0875)scale(0.1 -0.1)\">\r\n       <use xlink:href=\"#DejaVuSans-50\"/>\r\n       <use x=\"63.623047\" xlink:href=\"#DejaVuSans-48\"/>\r\n       <use x=\"127.246094\" xlink:href=\"#DejaVuSans-48\"/>\r\n      </g>\r\n     </g>\r\n    </g>\r\n    <g id=\"ytick_4\">\r\n     <g id=\"line2d_10\">\r\n      <g>\r\n       <use style=\"fill:#ffffff;stroke:#ffffff;stroke-width:0.8;\" x=\"33.2875\" xlink:href=\"#m4d04e402cf\" y=\"125.432812\"/>\r\n      </g>\r\n     </g>\r\n     <g id=\"text_10\">\r\n      <!-- 300 -->\r\n      <g style=\"fill:#ffffff;\" transform=\"translate(7.2 129.232031)scale(0.1 -0.1)\">\r\n       <defs>\r\n        <path d=\"M 40.578125 39.3125 \r\nQ 47.65625 37.796875 51.625 33 \r\nQ 55.609375 28.21875 55.609375 21.1875 \r\nQ 55.609375 10.40625 48.1875 4.484375 \r\nQ 40.765625 -1.421875 27.09375 -1.421875 \r\nQ 22.515625 -1.421875 17.65625 -0.515625 \r\nQ 12.796875 0.390625 7.625 2.203125 \r\nL 7.625 11.71875 \r\nQ 11.71875 9.328125 16.59375 8.109375 \r\nQ 21.484375 6.890625 26.8125 6.890625 \r\nQ 36.078125 6.890625 40.9375 10.546875 \r\nQ 45.796875 14.203125 45.796875 21.1875 \r\nQ 45.796875 27.640625 41.28125 31.265625 \r\nQ 36.765625 34.90625 28.71875 34.90625 \r\nL 20.21875 34.90625 \r\nL 20.21875 43.015625 \r\nL 29.109375 43.015625 \r\nQ 36.375 43.015625 40.234375 45.921875 \r\nQ 44.09375 48.828125 44.09375 54.296875 \r\nQ 44.09375 59.90625 40.109375 62.90625 \r\nQ 36.140625 65.921875 28.71875 65.921875 \r\nQ 24.65625 65.921875 20.015625 65.03125 \r\nQ 15.375 64.15625 9.8125 62.3125 \r\nL 9.8125 71.09375 \r\nQ 15.4375 72.65625 20.34375 73.4375 \r\nQ 25.25 74.21875 29.59375 74.21875 \r\nQ 40.828125 74.21875 47.359375 69.109375 \r\nQ 53.90625 64.015625 53.90625 55.328125 \r\nQ 53.90625 49.265625 50.4375 45.09375 \r\nQ 46.96875 40.921875 40.578125 39.3125 \r\nz\r\n\" id=\"DejaVuSans-51\"/>\r\n       </defs>\r\n       <use xlink:href=\"#DejaVuSans-51\"/>\r\n       <use x=\"63.623047\" xlink:href=\"#DejaVuSans-48\"/>\r\n       <use x=\"127.246094\" xlink:href=\"#DejaVuSans-48\"/>\r\n      </g>\r\n     </g>\r\n    </g>\r\n    <g id=\"ytick_5\">\r\n     <g id=\"line2d_11\">\r\n      <g>\r\n       <use style=\"fill:#ffffff;stroke:#ffffff;stroke-width:0.8;\" x=\"33.2875\" xlink:href=\"#m4d04e402cf\" y=\"163.577344\"/>\r\n      </g>\r\n     </g>\r\n     <g id=\"text_11\">\r\n      <!-- 400 -->\r\n      <g style=\"fill:#ffffff;\" transform=\"translate(7.2 167.376562)scale(0.1 -0.1)\">\r\n       <use xlink:href=\"#DejaVuSans-52\"/>\r\n       <use x=\"63.623047\" xlink:href=\"#DejaVuSans-48\"/>\r\n       <use x=\"127.246094\" xlink:href=\"#DejaVuSans-48\"/>\r\n      </g>\r\n     </g>\r\n    </g>\r\n    <g id=\"ytick_6\">\r\n     <g id=\"line2d_12\">\r\n      <g>\r\n       <use style=\"fill:#ffffff;stroke:#ffffff;stroke-width:0.8;\" x=\"33.2875\" xlink:href=\"#m4d04e402cf\" y=\"201.721875\"/>\r\n      </g>\r\n     </g>\r\n     <g id=\"text_12\">\r\n      <!-- 500 -->\r\n      <g style=\"fill:#ffffff;\" transform=\"translate(7.2 205.521094)scale(0.1 -0.1)\">\r\n       <defs>\r\n        <path d=\"M 10.796875 72.90625 \r\nL 49.515625 72.90625 \r\nL 49.515625 64.59375 \r\nL 19.828125 64.59375 \r\nL 19.828125 46.734375 \r\nQ 21.96875 47.46875 24.109375 47.828125 \r\nQ 26.265625 48.1875 28.421875 48.1875 \r\nQ 40.625 48.1875 47.75 41.5 \r\nQ 54.890625 34.8125 54.890625 23.390625 \r\nQ 54.890625 11.625 47.5625 5.09375 \r\nQ 40.234375 -1.421875 26.90625 -1.421875 \r\nQ 22.3125 -1.421875 17.546875 -0.640625 \r\nQ 12.796875 0.140625 7.71875 1.703125 \r\nL 7.71875 11.625 \r\nQ 12.109375 9.234375 16.796875 8.0625 \r\nQ 21.484375 6.890625 26.703125 6.890625 \r\nQ 35.15625 6.890625 40.078125 11.328125 \r\nQ 45.015625 15.765625 45.015625 23.390625 \r\nQ 45.015625 31 40.078125 35.4375 \r\nQ 35.15625 39.890625 26.703125 39.890625 \r\nQ 22.75 39.890625 18.8125 39.015625 \r\nQ 14.890625 38.140625 10.796875 36.28125 \r\nz\r\n\" id=\"DejaVuSans-53\"/>\r\n       </defs>\r\n       <use xlink:href=\"#DejaVuSans-53\"/>\r\n       <use x=\"63.623047\" xlink:href=\"#DejaVuSans-48\"/>\r\n       <use x=\"127.246094\" xlink:href=\"#DejaVuSans-48\"/>\r\n      </g>\r\n     </g>\r\n    </g>\r\n    <g id=\"ytick_7\">\r\n     <g id=\"line2d_13\">\r\n      <g>\r\n       <use style=\"fill:#ffffff;stroke:#ffffff;stroke-width:0.8;\" x=\"33.2875\" xlink:href=\"#m4d04e402cf\" y=\"239.866406\"/>\r\n      </g>\r\n     </g>\r\n     <g id=\"text_13\">\r\n      <!-- 600 -->\r\n      <g style=\"fill:#ffffff;\" transform=\"translate(7.2 243.665625)scale(0.1 -0.1)\">\r\n       <use xlink:href=\"#DejaVuSans-54\"/>\r\n       <use x=\"63.623047\" xlink:href=\"#DejaVuSans-48\"/>\r\n       <use x=\"127.246094\" xlink:href=\"#DejaVuSans-48\"/>\r\n      </g>\r\n     </g>\r\n    </g>\r\n    <g id=\"ytick_8\">\r\n     <g id=\"line2d_14\">\r\n      <g>\r\n       <use style=\"fill:#ffffff;stroke:#ffffff;stroke-width:0.8;\" x=\"33.2875\" xlink:href=\"#m4d04e402cf\" y=\"278.010937\"/>\r\n      </g>\r\n     </g>\r\n     <g id=\"text_14\">\r\n      <!-- 700 -->\r\n      <g style=\"fill:#ffffff;\" transform=\"translate(7.2 281.810156)scale(0.1 -0.1)\">\r\n       <defs>\r\n        <path d=\"M 8.203125 72.90625 \r\nL 55.078125 72.90625 \r\nL 55.078125 68.703125 \r\nL 28.609375 0 \r\nL 18.3125 0 \r\nL 43.21875 64.59375 \r\nL 8.203125 64.59375 \r\nz\r\n\" id=\"DejaVuSans-55\"/>\r\n       </defs>\r\n       <use xlink:href=\"#DejaVuSans-55\"/>\r\n       <use x=\"63.623047\" xlink:href=\"#DejaVuSans-48\"/>\r\n       <use x=\"127.246094\" xlink:href=\"#DejaVuSans-48\"/>\r\n      </g>\r\n     </g>\r\n    </g>\r\n   </g>\r\n   <g id=\"patch_3\">\r\n    <path d=\"M 33.2875 303.758496 \r\nL 33.2875 10.808496 \r\n\" style=\"fill:none;stroke:#ffffff;stroke-linecap:square;stroke-linejoin:miter;stroke-width:0.8;\"/>\r\n   </g>\r\n   <g id=\"patch_4\">\r\n    <path d=\"M 423.8875 303.758496 \r\nL 423.8875 10.808496 \r\n\" style=\"fill:none;stroke:#ffffff;stroke-linecap:square;stroke-linejoin:miter;stroke-width:0.8;\"/>\r\n   </g>\r\n   <g id=\"patch_5\">\r\n    <path d=\"M 33.2875 303.758496 \r\nL 423.8875 303.758496 \r\n\" style=\"fill:none;stroke:#ffffff;stroke-linecap:square;stroke-linejoin:miter;stroke-width:0.8;\"/>\r\n   </g>\r\n   <g id=\"patch_6\">\r\n    <path d=\"M 33.2875 10.808496 \r\nL 423.8875 10.808496 \r\n\" style=\"fill:none;stroke:#ffffff;stroke-linecap:square;stroke-linejoin:miter;stroke-width:0.8;\"/>\r\n   </g>\r\n  </g>\r\n </g>\r\n <defs>\r\n  <clipPath id=\"pabad3483ed\">\r\n   <rect height=\"292.95\" width=\"390.6\" x=\"33.2875\" y=\"10.808496\"/>\r\n  </clipPath>\r\n </defs>\r\n</svg>\r\n",
      "image/png": "[encoded data removed]"
     },
     "metadata": {
      "needs_background": "dark"
     }
    }
   ],
   "source": [
    "import matplotlib.pyplot as plt\n",
    "import matplotlib.cm as cm\n",
    "fig = plt.figure(1, figsize=(7, 6))\n",
    "plt.imshow(data, cmap=cm.hot, interpolation=\"bicubic\")\n",
    "plt.show()"
   ]
  },
  {
   "cell_type": "markdown",
   "metadata": {},
   "source": [
    "# Saving and loading\n",
    "NumPy makes it easy to save and load `ndarray`s in binary or text format.\n",
    "\n",
    "## Binary `.npy` format\n",
    "Let's create a random array and save it."
   ]
  },
  {
   "cell_type": "code",
   "execution_count": 171,
   "metadata": {
    "scrolled": true
   },
   "outputs": [
    {
     "output_type": "execute_result",
     "data": {
      "text/plain": [
       "array([[0.67465023, 0.1537323 , 0.88936389],\n",
       "       [0.8060688 , 0.0542908 , 0.45336558]])"
      ]
     },
     "metadata": {},
     "execution_count": 171
    }
   ],
   "source": [
    "a = np.random.rand(2,3)\n",
    "a"
   ]
  },
  {
   "cell_type": "code",
   "execution_count": 172,
   "metadata": {},
   "outputs": [],
   "source": [
    "np.save(\"my_array\", a)"
   ]
  },
  {
   "cell_type": "markdown",
   "metadata": {},
   "source": [
    "Done! Since the file name contains no file extension was provided, NumPy automatically added `.npy`. Let's take a peek at the file content:"
   ]
  },
  {
   "cell_type": "code",
   "execution_count": 173,
   "metadata": {},
   "outputs": [
    {
     "output_type": "execute_result",
     "data": {
      "text/plain": [
       "b\"\\x93NUMPY\\x01\\x00v\\x00{'descr': '<f8', 'fortran_order': False, 'shape': (2, 3), }                                                          \\nn\\xde\\t\\x14\\xbc\\x96\\xe5?\\xc8\\xd7\\xea\\xfe\\x7f\\xad\\xc3?|\\x8d,@\\xabu\\xec?\\x95\\x993\\xcbP\\xcb\\xe9?\\xe0\\xd6\\x80\\xef\\x00\\xcc\\xab?^\\x89!\\x16\\xf1\\x03\\xdd?\""
      ]
     },
     "metadata": {},
     "execution_count": 173
    }
   ],
   "source": [
    "with open(\"my_array.npy\", \"rb\") as f:\n",
    "    content = f.read()\n",
    "\n",
    "content"
   ]
  },
  {
   "cell_type": "markdown",
   "metadata": {},
   "source": [
    "To load this file into a NumPy array, simply call `load`:"
   ]
  },
  {
   "cell_type": "code",
   "execution_count": 174,
   "metadata": {},
   "outputs": [
    {
     "output_type": "execute_result",
     "data": {
      "text/plain": [
       "array([[0.67465023, 0.1537323 , 0.88936389],\n",
       "       [0.8060688 , 0.0542908 , 0.45336558]])"
      ]
     },
     "metadata": {},
     "execution_count": 174
    }
   ],
   "source": [
    "a_loaded = np.load(\"my_array.npy\")\n",
    "a_loaded"
   ]
  },
  {
   "cell_type": "markdown",
   "metadata": {},
   "source": [
    "## Text format\n",
    "Let's try saving the array in text format:"
   ]
  },
  {
   "cell_type": "code",
   "execution_count": 175,
   "metadata": {},
   "outputs": [],
   "source": [
    "np.savetxt(\"my_array.csv\", a)"
   ]
  },
  {
   "cell_type": "markdown",
   "metadata": {},
   "source": [
    "Now let's look at the file content:"
   ]
  },
  {
   "cell_type": "code",
   "execution_count": 176,
   "metadata": {},
   "outputs": [
    {
     "output_type": "stream",
     "name": "stdout",
     "text": [
      "6.746502295854506226e-01 1.537322993005416638e-01 8.893638852500056480e-01\n8.060687989025604461e-01 5.429079936622627223e-02 4.533655849574155239e-01\n\n"
     ]
    }
   ],
   "source": [
    "with open(\"my_array.csv\", \"rt\") as f:\n",
    "    print(f.read())"
   ]
  },
  {
   "cell_type": "markdown",
   "metadata": {},
   "source": [
    "This is a CSV file with tabs as delimiters. You can set a different delimiter:"
   ]
  },
  {
   "cell_type": "code",
   "execution_count": 177,
   "metadata": {
    "collapsed": true,
    "jupyter": {
     "outputs_hidden": true
    }
   },
   "outputs": [],
   "source": [
    "np.savetxt(\"my_array.csv\", a, delimiter=\",\")"
   ]
  },
  {
   "cell_type": "markdown",
   "metadata": {},
   "source": [
    "To load this file, just use `loadtxt`:"
   ]
  },
  {
   "cell_type": "code",
   "execution_count": 178,
   "metadata": {},
   "outputs": [
    {
     "output_type": "execute_result",
     "data": {
      "text/plain": [
       "array([[0.67465023, 0.1537323 , 0.88936389],\n",
       "       [0.8060688 , 0.0542908 , 0.45336558]])"
      ]
     },
     "metadata": {},
     "execution_count": 178
    }
   ],
   "source": [
    "a_loaded = np.loadtxt(\"my_array.csv\", delimiter=\",\")\n",
    "a_loaded"
   ]
  },
  {
   "cell_type": "markdown",
   "metadata": {},
   "source": [
    "## Zipped `.npz` format\n",
    "It is also possible to save multiple arrays in one zipped file:"
   ]
  },
  {
   "cell_type": "code",
   "execution_count": 179,
   "metadata": {},
   "outputs": [
    {
     "output_type": "execute_result",
     "data": {
      "text/plain": [
       "array([[[ 0,  1,  2,  3],\n",
       "        [ 4,  5,  6,  7],\n",
       "        [ 8,  9, 10, 11]],\n",
       "\n",
       "       [[12, 13, 14, 15],\n",
       "        [16, 17, 18, 19],\n",
       "        [20, 21, 22, 23]]], dtype=uint8)"
      ]
     },
     "metadata": {},
     "execution_count": 179
    }
   ],
   "source": [
    "b = np.arange(24, dtype=np.uint8).reshape(2, 3, 4)\n",
    "b"
   ]
  },
  {
   "cell_type": "code",
   "execution_count": 180,
   "metadata": {
    "collapsed": true,
    "jupyter": {
     "outputs_hidden": true
    }
   },
   "outputs": [],
   "source": [
    "np.savez(\"my_arrays\", my_a=a, my_b=b)"
   ]
  },
  {
   "cell_type": "markdown",
   "metadata": {},
   "source": [
    "Again, let's take a peek at the file content. Note that the `.npz` file extension was automatically added."
   ]
  },
  {
   "cell_type": "code",
   "execution_count": 181,
   "metadata": {},
   "outputs": [
    {
     "output_type": "execute_result",
     "data": {
      "text/plain": [
       "'b\"PK\\\\x03\\\\x04\\\\x14\\\\x00\\\\x00\\\\x00\\\\x00\\\\x00\\\\x00\\\\x00!\\\\x00\\\\xfePP\\\\xb2\\\\xb0\\\\x00\\\\x00\\\\x00\\\\xb0\\\\x00\\\\x00\\\\x00\\\\x08\\\\x00\\\\x14\\\\x00my_a.npy\\\\x01\\\\x00\\\\x10\\\\x00\\\\xb0\\\\x00\\\\x00\\\\x00\\\\x00\\\\x00\\\\x00\\\\x00\\\\xb0\\\\x00\\\\x00\\\\x00\\\\[...]'"
      ]
     },
     "metadata": {},
     "execution_count": 181
    }
   ],
   "source": [
    "with open(\"my_arrays.npz\", \"rb\") as f:\n",
    "    content = f.read()\n",
    "\n",
    "repr(content)[:180] + \"[...]\""
   ]
  },
  {
   "cell_type": "markdown",
   "metadata": {},
   "source": [
    "You then load this file like so:"
   ]
  },
  {
   "cell_type": "code",
   "execution_count": 182,
   "metadata": {},
   "outputs": [
    {
     "output_type": "execute_result",
     "data": {
      "text/plain": [
       "<numpy.lib.npyio.NpzFile at 0x2923069abe0>"
      ]
     },
     "metadata": {},
     "execution_count": 182
    }
   ],
   "source": [
    "my_arrays = np.load(\"my_arrays.npz\")\n",
    "my_arrays"
   ]
  },
  {
   "cell_type": "markdown",
   "metadata": {},
   "source": [
    "This is a dict-like object which loads the arrays lazily:"
   ]
  },
  {
   "cell_type": "code",
   "execution_count": 183,
   "metadata": {},
   "outputs": [
    {
     "output_type": "execute_result",
     "data": {
      "text/plain": [
       "KeysView(<numpy.lib.npyio.NpzFile object at 0x000002923069ABE0>)"
      ]
     },
     "metadata": {},
     "execution_count": 183
    }
   ],
   "source": [
    "my_arrays.keys()"
   ]
  },
  {
   "cell_type": "code",
   "execution_count": 184,
   "metadata": {},
   "outputs": [
    {
     "output_type": "execute_result",
     "data": {
      "text/plain": [
       "array([[0.67465023, 0.1537323 , 0.88936389],\n",
       "       [0.8060688 , 0.0542908 , 0.45336558]])"
      ]
     },
     "metadata": {},
     "execution_count": 184
    }
   ],
   "source": [
    "my_arrays[\"my_a\"]"
   ]
  },
  {
   "cell_type": "markdown",
   "metadata": {},
   "source": [
    "# What next?\n",
    "Now you know all the fundamentals of NumPy, but there are many more options available. The best way to learn more is to experiment with NumPy, and go through the excellent [reference documentation](http://docs.scipy.org/doc/numpy/reference/index.html) to find more functions and features you may be interested in."
   ]
  }
 ],
 "metadata": {
  "kernelspec": {
   "name": "python3",
   "display_name": "Python 3.8.3 64-bit ('base': conda)"
  },
  "language_info": {
   "codemirror_mode": {
    "name": "ipython",
    "version": 3
   },
   "file_extension": ".py",
   "mimetype": "text/x-python",
   "name": "python",
   "nbconvert_exporter": "python",
   "pygments_lexer": "ipython3",
   "version": "3.8.3"
  },
  "toc": {
   "toc_cell": false,
   "toc_number_sections": true,
   "toc_section_display": "block",
   "toc_threshold": 6,
   "toc_window_display": false
  },
  "toc_position": {
   "height": "677px",
   "left": "1195.02px",
   "right": "20px",
   "top": "78px",
   "width": "238px"
  },
  "interpreter": {
   "hash": "46cefc2cde461d36efaeca93bea0395b52383d18774fd51cddb470aacd9e6b7c"
  }
 },
 "nbformat": 4,
 "nbformat_minor": 4
}