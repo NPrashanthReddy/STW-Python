{
 "metadata": {
  "language_info": {
   "codemirror_mode": {
    "name": "ipython",
    "version": 3
   },
   "file_extension": ".py",
   "mimetype": "text/x-python",
   "name": "python",
   "nbconvert_exporter": "python",
   "pygments_lexer": "ipython3",
   "version": "3.9.1"
  },
  "orig_nbformat": 2,
  "kernelspec": {
   "name": "python39164bit2cd3a315bc1d4a138b1c6726033e010e",
   "display_name": "Python 3.9.1 64-bit"
  },
  "metadata": {
   "interpreter": {
    "hash": "aee8b7b246df8f9039afb4144a1f6fd8d2ca17a180786b69acc140d282b71a49"
   }
  }
 },
 "nbformat": 4,
 "nbformat_minor": 2,
 "cells": [
  {
   "source": [
    "### 1.Write a program to prompt for a score between 0.0 and 1.0. If the score is out of range, print an error message. If the score is between 0.0 and 1.0, print a grade using the following table:\n",
    "\n",
    "```Score  Grade\n",
    ">= 0.9  A\n",
    ">= 0.8  B\n",
    ">= 0.7  C\n",
    ">= 0.6  D\n",
    "< 0.6   F\n",
    "```\n",
    "Enter score: 0.95\n",
    "\n",
    "A\n",
    "\n",
    "Enter score: perfect\n",
    "\n",
    "Bad score\n",
    "\n",
    "Enter score: 10.0\n",
    "\n",
    "Bad score\n",
    "\n",
    "Enter score: 0.75\n",
    "\n",
    "C\n",
    "\n",
    "Enter score: 0.5\n",
    "\n",
    "F\n"
   ],
   "cell_type": "markdown",
   "metadata": {}
  },
  {
   "source": [
    "### 2. Write a Python program to display the first and last colors from the following list. \n",
    "color_list = `[\"Red\",\"Green\",\"White\" ,\"Black\"]`\n"
   ],
   "cell_type": "markdown",
   "metadata": {}
  },
  {
   "source": [
    "### 3. Write a Python program to calculate number of days between two dates.\n",
    "*Sample dates* : (2014, 7, 2), (2014, 7, 11)\n",
    "\n",
    "*Expected output* : 9 days"
   ],
   "cell_type": "markdown",
   "metadata": {}
  },
  {
   "cell_type": "code",
   "execution_count": 8,
   "metadata": {},
   "outputs": [],
   "source": []
  },
  {
   "source": [
    "### 4. Write a Python program to get the difference between a given number and 17, if the number is greater than 17 return double the absolute difference."
   ],
   "cell_type": "markdown",
   "metadata": {}
  },
  {
   "source": [
    "### 5. Write a Python program to test whether a number is within 100 of 1000 or 2000."
   ],
   "cell_type": "markdown",
   "metadata": {}
  },
  {
   "source": [
    "### 6. Write a Python program to calculate the sum of three given numbers, if the values are equal then return three times of their sum. "
   ],
   "cell_type": "markdown",
   "metadata": {}
  },
  {
   "source": [
    "### 7. Write a Python program to find whether a given number (accept from the user) is even or odd, print out an appropriate message to the user. \n"
   ],
   "cell_type": "markdown",
   "metadata": {}
  },
  {
   "source": [
    "### 8. Write a Python program to count the number 4 in a given list."
   ],
   "cell_type": "markdown",
   "metadata": {}
  },
  {
   "source": [
    "### 9. Write a Python program to test whether a passed letter is a vowel or not. "
   ],
   "cell_type": "markdown",
   "metadata": {}
  },
  {
   "source": [
    "### 10. Write a Python program to check whether a specified value is contained in a group of values.   \n",
    "Test Data :\n",
    "\n",
    "3 -> `[1, 5, 8, 3]` : True\n",
    "\n",
    "-1 -> `[1, 5, 8, 3]` : False\n",
    " "
   ],
   "cell_type": "markdown",
   "metadata": {}
  },
  {
   "source": [
    "### 11. Write a Python program that will accept the base and height of a triangle and compute the area."
   ],
   "cell_type": "markdown",
   "metadata": {}
  },
  {
   "source": [
    "### 12. Write a Python program to compute the greatest common divisor (GCD) of two positive integers"
   ],
   "cell_type": "markdown",
   "metadata": {}
  },
  {
   "cell_type": "code",
   "execution_count": null,
   "metadata": {},
   "outputs": [],
   "source": [
    "#Euler's algorithm \n",
    "a = int(input())\n",
    "b = int(input())\n",
    "i = 1\n",
    "while(i<a)\n",
    "if a%i ==0 && b %i==0:\n",
    "    [put in list]\n",
    "    i++\n",
    "max(list)\n",
    "\n"
   ]
  },
  {
   "source": [
    "### 13. Write a Python program to get the least common multiple (LCM) of two positive integers."
   ],
   "cell_type": "markdown",
   "metadata": {}
  },
  {
   "source": [
    "### 14. Write a Python program to sum of three given integers. However, if two values are equal sum will be zero. "
   ],
   "cell_type": "markdown",
   "metadata": {}
  },
  {
   "source": [
    "### 15. Write a Python program to sum of two given integers. However, if the sum is between 15 to 20 it will return 20."
   ],
   "cell_type": "markdown",
   "metadata": {}
  },
  {
   "source": [
    "### 16. Write a Python program to add two objects if both objects are an integer type. "
   ],
   "cell_type": "markdown",
   "metadata": {}
  },
  {
   "cell_type": "code",
   "execution_count": null,
   "metadata": {},
   "outputs": [],
   "source": []
  },
  {
   "source": [
    "### 17. An acronym is a word formed by taking the first letters of the words in a phrase and making a word from them. For example, RAM is an acronym for \"random access memory.\" Write a program that allows the user to type in a phrase and then outputs the acronym for that phrase. Note : The acronym should be all uppercase, even if the words in the phrase are not Capitalized.\n"
   ],
   "cell_type": "markdown",
   "metadata": {}
  },
  {
   "source": [
    "### 18. Write a program that calculates the average word length in a sentence entered by the user.\n"
   ],
   "cell_type": "markdown",
   "metadata": {}
  },
  {
   "cell_type": "code",
   "execution_count": null,
   "metadata": {},
   "outputs": [],
   "source": []
  },
  {
   "source": [
    "# Doubts Session #3_05-06-21"
   ],
   "cell_type": "markdown",
   "metadata": {}
  },
  {
   "cell_type": "code",
   "execution_count": 1,
   "metadata": {},
   "outputs": [
    {
     "output_type": "execute_result",
     "data": {
      "text/plain": [
       "['__add__',\n",
       " '__class__',\n",
       " '__class_getitem__',\n",
       " '__contains__',\n",
       " '__delattr__',\n",
       " '__delitem__',\n",
       " '__dir__',\n",
       " '__doc__',\n",
       " '__eq__',\n",
       " '__format__',\n",
       " '__ge__',\n",
       " '__getattribute__',\n",
       " '__getitem__',\n",
       " '__gt__',\n",
       " '__hash__',\n",
       " '__iadd__',\n",
       " '__imul__',\n",
       " '__init__',\n",
       " '__init_subclass__',\n",
       " '__iter__',\n",
       " '__le__',\n",
       " '__len__',\n",
       " '__lt__',\n",
       " '__mul__',\n",
       " '__ne__',\n",
       " '__new__',\n",
       " '__reduce__',\n",
       " '__reduce_ex__',\n",
       " '__repr__',\n",
       " '__reversed__',\n",
       " '__rmul__',\n",
       " '__setattr__',\n",
       " '__setitem__',\n",
       " '__sizeof__',\n",
       " '__str__',\n",
       " '__subclasshook__',\n",
       " 'append',\n",
       " 'clear',\n",
       " 'copy',\n",
       " 'count',\n",
       " 'extend',\n",
       " 'index',\n",
       " 'insert',\n",
       " 'pop',\n",
       " 'remove',\n",
       " 'reverse',\n",
       " 'sort']"
      ]
     },
     "metadata": {},
     "execution_count": 1
    }
   ],
   "source": [
    "dir(list)"
   ]
  },
  {
   "cell_type": "code",
   "execution_count": 3,
   "metadata": {},
   "outputs": [],
   "source": [
    "#insert (2,el)\n",
    "#append (el)\n",
    "#extend (ls)\n",
    "lst = [1,2,4,12]\n",
    "lst2 = [23,43]\n",
    "lst.extend(lst2)"
   ]
  },
  {
   "cell_type": "code",
   "execution_count": null,
   "metadata": {},
   "outputs": [],
   "source": []
  },
  {
   "cell_type": "code",
   "execution_count": 4,
   "metadata": {},
   "outputs": [
    {
     "output_type": "execute_result",
     "data": {
      "text/plain": [
       "[1, 2, 4, 12, 23, 43]"
      ]
     },
     "metadata": {},
     "execution_count": 4
    }
   ],
   "source": [
    "lst.append(lst2)"
   ]
  },
  {
   "cell_type": "code",
   "execution_count": 5,
   "metadata": {},
   "outputs": [
    {
     "output_type": "execute_result",
     "data": {
      "text/plain": [
       "[24, 44]"
      ]
     },
     "metadata": {},
     "execution_count": 5
    }
   ],
   "source": [
    "new_lst = []\n",
    "for i in lst2:\n",
    "    new_lst.append(i+1)\n",
    "new_lst"
   ]
  },
  {
   "cell_type": "code",
   "execution_count": 7,
   "metadata": {},
   "outputs": [
    {
     "output_type": "execute_result",
     "data": {
      "text/plain": [
       "[1, 2, 4, 12, 23, 43, 23, 43]"
      ]
     },
     "metadata": {},
     "execution_count": 7
    }
   ],
   "source": [
    "lst+lst2"
   ]
  },
  {
   "cell_type": "code",
   "execution_count": 8,
   "metadata": {},
   "outputs": [
    {
     "output_type": "execute_result",
     "data": {
      "text/plain": [
       "[24, 45]"
      ]
     },
     "metadata": {},
     "execution_count": 8
    }
   ],
   "source": [
    "add_lst = [1,2]\n",
    "\n",
    "new_lst =[]for i in range(len(lst2)):\n",
    "    new_lst>.append(lst2[i]+)add_lst[i]\n",
    "  nnew_lst"
   ]
  },
  {
   "cell_type": "code",
   "execution_count": null,
   "metadata": {},
   "outputs": [],
   "source": [
    "[lst2[i]+add_lst[i] for i in range(len(lst2))]\n",
    "\n",
    "#creates new list \n",
    "#appends elements ____ before `for`"
   ]
  },
  {
   "cell_type": "code",
   "execution_count": 9,
   "metadata": {},
   "outputs": [
    {
     "output_type": "execute_result",
     "data": {
      "text/plain": [
       "[' 1 2 3 4 5 ', '1', '2', '3', '4']"
      ]
     },
     "metadata": {},
     "execution_count": 9
    }
   ],
   "source": [
    "new_lst = [int(input()) for i in range(5)]"
   ]
  },
  {
   "cell_type": "code",
   "execution_count": 10,
   "metadata": {},
   "outputs": [
    {
     "output_type": "execute_result",
     "data": {
      "text/plain": [
       "'12'"
      ]
     },
     "metadata": {},
     "execution_count": 10
    }
   ],
   "source": [
    "int('12')\n",
    "str(12)"
   ]
  },
  {
   "cell_type": "code",
   "execution_count": 11,
   "metadata": {},
   "outputs": [],
   "source": [
    "matrix = [[1,2,3],\n",
    " [12,2,4],\n",
    " [1,43,5]]"
   ]
  },
  {
   "cell_type": "code",
   "execution_count": 12,
   "metadata": {},
   "outputs": [
    {
     "output_type": "execute_result",
     "data": {
      "text/plain": [
       "[[1, 2, 3], [12, 2, 4], [1, 43, 5]]"
      ]
     },
     "metadata": {},
     "execution_count": 12
    }
   ],
   "source": [
    "matrix"
   ]
  },
  {
   "source": [
    "### 1.Write a Python program to sum all the items in a list"
   ],
   "cell_type": "markdown",
   "metadata": {}
  },
  {
   "cell_type": "code",
   "execution_count": 31,
   "metadata": {},
   "outputs": [],
   "source": [
    "ls1 = [2,3,4,1,23,12,14]\n",
    "ls2 = [1,2,4,223,12343,124,1245]"
   ]
  },
  {
   "cell_type": "code",
   "execution_count": 17,
   "metadata": {},
   "outputs": [
    {
     "output_type": "stream",
     "name": "stdout",
     "text": [
      "True\n"
     ]
    }
   ],
   "source": [
    "commonElementFound = False\n",
    "for el in ls1:\n",
    "    for i in ls2:\n",
    "        if el == i:\n",
    "            commonElementFound = True\n",
    "            break\n",
    "    if commonElementFound:\n",
    "        print(True)\n",
    "        break\n",
    "    \n",
    " "
   ]
  },
  {
   "cell_type": "code",
   "execution_count": 18,
   "metadata": {},
   "outputs": [
    {
     "output_type": "execute_result",
     "data": {
      "text/plain": [
       "[3, 1, 23]"
      ]
     },
     "metadata": {},
     "execution_count": 18
    }
   ],
   "source": [
    "ls1 = [2,3,4,1,23,12,14]\n",
    "[i for i in ls1 if i%2]"
   ]
  },
  {
   "cell_type": "code",
   "execution_count": 30,
   "metadata": {},
   "outputs": [
    {
     "output_type": "stream",
     "name": "stdout",
     "text": [
      "round: 123.12\n"
     ]
    }
   ],
   "source": [
    "var = 123.123\n",
    "print(\"round: {number:.2f}\".format(number=var))"
   ]
  },
  {
   "cell_type": "code",
   "execution_count": null,
   "metadata": {},
   "outputs": [],
   "source": []
  },
  {
   "cell_type": "code",
   "execution_count": 24,
   "metadata": {},
   "outputs": [],
   "source": []
  },
  {
   "source": [
    "# Doubts session#4_07-06"
   ],
   "cell_type": "markdown",
   "metadata": {}
  },
  {
   "cell_type": "code",
   "execution_count": 2,
   "metadata": {},
   "outputs": [
    {
     "output_type": "execute_result",
     "data": {
      "text/plain": [
       "2"
      ]
     },
     "metadata": {},
     "execution_count": 2
    }
   ],
   "source": [
    "matrix = [[1,2,3],[4,5,6],[7,8,9]]\n"
   ]
  },
  {
   "cell_type": "code",
   "execution_count": 4,
   "metadata": {},
   "outputs": [
    {
     "output_type": "execute_result",
     "data": {
      "text/plain": [
       "10715086071862673209484250490600018105614048117055336074437503883703510511249361224931983788156958581275946729175531468251871452856923140435984577574698574803934567774824230985421074605062371141877954182153046474983581941267398767559165543946077062914571196477686542167660429831652624386837205668069376"
      ]
     },
     "metadata": {},
     "execution_count": 4
    }
   ],
   "source": []
  },
  {
   "cell_type": "code",
   "execution_count": 8,
   "metadata": {},
   "outputs": [
    {
     "output_type": "execute_result",
     "data": {
      "text/plain": [
       "list"
      ]
     },
     "metadata": {},
     "execution_count": 8
    }
   ],
   "source": [
    "rnds = ['prashanth',12,76,'tup_87']\n",
    "type(rnds)"
   ]
  },
  {
   "cell_type": "code",
   "execution_count": 9,
   "metadata": {},
   "outputs": [
    {
     "output_type": "error",
     "ename": "TypeError",
     "evalue": "'set' object is not subscriptable",
     "traceback": [
      "\u001b[0;31m---------------------------------------------------------------------------\u001b[0m",
      "\u001b[0;31mTypeError\u001b[0m                                 Traceback (most recent call last)",
      "\u001b[0;32m<ipython-input-9-8c28c616ae58>\u001b[0m in \u001b[0;36m<module>\u001b[0;34m\u001b[0m\n\u001b[1;32m      2\u001b[0m \u001b[0;31m#Ordering - Sets and dicts\u001b[0m\u001b[0;34m\u001b[0m\u001b[0;34m\u001b[0m\u001b[0;34m\u001b[0m\u001b[0m\n\u001b[1;32m      3\u001b[0m \u001b[0mst\u001b[0m \u001b[0;34m=\u001b[0m \u001b[0;34m{\u001b[0m\u001b[0;36m1\u001b[0m\u001b[0;34m,\u001b[0m\u001b[0;36m2\u001b[0m\u001b[0;34m,\u001b[0m\u001b[0;36m4\u001b[0m\u001b[0;34m}\u001b[0m\u001b[0;34m\u001b[0m\u001b[0;34m\u001b[0m\u001b[0m\n\u001b[0;32m----> 4\u001b[0;31m \u001b[0mst\u001b[0m\u001b[0;34m[\u001b[0m\u001b[0;36m2\u001b[0m\u001b[0;34m]\u001b[0m\u001b[0;34m\u001b[0m\u001b[0;34m\u001b[0m\u001b[0m\n\u001b[0m",
      "\u001b[0;31mTypeError\u001b[0m: 'set' object is not subscriptable"
     ]
    }
   ],
   "source": [
    "#Mutability - Tuples and strings\n",
    "#Ordering - Sets and dicts \n",
    "st = {1,2,4}\n",
    "st[2]"
   ]
  },
  {
   "cell_type": "code",
   "execution_count": null,
   "metadata": {},
   "outputs": [],
   "source": [
    "#hash "
   ]
  },
  {
   "cell_type": "code",
   "execution_count": null,
   "metadata": {},
   "outputs": [],
   "source": [
    "\"\"\"From: <person_email> \n",
    "    To: <received_emails>\"\"\""
   ]
  }
 ]
}