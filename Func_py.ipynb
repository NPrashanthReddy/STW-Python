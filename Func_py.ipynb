{
 "cells": [
  {
   "cell_type": "markdown",
   "metadata": {
    "id": "W685A3V4qx1Q"
   },
   "source": [
    "# Python Functions"
   ]
  },
  {
   "cell_type": "markdown",
   "metadata": {
    "id": "iueQVnPGqx1U"
   },
   "source": [
    "Function is a group of related statements that perform a specific task."
   ]
  },
  {
   "cell_type": "markdown",
   "metadata": {
    "id": "wUB2YXtBqx1X"
   },
   "source": [
    "Functions help break our program into smaller and modular chunks. As our program grows larger and larger, functions make it more organized and manageable.\n",
    "\n",
    "It avoids repetition and makes code reusable."
   ]
  },
  {
   "cell_type": "markdown",
   "metadata": {
    "id": "LDZ6MpTwqx1a"
   },
   "source": [
    "# Syntax:"
   ]
  },
  {
   "cell_type": "markdown",
   "metadata": {
    "id": "EyqjxCEwqx1c"
   },
   "source": [
    "    def function_name(parameters):\n",
    "    \n",
    "        \"\"\"\n",
    "        Doc String\n",
    "        \"\"\"\n",
    "    \n",
    "        Statement(s)"
   ]
  },
  {
   "cell_type": "markdown",
   "metadata": {
    "id": "k4qKflh4qx1e"
   },
   "source": [
    "1. keyword \"def\" marks the start of function header\n",
    "\n",
    "2. Parameters (arguments) through which we pass values to a function. These are optional\n",
    "\n",
    "3. A colon(:) to mark the end of function header\n",
    "\n",
    "4. Doc string describe what the function does. This is optional\n",
    "\n",
    "5. \"return\" statement to return a value from the function. This is optional"
   ]
  },
  {
   "cell_type": "markdown",
   "metadata": {
    "id": "tHJhKoLgqx1h"
   },
   "source": [
    "# Example:"
   ]
  },
  {
   "cell_type": "code",
   "execution_count": null,
   "metadata": {
    "id": "Y8D1p1eAqx1i"
   },
   "outputs": [],
   "source": [
    "def print_name(name):\n",
    "    \"\"\" \n",
    "    This function prints the name\n",
    "    \"\"\"\n",
    "    print(\"Hello \" + str(name)) \n"
   ]
  },
  {
   "cell_type": "markdown",
   "metadata": {
    "id": "TDBBivd2qx1p"
   },
   "source": [
    "# Function Call"
   ]
  },
  {
   "cell_type": "markdown",
   "metadata": {
    "id": "Dseptsvoqx1q"
   },
   "source": [
    "Once we have defined a function, we can call it from anywhere"
   ]
  },
  {
   "cell_type": "code",
   "execution_count": null,
   "metadata": {
    "id": "4CJ01FUpqx1t",
    "outputId": "183b4d32-4a77-4d0f-d475-2df249a8b621"
   },
   "outputs": [],
   "source": [
    "print_name('Krishna')\n"
   ]
  },
  {
   "cell_type": "markdown",
   "metadata": {
    "collapsed": true,
    "id": "oljIs66Jqx11"
   },
   "source": [
    "# Doc String"
   ]
  },
  {
   "cell_type": "markdown",
   "metadata": {
    "id": "7qnfLrtsqx12"
   },
   "source": [
    "The first string after the function header is called the docstring and is short for documentation string.\n"
   ]
  },
  {
   "cell_type": "markdown",
   "metadata": {
    "id": "hQmE1qO8qx14"
   },
   "source": [
    "Although optional, documentation is a good programming practice, always document your code"
   ]
  },
  {
   "cell_type": "markdown",
   "metadata": {
    "id": "HICWQwepqx15"
   },
   "source": [
    "Doc string will be written in triple quotes so that docstring can extend up to multiple lines"
   ]
  },
  {
   "cell_type": "code",
   "execution_count": null,
   "metadata": {
    "id": "hQCrIjvzqx18",
    "outputId": "35e42840-e897-46e0-ecf7-9ef1881534f4"
   },
   "outputs": [],
   "source": [
    "print(print_name.__doc__) # print doc string of the function"
   ]
  },
  {
   "cell_type": "markdown",
   "metadata": {
    "id": "7bXpeRMXqx2D"
   },
   "source": [
    "# return Statement"
   ]
  },
  {
   "cell_type": "markdown",
   "metadata": {
    "id": "GoR0PNUOqx2G"
   },
   "source": [
    "The return statement is used to exit a function and go back to the place from where it was called."
   ]
  },
  {
   "cell_type": "markdown",
   "metadata": {
    "id": "XPoedgmGqx2H"
   },
   "source": [
    "Syntax:\n",
    "    \n",
    "    return [expression]"
   ]
  },
  {
   "cell_type": "markdown",
   "metadata": {
    "id": "IIkX4Y1gqx2J"
   },
   "source": [
    "-> return statement can contain an expression which gets evaluated and the value is returned.\n",
    "\n",
    "-> if there is no expression in the statement or the return statement itself is not present inside a function, then the function will return None Object"
   ]
  },
  {
   "cell_type": "code",
   "execution_count": null,
   "metadata": {
    "id": "e8JqjPNvqx2L"
   },
   "outputs": [],
   "source": [
    "def get_sum(lst):\n",
    "    \"\"\"\n",
    "    This function returns the sum of all the elements in a list\n",
    "    \"\"\"\n",
    "    #initialize sum\n",
    "    _sum = 0\n",
    "    \n",
    "    #iterating over the list\n",
    "    for num in lst:\n",
    "        _sum += num\n",
    "    return _sum\n"
   ]
  },
  {
   "cell_type": "code",
   "execution_count": null,
   "metadata": {
    "id": "9tKmO0IQqx2T",
    "outputId": "c682c536-157f-449c-9e75-9568e9874636"
   },
   "outputs": [],
   "source": [
    "s = get_sum((1, 2, 3, 4))\n",
    "print(s)\n"
   ]
  },
  {
   "cell_type": "code",
   "execution_count": null,
   "metadata": {
    "id": "aJ2e31Jrqx2Y",
    "outputId": "c56387e6-ba8a-4428-dbb2-d8173e75649b"
   },
   "outputs": [],
   "source": [
    "#print doc string\n",
    "print(get_sum.__doc__)\n"
   ]
  },
  {
   "cell_type": "markdown",
   "metadata": {
    "id": "ngEFY7UVqx2i"
   },
   "source": [
    "# Scope and Life Time of Variables"
   ]
  },
  {
   "cell_type": "markdown",
   "metadata": {
    "id": "Q_2YkKBlqx2l"
   },
   "source": [
    "-> Scope of a variable is the portion of a program where the variable is recognized"
   ]
  },
  {
   "cell_type": "markdown",
   "metadata": {
    "id": "wwAGJbwKqx2n"
   },
   "source": [
    "-> variables defined inside a function is not visible from outside. Hence, they have a local scope."
   ]
  },
  {
   "cell_type": "markdown",
   "metadata": {
    "id": "oR9IZIIfqx2p"
   },
   "source": [
    "-> Lifetime of a variable is the period throughout which the variable exits in the memory. \n",
    "\n",
    "-> The lifetime of variables inside a function is as long as the function executes."
   ]
  },
  {
   "cell_type": "markdown",
   "metadata": {
    "id": "Sf0XTJGOqx2p"
   },
   "source": [
    "-> Variables are destroyed once we return from the function. "
   ]
  },
  {
   "cell_type": "markdown",
   "metadata": {
    "id": "SdCba00Uqx2r"
   },
   "source": [
    "# Example:"
   ]
  },
  {
   "cell_type": "code",
   "execution_count": null,
   "metadata": {
    "id": "8jUaZMoiqx2r",
    "outputId": "fe6c64c2-4b9e-466d-eaf6-56938eae3a56"
   },
   "outputs": [],
   "source": [
    "global_var = \"This is global variable\"\n",
    "\n",
    "def test_life_time():\n",
    "    \"\"\"\n",
    "    This function test the life time of a variables\n",
    "    \"\"\"\n",
    "    local_var = \"This is local variable\"\n",
    "    print(local_var)       #print local variable local_var\n",
    "    \n",
    "    print(global_var)      #print global variable global_var\n",
    "    \n",
    "    \n",
    "\n",
    "#calling function\n",
    "test_life_time()\n",
    "\n",
    "#print global variable global_var\n",
    "print(global_var)\n",
    "\n",
    "#print local variable local_var\n",
    "print(local_var)\n"
   ]
  },
  {
   "cell_type": "markdown",
   "metadata": {
    "id": "m57Z9Aq1qx2z"
   },
   "source": [
    "# Python program to print Highest Common Factor (HCF) of two numbers"
   ]
  },
  {
   "cell_type": "code",
   "execution_count": null,
   "metadata": {
    "colab": {
     "base_uri": "https://localhost:8080/",
     "height": 54
    },
    "id": "khyxyWWBqx20",
    "outputId": "c4883331-8436-4ef8-c939-0f7bc26a6229"
   },
   "outputs": [],
   "source": [
    "def computeHCF(a, b):\n",
    "    \"\"\"\n",
    "    Computing HCF of two numbers\n",
    "    \"\"\"\n",
    "    smaller = b if a > b else a  #consice way of writing if else statement\n",
    "    \n",
    "    hcf = 1\n",
    "    for i in range(1, smaller+1):\n",
    "        if (a % i == 0) and (b % i == 0):\n",
    "            hcf = i\n",
    "    return hcf\n",
    "\n",
    "num1 = 6\n",
    "num2 = 36\n",
    "\n",
    "print(\"H.C.F of {0} and {1} is: {2}\".format(num1, num2, computeHCF(num1, num2)))"
   ]
  },
  {
   "cell_type": "code",
   "execution_count": null,
   "metadata": {
    "id": "en1Kc1Jjqx2_"
   },
   "outputs": [],
   "source": []
  },
  {
   "cell_type": "markdown",
   "metadata": {
    "id": "RqxIugMnDy18"
   },
   "source": [
    "# Types Of Functions"
   ]
  },
  {
   "cell_type": "markdown",
   "metadata": {
    "id": "MeGY4QcFDy2B"
   },
   "source": [
    "1. Built-in Functions\n",
    "\n",
    "2. User-defined Functions"
   ]
  },
  {
   "cell_type": "markdown",
   "metadata": {
    "id": "ilt0Wb4sDy2E"
   },
   "source": [
    "# Built-in Functions"
   ]
  },
  {
   "cell_type": "markdown",
   "metadata": {
    "id": "ubtJWhwrDy2F"
   },
   "source": [
    "# 1. abs()"
   ]
  },
  {
   "cell_type": "code",
   "execution_count": null,
   "metadata": {
    "id": "cs7rqfNGDy2H",
    "outputId": "9b7c7119-c7ac-4687-c6d2-2c1f4beedb6b"
   },
   "outputs": [],
   "source": [
    "# find the absolute value\n",
    "\n",
    "num = -100\n",
    "\n",
    "print(abs(num))\n"
   ]
  },
  {
   "cell_type": "markdown",
   "metadata": {
    "id": "Ao4an2SJDy2V"
   },
   "source": [
    "# 2. all()"
   ]
  },
  {
   "cell_type": "markdown",
   "metadata": {
    "id": "s7KNa-qjDy2X"
   },
   "source": [
    "#return value of all() function\n",
    "\n",
    "True: if all elements in an iterable are true\n",
    "\n",
    "False: if any element in an iterable is false"
   ]
  },
  {
   "cell_type": "code",
   "execution_count": null,
   "metadata": {
    "id": "BUYpaNxDDy2Z",
    "outputId": "4155af24-b996-48bc-f94f-96455fc6c295"
   },
   "outputs": [],
   "source": [
    "lst = [1, 2, -3, 4]\n",
    "print(all(lst)) \n"
   ]
  },
  {
   "cell_type": "code",
   "execution_count": null,
   "metadata": {
    "id": "PMh2XjhmDy2g",
    "outputId": "3fcc42c4-b996-4002-c2bc-4379c765ae57"
   },
   "outputs": [],
   "source": [
    "lst = (0, 2, 3, 4)    # 0 present in list \n",
    "print(all(lst))\n"
   ]
  },
  {
   "cell_type": "code",
   "execution_count": null,
   "metadata": {
    "id": "A1612gmHDy2n",
    "outputId": "5ab9f21d-d79d-43c0-e021-018ba8228f32"
   },
   "outputs": [],
   "source": [
    "lst = []              #empty list always true\n",
    "print(all(lst))\n"
   ]
  },
  {
   "cell_type": "code",
   "execution_count": null,
   "metadata": {
    "id": "EFwmHv_kDy2v",
    "outputId": "d466ad84-2d91-4ceb-bf13-c808f8dfcd2d"
   },
   "outputs": [],
   "source": [
    "lst = [False, 1, 2]   #False present in a list so all(lst) is False\n",
    "print(all(lst))\n"
   ]
  },
  {
   "cell_type": "markdown",
   "metadata": {
    "id": "Vpyu5OLGDy2z"
   },
   "source": [
    "# dir()"
   ]
  },
  {
   "cell_type": "markdown",
   "metadata": {
    "id": "hKSi83LiDy20"
   },
   "source": [
    "The dir() tries to return a list of valid attributes of the object.\n",
    "\n",
    "If the object has __dir__() method, the method will be called and must return the list of attributes.\n",
    "\n",
    "If the object doesn't have __dir()__ method, this method tries to find information from the __dict__ attribute (if defined), and from type object. In this case, the list returned from dir() may not be complete.\n"
   ]
  },
  {
   "cell_type": "code",
   "execution_count": null,
   "metadata": {
    "id": "x3-LaQj8Dy22",
    "outputId": "fadf0dbd-4c71-41bd-b759-968236a0a696"
   },
   "outputs": [],
   "source": [
    "numbers = [1, 2, 3]\n",
    "\n",
    "print(dir(numbers))\n"
   ]
  },
  {
   "cell_type": "code",
   "execution_count": null,
   "metadata": {},
   "outputs": [],
   "source": [
    "help(list.append)"
   ]
  },
  {
   "cell_type": "markdown",
   "metadata": {
    "id": "qAkLDrzDDy27"
   },
   "source": [
    "# divmod()"
   ]
  },
  {
   "cell_type": "markdown",
   "metadata": {
    "id": "Z7PAJz9RDy28"
   },
   "source": [
    "The divmod() method takes two numbers and returns a pair of numbers (a tuple) consisting of their quotient and remainder."
   ]
  },
  {
   "cell_type": "code",
   "execution_count": null,
   "metadata": {
    "id": "6V3UUIj-Dy29",
    "outputId": "51645660-aa7a-4d6d-b162-effe6e5db99b"
   },
   "outputs": [],
   "source": [
    "print(divmod(10, 3)) #print quotient and remainder as a tuple\n",
    "\n",
    "#try with other number\n"
   ]
  },
  {
   "cell_type": "markdown",
   "metadata": {
    "id": "3XcOj4ahDy3A"
   },
   "source": [
    "# enumerate()"
   ]
  },
  {
   "cell_type": "markdown",
   "metadata": {
    "id": "sPGIxThfDy3C"
   },
   "source": [
    "The enumerate() method adds counter to an iterable and returns it "
   ]
  },
  {
   "cell_type": "markdown",
   "metadata": {
    "id": "PsPTJ9w3Dy3C"
   },
   "source": [
    "syntax: enumerate(iterable, start=0)"
   ]
  },
  {
   "cell_type": "code",
   "execution_count": null,
   "metadata": {
    "id": "LzYe1WyTDy3E",
    "outputId": "d97df55a-531b-4f3f-c4b9-09053c31f337"
   },
   "outputs": [],
   "source": [
    "numbers = [10, 20, 30, 40]\n",
    "\n",
    "\n",
    "for index, num in enumerate(numbers,100):\n",
    "    print(\"index {0} has value {1}\".format(index, num))\n",
    "    "
   ]
  },
  {
   "cell_type": "markdown",
   "metadata": {
    "id": "Qv7BOrOjDy3I"
   },
   "source": [
    "# filter()"
   ]
  },
  {
   "cell_type": "markdown",
   "metadata": {
    "id": "K8_DVZ2uDy3J"
   },
   "source": [
    "The filter() method constructs an iterator from elements of an iterable for which a function returns true."
   ]
  },
  {
   "cell_type": "markdown",
   "metadata": {
    "id": "Xsq_-ITBDy3K"
   },
   "source": [
    "syntax: filter(function, iterable)"
   ]
  },
  {
   "cell_type": "code",
   "execution_count": null,
   "metadata": {
    "id": "-Nclc6WjDy3L"
   },
   "outputs": [],
   "source": [
    "def find_positive_number(num):\n",
    "    \"\"\"\n",
    "    This function returns the positive number if num is positive\n",
    "    \"\"\"\n",
    "    if num > 0:\n",
    "        return num\n",
    "    "
   ]
  },
  {
   "cell_type": "code",
   "execution_count": null,
   "metadata": {
    "id": "ef_Se6snDy3Q",
    "outputId": "8fb2019e-3862-47e5-ff75-8be51c7ca567"
   },
   "outputs": [],
   "source": [
    "number_list = range(-10, 10) #create a list with numbers from -10 to 10\n",
    "print(list(number_list))\n",
    "\n",
    "positive_num_lst = list(filter(find_positive_number, number_list))\n",
    "\n",
    "print(positive_num_lst)\n"
   ]
  },
  {
   "cell_type": "markdown",
   "metadata": {
    "id": "i1jHDq_5Dy3Z"
   },
   "source": [
    "# isinstance()"
   ]
  },
  {
   "cell_type": "markdown",
   "metadata": {
    "id": "eSZpUEYnDy3b"
   },
   "source": [
    "The isinstance() function checks if the object (first argument) is an instance or subclass of classinfo class (second argument)."
   ]
  },
  {
   "cell_type": "markdown",
   "metadata": {
    "id": "JYB_W3vfDy3e"
   },
   "source": [
    "syntax: isinstance(object, classinfo)"
   ]
  },
  {
   "cell_type": "code",
   "execution_count": null,
   "metadata": {
    "id": "JMAYKKXZDy3f",
    "outputId": "42dc66ee-8ee9-434e-c523-c35ed9653b09"
   },
   "outputs": [],
   "source": [
    "lst = [1, 2, 3, 4]\n",
    "print(isinstance(lst, list))\n",
    "\n",
    "#try with other datatypes tuple, set\n",
    "t = {1,2,3,4}\n",
    "print(isinstance(t, set))"
   ]
  },
  {
   "cell_type": "markdown",
   "metadata": {
    "id": "0SzHgv87Dy3k"
   },
   "source": [
    "# map()"
   ]
  },
  {
   "cell_type": "markdown",
   "metadata": {
    "id": "eAqVlxbtDy3m"
   },
   "source": [
    "Map applies a function to all the items in an input_list."
   ]
  },
  {
   "cell_type": "markdown",
   "metadata": {
    "id": "oHivUTbRDy3m"
   },
   "source": [
    "syntax: map(function_to_apply, list_of_inputs)"
   ]
  },
  {
   "cell_type": "code",
   "execution_count": null,
   "metadata": {
    "id": "YrzZKvFMDy3n",
    "outputId": "bdcc45b2-5a0e-43e7-be55-cc3749c03498"
   },
   "outputs": [],
   "source": [
    "numbers = [1, 2, 3, 4]\n",
    "\n",
    "#normal method of computing num^2 for each element in the list.\n",
    "squared = []\n",
    "for num in numbers:\n",
    "    squared.append(num ** 2)\n",
    "\n",
    "print(squared)\n"
   ]
  },
  {
   "cell_type": "code",
   "execution_count": null,
   "metadata": {
    "id": "SWKg9_nYDy3r",
    "outputId": "50395f75-d023-4dca-ca24-431a527e1e97"
   },
   "outputs": [],
   "source": [
    "numbers = [1, 2, 3, 4]\n",
    "\n",
    "def powerOfTwo(num):\n",
    "    return num ** 2\n",
    "\n",
    "#using map() function\n",
    "squared = list(map(powerOfTwo, numbers))\n",
    "print(squared)\n"
   ]
  },
  {
   "cell_type": "markdown",
   "metadata": {
    "id": "-ZZiI7m5Dy3t"
   },
   "source": [
    "# reduce()"
   ]
  },
  {
   "cell_type": "markdown",
   "metadata": {
    "id": "u_pxdMIcDy3v"
   },
   "source": [
    "reduce() function is for performing some computation on a list and returning the result. \n",
    "\n",
    "It applies a rolling computation to sequential pairs of values in a list. "
   ]
  },
  {
   "cell_type": "code",
   "execution_count": null,
   "metadata": {
    "id": "jqx-xAf7Dy3w",
    "outputId": "182c1097-2ed9-4197-bdaf-8b7866401a4d"
   },
   "outputs": [],
   "source": [
    "#product of elemnts in a list\n",
    "product = 1\n",
    "lst = [1, 2, 3, 4]\n",
    "\n",
    "# traditional program without reduce()\n",
    "for num in lst:\n",
    "    product *= num\n",
    "print(product)\n"
   ]
  },
  {
   "cell_type": "code",
   "execution_count": null,
   "metadata": {
    "id": "c-_BNfapDy3y",
    "outputId": "8858e5be-5ad5-4979-da7e-4ef51283a04d"
   },
   "outputs": [],
   "source": [
    "#with reduce()\n",
    "from functools import reduce # in Python 3.\n",
    "\n",
    "def multiply(x,y):\n",
    "    return x*y;\n",
    "\n",
    "product = reduce(multiply, lst)\n",
    "print(product)\n"
   ]
  },
  {
   "cell_type": "markdown",
   "metadata": {
    "id": "PlBjfKeLDy33"
   },
   "source": [
    "# 2. User-defined Functions"
   ]
  },
  {
   "cell_type": "markdown",
   "metadata": {
    "id": "-jG1cIkIDy33"
   },
   "source": [
    "Functions that we define ourselves to do certain specific task are referred as user-defined functions"
   ]
  },
  {
   "cell_type": "markdown",
   "metadata": {
    "id": "U0R-nQZEDy35"
   },
   "source": [
    "If we use functions written by others in the form of library, it can be termed as library functions."
   ]
  },
  {
   "cell_type": "markdown",
   "metadata": {
    "id": "qnW4EEEaDy36"
   },
   "source": [
    "# Advantages"
   ]
  },
  {
   "cell_type": "markdown",
   "metadata": {
    "id": "BuTGBpe_Dy36"
   },
   "source": [
    "1. User-defined functions help to decompose a large program into small segments which makes program easy to understand, maintain and debug.\n",
    "\n",
    "2. If repeated code occurs in a program. Function can be used to include those codes and execute when needed by calling that function.\n",
    "\n",
    "3. Programmars working on large project can divide the workload by making different functions."
   ]
  },
  {
   "cell_type": "markdown",
   "metadata": {
    "id": "bchAt3KsDy37"
   },
   "source": [
    "# Example:"
   ]
  },
  {
   "cell_type": "code",
   "execution_count": null,
   "metadata": {
    "id": "Bl7T01heDy3-",
    "outputId": "6dfc3c9d-6622-4219-9180-5367adb6b7b2"
   },
   "outputs": [],
   "source": [
    "def product_numbers(a, b):\n",
    "    \"\"\"\n",
    "    this function returns the product of two numbers\n",
    "    \"\"\"\n",
    "    product = a * b\n",
    "    return product\n",
    "\n",
    "num1 = 10\n",
    "num2 = 20\n",
    "print( \"product of {0} and {1} is {2} \".format(num1, num2, product_numbers(num1, num2)))"
   ]
  },
  {
   "cell_type": "markdown",
   "metadata": {
    "id": "3t1WqaakDy4B"
   },
   "source": [
    "# Python program to make a simple calculator that can add, subtract, multiply and division"
   ]
  },
  {
   "cell_type": "code",
   "execution_count": null,
   "metadata": {
    "id": "7VcPOrmLDy4E",
    "outputId": "31adb3c1-11dd-4316-a355-ae44a54acf42"
   },
   "outputs": [],
   "source": [
    "def add(a, b):\n",
    "    \"\"\"\n",
    "    This function adds two numbers\n",
    "    \"\"\"\n",
    "    return a + b\n",
    "\n",
    "def multiply(a, b):\n",
    "    \"\"\"\n",
    "    This function multiply two numbers\n",
    "    \"\"\"\n",
    "    return a * b\n",
    "\n",
    "def subtract(a, b):\n",
    "    \"\"\"\n",
    "    This function subtract two numbers\n",
    "    \"\"\"\n",
    "    return a - b\n",
    "\n",
    "def division(a, b):\n",
    "    \"\"\"\n",
    "    This function divides two numbers\n",
    "    \"\"\"\n",
    "    return a / b\n",
    "while True:\n",
    "    print(\"Select Option\")\n",
    "    print(\"1. Addition\")\n",
    "    print (\"2. Subtraction\")\n",
    "    print (\"3. Multiplication\")\n",
    "    print (\"4. Division\")\n",
    "\n",
    "    #take input from user\n",
    "    choice = int(input(\"Enter choice 1/2/3/4\"))\n",
    "\n",
    "    num1 = float(input(\"Enter first number:\"))\n",
    "    num2 = float(input(\"Enter second number:\"))\n",
    "    if choice == 1:\n",
    "        print(\"Addition of {0} and {1} is {2}\".format(num1, num2, add(num1, num2)))\n",
    "    elif choice == 2:\n",
    "        print(\"Subtraction of {0} and {1} is {2}\".format(num1, num2, subtract(num1, num2)))\n",
    "    elif choice == 3:\n",
    "        print(\"Multiplication of {0} and {1} is {2}\".format(num1, num2, multiply(num1, num2)))\n",
    "    elif choice == 4:\n",
    "        print(\"Division of {0} and {1} is {2}\".format(num1, num2, division(num1, num2)))\n",
    "    else:\n",
    "        print(\"Invalid Choice\")"
   ]
  },
  {
   "cell_type": "markdown",
   "metadata": {
    "id": "xkpauDXqJRw3"
   },
   "source": [
    "# Function Arguments\n"
   ]
  },
  {
   "cell_type": "code",
   "execution_count": null,
   "metadata": {
    "id": "AbKNcisrJRxJ",
    "outputId": "a44121ca-349d-4828-d266-ae4fd9e76b28"
   },
   "outputs": [],
   "source": [
    "def greet(name, msg):\n",
    "    \"\"\"\n",
    "    This function greets to person with the provided message\n",
    "    \"\"\"\n",
    "    print(\"Hello {0}, {1} \".format(name,msg))\n",
    "\n",
    "#call the function with arguments\n",
    "greet(\"Krishna\", \"Good Morning\")\n"
   ]
  },
  {
   "cell_type": "code",
   "execution_count": null,
   "metadata": {
    "id": "DdftwAr7JRxN",
    "outputId": "3019f116-b1d9-46a4-966d-b6a8c15b0dfd"
   },
   "outputs": [],
   "source": [
    "#suppose if we pass one argument\n",
    "\n",
    "greet(\"Krishna\") #will get an error\n"
   ]
  },
  {
   "cell_type": "markdown",
   "metadata": {
    "id": "BzHHwgCdJRxP"
   },
   "source": [
    "# Different Forms of Arguments"
   ]
  },
  {
   "cell_type": "markdown",
   "metadata": {
    "id": "CksOvu0JJRxQ"
   },
   "source": [
    "# 1. Default Arguments"
   ]
  },
  {
   "cell_type": "markdown",
   "metadata": {
    "id": "T23E9xJoJRxQ"
   },
   "source": [
    "We can provide a default value to an argument by using the assignment operator (=). "
   ]
  },
  {
   "cell_type": "code",
   "execution_count": null,
   "metadata": {
    "id": "CFAS8GZ7JRxR",
    "outputId": "911739c0-8c52-4ea9-8ac0-c06762a141c1"
   },
   "outputs": [],
   "source": [
    "def greet(name, msg=\"Good Morning\"):\n",
    "    \"\"\"\n",
    "    This function greets to person with the provided message\n",
    "    if message is not provided, it defaults to \"Good Morning\"\n",
    "    \"\"\"\n",
    "    print(\"Hello {0} , {1}\".format(name, msg))\n",
    "\n",
    "greet(\"Krishna\", \"Good Night\")\n"
   ]
  },
  {
   "cell_type": "code",
   "execution_count": null,
   "metadata": {
    "id": "L-VGeAvoJRxS",
    "outputId": "7dda33bb-7851-4cc9-c954-71e5ce0b005a"
   },
   "outputs": [],
   "source": [
    "#with out msg argument\n",
    "greet(\"Krishna\")\n"
   ]
  },
  {
   "cell_type": "markdown",
   "metadata": {
    "id": "3jJg69PgJRxU"
   },
   "source": [
    "Once we have a default argument, all the arguments to its right must also have default values."
   ]
  },
  {
   "source": [
    "def greet(msg=\"Good Morning\", name):\n",
    "    print(msg,name) \n",
    "\n",
    "#will get a SyntaxError : non-default argument follows default argument"
   ],
   "cell_type": "code",
   "metadata": {
    "id": "kvC03lIFJRxU"
   },
   "execution_count": null,
   "outputs": []
  },
  {
   "cell_type": "markdown",
   "metadata": {
    "id": "WDX2OrUKJRxV"
   },
   "source": [
    "# 2. Keyword Arguments"
   ]
  },
  {
   "cell_type": "markdown",
   "metadata": {
    "id": "Rt7Wjjk5JRxW"
   },
   "source": [
    "kwargs allows you to pass keyworded variable length of arguments to a function. You should use **kwargs if you want to handle named arguments in a function"
   ]
  },
  {
   "cell_type": "markdown",
   "metadata": {
    "id": "dSfi0ixQJRxW"
   },
   "source": [
    "# Example:"
   ]
  },
  {
   "cell_type": "code",
   "execution_count": null,
   "metadata": {
    "id": "hAyL0iPrJRxX",
    "outputId": "a394a81a-251f-46da-a83e-57304f65706b"
   },
   "outputs": [],
   "source": [
    "def greet(**kwargs):\n",
    "    \"\"\"\n",
    "    This function greets to person with the provided message\n",
    "    \"\"\"\n",
    "    if kwargs:\n",
    "        print(\"Hello {0} , {1}\".format(kwargs['name'], kwargs['msg']))\n",
    "greet(name=\"Krishna\", msg=\"Good Morning\",rollno=12,address=\"guntur\")\n",
    "#Basically you could pass in a dictionary here kwargs is a type of dictionary"
   ]
  },
  {
   "cell_type": "markdown",
   "metadata": {
    "id": "peD0sEQ2JRxY"
   },
   "source": [
    "# 3. Arbitary Arguments"
   ]
  },
  {
   "cell_type": "markdown",
   "metadata": {
    "id": "zcM0Px64JRxY"
   },
   "source": [
    "Sometimes, we do not know in advance the number of arguments that will be passed into a function.Python allows us to handle this kind of situation through function calls with arbitrary number of arguments."
   ]
  },
  {
   "cell_type": "markdown",
   "metadata": {
    "id": "FUyJdXVhJRxZ"
   },
   "source": [
    "# Example:"
   ]
  },
  {
   "cell_type": "code",
   "execution_count": null,
   "metadata": {
    "id": "LiwrfzBqJRxZ",
    "outputId": "4ab97bf2-b692-485b-ade6-5003e4aa866e"
   },
   "outputs": [],
   "source": [
    "def greet(*names):\n",
    "    \"\"\"\n",
    "    This function greets all persons in the names tuple \n",
    "    \"\"\"\n",
    "    print(names)\n",
    "    \n",
    "    for name in names:\n",
    "        print(\"Hello,  {0} \".format(name))\n",
    "\n",
    "greet(\"Krishna\", \"murali\", \"naveen\", \"srikanth\")\n",
    "#*args is upacked version of the tuple"
   ]
  },
  {
   "cell_type": "markdown",
   "metadata": {
    "id": "2un6HEflRbVI"
   },
   "source": [
    "# Recursion"
   ]
  },
  {
   "cell_type": "markdown",
   "metadata": {
    "id": "pouXX8gWRbVJ"
   },
   "source": [
    "We know that in Python, a function can call other functions. It is even possible for the function to call itself. These type of construct are termed as recursive functions."
   ]
  },
  {
   "cell_type": "markdown",
   "metadata": {
    "id": "ZVWIU4QvRbVK"
   },
   "source": [
    "# Example:"
   ]
  },
  {
   "cell_type": "code",
   "execution_count": null,
   "metadata": {
    "colab": {
     "base_uri": "https://localhost:8080/",
     "height": 34
    },
    "id": "mnaRd5dzRbVL",
    "outputId": "f6f3bc7b-195a-489d-dd0b-b4eca5ea55b6"
   },
   "outputs": [],
   "source": [
    "#python program to print factorial of a number using recurion\n",
    "#fac(n) = (n)*fac(n-1)\n",
    "def factorial(num):\n",
    "    \"\"\"\n",
    "    This is a recursive function to find the factorial of a given number\n",
    "    \"\"\"\n",
    "    return 1 if num == 1 else (num * factorial(num-1))\n",
    "\n",
    "num = 5\n",
    "print (\"Factorial of {0} is {1}\".format(num, factorial(num)))\n"
   ]
  },
  {
   "cell_type": "markdown",
   "metadata": {
    "id": "s2ewPFszRbVR"
   },
   "source": [
    "# Advantages"
   ]
  },
  {
   "cell_type": "markdown",
   "metadata": {
    "id": "Gl6k7MLLRbVR"
   },
   "source": [
    "1. Recursive functions make the code look clean and elegant.\n",
    "\n",
    "2. A complex task can be broken down into simpler sub-problems using recursion.\n",
    "\n",
    "3. Sequence generation is easier with recursion than using some nested iteration.\n"
   ]
  },
  {
   "cell_type": "markdown",
   "metadata": {
    "id": "tZh9p_qrRbVS"
   },
   "source": [
    "# Disadvantages"
   ]
  },
  {
   "cell_type": "markdown",
   "metadata": {
    "id": "lzJRnnfdRbVT"
   },
   "source": [
    "1. Sometimes the logic behind recursion is hard to follow through.\n",
    "\n",
    "2. Recursive calls are expensive (inefficient) as they take up a lot of memory and time.\n",
    "\n",
    "3. Recursive functions are hard to debug.\n"
   ]
  },
  {
   "cell_type": "markdown",
   "metadata": {
    "id": "wSEYBp_BRbVU"
   },
   "source": [
    "# Python program to display the fibonacci sequence up to n-th term using recursive function"
   ]
  },
  {
   "cell_type": "code",
   "execution_count": null,
   "metadata": {
    "id": "598cYHQ3RbVW",
    "outputId": "ce16556a-3444-4c1f-8180-478d41583dac"
   },
   "outputs": [],
   "source": [
    "def fibonacci(num):\n",
    "    \"\"\"\n",
    "    Recursive function to print fibonacci sequence\n",
    "    \"\"\"\n",
    "    return num if num <= 1 else fibonacci(num-1) + fibonacci(num-2)\n",
    "\n",
    "nterms = 10\n",
    "print(\"Fibonacci sequence\")\n",
    "for num in range(nterms):\n",
    "    print(fibonacci(num))\n",
    "#nth = n-1th + n-2th"
   ]
  },
  {
   "cell_type": "markdown",
   "metadata": {
    "id": "9hwg-SFGkuwl"
   },
   "source": [
    "# Anonymous / Lambda Function"
   ]
  },
  {
   "cell_type": "markdown",
   "metadata": {
    "id": "T968WlfYkuwn"
   },
   "source": [
    "In Python, anonymous function is a function that is defined without a name.\n",
    "\n",
    "While normal functions are defined using the def keyword, in Python anonymous functions are defined using the lambda keyword.\n",
    "\n",
    "Lambda functions are used extensively along with built-in functions like filter(), map()"
   ]
  },
  {
   "cell_type": "markdown",
   "metadata": {
    "id": "W1J2Es82kuwp"
   },
   "source": [
    "syntax:\n",
    "    \n",
    "    lambda arguments: expression"
   ]
  },
  {
   "cell_type": "markdown",
   "metadata": {
    "id": "ELGfMrUQkuwq"
   },
   "source": [
    "# Example:"
   ]
  },
  {
   "cell_type": "code",
   "execution_count": null,
   "metadata": {
    "colab": {
     "base_uri": "https://localhost:8080/",
     "height": 34
    },
    "id": "uPnqlXPkkuws",
    "outputId": "d7ee377f-ff25-4c45-ca42-dab7a182ea16"
   },
   "outputs": [],
   "source": [
    "double = lambda x: x*2\n",
    "\n",
    "print(double(5))\n"
   ]
  },
  {
   "cell_type": "code",
   "execution_count": null,
   "metadata": {
    "colab": {
     "base_uri": "https://localhost:8080/",
     "height": 34
    },
    "id": "E9CTFNv9kuw4",
    "outputId": "abea0398-f992-4042-fa77-c577b9ce3324"
   },
   "outputs": [],
   "source": [
    "def double(x):\n",
    "    return x * 2\n",
    "\n",
    "print(double(5))\n"
   ]
  },
  {
   "cell_type": "code",
   "execution_count": null,
   "metadata": {
    "colab": {
     "base_uri": "https://localhost:8080/",
     "height": 34
    },
    "id": "aahzcZxlkuw_",
    "outputId": "bc549d06-82d1-496f-ea3a-949aa2a80361"
   },
   "outputs": [],
   "source": [
    "#Example use with filter()\n",
    "lst = [1, 2, 3, 4, 5]\n",
    "even_lst = list(filter(lambda x: (x%2 == 0), lst))\n",
    "print(even_lst)\n"
   ]
  },
  {
   "cell_type": "code",
   "execution_count": null,
   "metadata": {
    "colab": {
     "base_uri": "https://localhost:8080/",
     "height": 34
    },
    "id": "F9yMVkN7kuxE",
    "outputId": "292da7a6-2e1e-4901-f2e6-378ba5c5a8c5"
   },
   "outputs": [],
   "source": [
    "#Example use with map()\n",
    "lst = [1, 2, 3, 4, 5]\n",
    "new_lst = list(map(lambda x: x ** 2, lst))\n",
    "print(new_lst)\n"
   ]
  },
  {
   "cell_type": "code",
   "execution_count": null,
   "metadata": {
    "id": "HtOP0Q31kuxM",
    "outputId": "7d8689c8-2030-4e9e-974d-cc72369a678a"
   },
   "outputs": [],
   "source": [
    "#Example use with reduce()\n",
    "from functools import reduce\n",
    "\n",
    "lst = [1, 2, 3, 4, 5]\n",
    "product_lst = reduce(lambda x, y: x*y, lst)\n",
    "print(product_lst)\n"
   ]
  },
  {
   "cell_type": "markdown",
   "metadata": {
    "id": "NDrXKN-NHeYR"
   },
   "source": [
    "# Modules"
   ]
  },
  {
   "cell_type": "markdown",
   "metadata": {
    "id": "i0AVpPtvHeYU"
   },
   "source": [
    "Modules refer to a file containing Python statements and definitions.\n",
    "\n",
    "A file containing Python code, for e.g.: abc.py, is called a module and its module name would be \"abc\"."
   ]
  },
  {
   "cell_type": "markdown",
   "metadata": {
    "id": "Cncmoy9XHeYW"
   },
   "source": [
    "We use modules to break down large programs into small manageable and organized files. Furthermore, modules provide reusability of code.\n",
    "\n",
    "We can define our most used functions in a module and import it, instead of copying their definitions into different programs."
   ]
  },
  {
   "cell_type": "markdown",
   "metadata": {
    "id": "OMq5zEJZHeYY"
   },
   "source": [
    "# How to import a module?"
   ]
  },
  {
   "cell_type": "markdown",
   "metadata": {
    "id": "-BZo1veLHeYa"
   },
   "source": [
    "We use the import keyword to do this."
   ]
  },
  {
   "cell_type": "code",
   "execution_count": null,
   "metadata": {
    "id": "LkdtsKI-HeYb"
   },
   "outputs": [],
   "source": [
    "import example#imported example module\n"
   ]
  },
  {
   "cell_type": "markdown",
   "metadata": {
    "id": "8QYfvfCiHeYh"
   },
   "source": [
    "Using the module name we can access the function using dot (.) operation."
   ]
  },
  {
   "cell_type": "code",
   "execution_count": null,
   "metadata": {},
   "outputs": [],
   "source": [
    "example.greatanxiety()"
   ]
  },
  {
   "cell_type": "code",
   "execution_count": null,
   "metadata": {
    "id": "4aS7F29GHeYk",
    "outputId": "6283c968-e7a6-4450-de6a-94abff22feff"
   },
   "outputs": [],
   "source": [
    "example.add(10,20,30,87)"
   ]
  },
  {
   "cell_type": "markdown",
   "metadata": {
    "id": "UzrMkOH9HeYs"
   },
   "source": [
    "Python has a lot of standard modules available.\n",
    "\n",
    "https://docs.python.org/3/py-modindex.html "
   ]
  },
  {
   "cell_type": "markdown",
   "metadata": {
    "id": "k-zR_tU7HeYs"
   },
   "source": [
    "# Examples:"
   ]
  },
  {
   "cell_type": "code",
   "execution_count": null,
   "metadata": {
    "id": "dRUqBrXjHeYt",
    "outputId": "add83409-8085-4540-b91b-be5580a6a8c3"
   },
   "outputs": [],
   "source": [
    "import math\n",
    "print(math.pi)\n"
   ]
  },
  {
   "cell_type": "code",
   "execution_count": null,
   "metadata": {
    "id": "wr-Jyr-cHeY1",
    "outputId": "438ed43d-8c18-4da3-e929-1c4c1676ba5c"
   },
   "outputs": [],
   "source": [
    "import datetime\n",
    "datetime.datetime.now()\n"
   ]
  },
  {
   "cell_type": "markdown",
   "metadata": {
    "id": "34mCV3oJHeY4"
   },
   "source": [
    "# import with renaming"
   ]
  },
  {
   "cell_type": "code",
   "execution_count": null,
   "metadata": {
    "id": "BljTPvmRHeY5",
    "outputId": "c1213478-fa22-4cc8-cc8a-d6073e5afb1d"
   },
   "outputs": [],
   "source": [
    "import math as m\n",
    "print(m.pi)\n"
   ]
  },
  {
   "cell_type": "markdown",
   "metadata": {
    "id": "Yck3dGWaHeY-"
   },
   "source": [
    "# from...import statement"
   ]
  },
  {
   "cell_type": "markdown",
   "metadata": {
    "id": "PgxZkgecHeY_"
   },
   "source": [
    "We can import specific names form a module without importing the module as a whole."
   ]
  },
  {
   "cell_type": "code",
   "execution_count": null,
   "metadata": {
    "id": "SAgwJxMuHeZA",
    "outputId": "1c5c83bd-525f-483d-95dd-5813d922912b"
   },
   "outputs": [],
   "source": [
    "from datetime import datetime \n",
    "datetime.now()\n"
   ]
  },
  {
   "cell_type": "markdown",
   "metadata": {
    "id": "3FKKbMKCHeZL"
   },
   "source": [
    "# import all names"
   ]
  },
  {
   "cell_type": "code",
   "execution_count": null,
   "metadata": {
    "id": "OvEe2dxZHeZM",
    "outputId": "42a14832-f267-4af1-b712-79c1d099a760"
   },
   "outputs": [],
   "source": [
    "from math import *\n",
    "print(\"Value of PI is \" + str(pi))\n"
   ]
  },
  {
   "cell_type": "markdown",
   "metadata": {
    "id": "dPVCLPyQHeZR"
   },
   "source": [
    "# dir() built in function"
   ]
  },
  {
   "cell_type": "markdown",
   "metadata": {
    "id": "EPRn9wTiHeZT"
   },
   "source": [
    "We can use the dir() function to find out names that are defined inside a module."
   ]
  },
  {
   "cell_type": "code",
   "execution_count": null,
   "metadata": {
    "id": "T9PeK-KxHeZX",
    "outputId": "ecdf1d42-e747-4e27-9a5a-5811ea885c97"
   },
   "outputs": [],
   "source": [
    "dir(example)\n"
   ]
  },
  {
   "cell_type": "code",
   "execution_count": null,
   "metadata": {
    "id": "1vvA0aSwHeZb",
    "outputId": "61b9e1ff-5334-4103-8a62-b4e40ae61002"
   },
   "outputs": [],
   "source": [
    "print(example.add.__doc__)\n"
   ]
  },
  {
   "cell_type": "code",
   "execution_count": null,
   "metadata": {},
   "outputs": [],
   "source": [
    "dir(math)"
   ]
  }
 ],
 "metadata": {
  "colab": {
   "name": "Functions_Introduction.ipynb",
   "provenance": []
  },
  "kernelspec": {
   "name": "python391jvsc74a57bd007763b07dd345df0df90bde52633d3222b7832c508eb3fe4f46b49a6924c5a83",
   "display_name": "Python 3.9.1 64-bit"
  },
  "language_info": {
   "codemirror_mode": {
    "name": "ipython",
    "version": 3
   },
   "file_extension": ".py",
   "mimetype": "text/x-python",
   "name": "python",
   "nbconvert_exporter": "python",
   "pygments_lexer": "ipython3",
   "version": "3.9.1"
  },
  "metadata": {
   "interpreter": {
    "hash": "07763b07dd345df0df90bde52633d3222b7832c508eb3fe4f46b49a6924c5a83"
   }
  }
 },
 "nbformat": 4,
 "nbformat_minor": 1
}